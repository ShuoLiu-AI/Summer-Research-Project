{
 "cells": [
  {
   "cell_type": "code",
   "execution_count": 1,
   "metadata": {},
   "outputs": [],
   "source": [
    "import meep as mp\n",
    "import numpy as np\n",
    "import math\n",
    "import matplotlib.pyplot as plt\n",
    "import pickle\n",
    "from numpy import cos, sin\n",
    "import json"
   ]
  },
  {
   "cell_type": "markdown",
   "metadata": {},
   "source": [
    "# create geometric and write it to a file"
   ]
  },
  {
   "cell_type": "markdown",
   "metadata": {},
   "source": [
    "generate random numbers"
   ]
  },
  {
   "cell_type": "code",
   "execution_count": 10,
   "metadata": {},
   "outputs": [],
   "source": [
    "np.random.seed(15)\n",
    "\n",
    "num_crystal = 190\n",
    "\n",
    "a = 5. # shape\n",
    "\n",
    "size_cell_l = [2, 2, 2]\n",
    "size_solid_l = [1, 1, 1]\n",
    "size_crystal_base = [0.1, 0.1, 0.1]\n",
    "size_crystal_l = np.random.weibull(a, (num_crystal, 3))\n",
    "for i in range(3):\n",
    "    size_crystal_l[:, i] *= size_crystal_base[i]\n",
    "\n",
    "size_cell = mp.Vector3(*size_cell_l)\n",
    "size_solid = mp.Vector3(*size_solid_l)\n",
    "\n",
    "size_crystal = []\n",
    "for i in range(num_crystal):\n",
    "    size_crystal.append(mp.Vector3(*size_crystal_l[i, :]))\n",
    "\n",
    "solid_region = mp.Block(size_solid, \n",
    "                    center = mp.Vector3(0, 0, 0),\n",
    "                    material=mp.Medium(epsilon=6))\n",
    "\n",
    "mean= (0, 0, 0)\n",
    "cov = [[0.1, 0, 0], [0, 0.1, 0], [0, 0, 0.1]]\n",
    "loc = np.random.multivariate_normal(mean, cov, (num_crystal))\n",
    "loc = np.random.uniform(-size_solid_l[0]/2, size_solid_l[0]/2, (num_crystal, 3))\n",
    "theta_x = np.random.uniform(0, 2*np.pi, num_crystal)\n",
    "theta_y = np.random.uniform(0, 2*np.pi, num_crystal)\n",
    "theta_z = np.random.uniform(0, 2*np.pi, num_crystal)"
   ]
  },
  {
   "cell_type": "markdown",
   "execution_count": null,
   "metadata": {},
   "outputs": [],
   "source": []
  },
  {
   "cell_type": "code",
   "execution_count": 11,
   "metadata": {},
   "outputs": [],
   "source": [
    "R = np.empty((num_crystal, 3, 3))\n",
    "\n",
    "Rx_matrix = np.empty((num_crystal, 3, 3))\n",
    "Ry_matrix = np.empty((num_crystal, 3, 3))\n",
    "Rz_matrix = np.empty((num_crystal, 3, 3))\n",
    "\n",
    "for i in range(num_crystal):\n",
    "    Rx_matrix[i, :, :] = np.array([[1, 0, 0],\n",
    "                   [0, cos(theta_x[i]), -sin(theta_x[i])], \n",
    "                  [0, sin(theta_x[i]), cos(theta_x[i])]])\n",
    "    \n",
    "    Ry_matrix[i, :, :] = np.array([[cos(theta_y[i]), 0, sin(theta_y[i])], \n",
    "                  [0, 1, 0],\n",
    "                  [-sin(theta_y[i]), 0, cos(theta_y[i])]])\n",
    "    \n",
    "    Rz_matrix[i, :, :] = np.array([[cos(theta_z[i]), -sin(theta_z[i]), 0],\n",
    "                 [sin(theta_z[i]), cos(theta_z[i]), 0],\n",
    "                 [0, 0, 1]])\n",
    "\n",
    "    R[i, :, :] = np.matmul(np.matmul(Ry_matrix[i, :, :], Rx_matrix[i, :, :]), Rz_matrix[i, :, :])\n",
    "\n",
    "\n",
    "og_x = np.array([[1, 0, 0] for i in range(num_crystal)])\n",
    "og_y = np.array([[0, 1, 0] for i in range(num_crystal)])\n",
    "og_z = np.array([[0, 0, 1] for i in range(num_crystal)])\n",
    "\n",
    "Rx_vector = np.empty((num_crystal, 3))\n",
    "Ry_vector = np.empty((num_crystal, 3))\n",
    "Rz_vector = np.empty((num_crystal, 3))\n",
    "\n",
    "for i in range(num_crystal):\n",
    "    Rx_vector[i, :] = np.matmul(R[i, :, :], og_x[i, :])\n",
    "    Ry_vector[i, :] = np.matmul(R[i, :, :], og_y[i, :])\n",
    "    Rz_vector[i, :] = np.matmul(R[i, :, :], og_z[i, :])\n",
    "\n"
   ]
  },
  {
   "cell_type": "code",
   "execution_count": 52,
   "metadata": {},
   "outputs": [],
   "source": [
    "export_geo = True\n",
    "\n",
    "if export_geo:\n",
    "    file_name = 'geometry.peter'\n",
    "    to_write = [num_crystal, size_solid_l, size_crystal_l, loc, theta_x, theta_y, theta_z]\n",
    "    for i in range(len(to_write)):\n",
    "        if type(to_write[i]) is not int and type(to_write[i]) is not list:\n",
    "            to_write[i] = to_write[i].tolist()\n",
    "    with open(file_name, 'w') as f:\n",
    "        json.dump(to_write, f)\n",
    "\n",
    "#\\\\ad.monash.edu\\home\\User045\\dche145\\Documents\\Abaqus\\geometry_shapes\n",
    "#\\\\Client\\D$\\source\\working_with_meep"
   ]
  },
  {
   "cell_type": "markdown",
   "metadata": {},
   "source": [
    "Create the visualization for visual inspection"
   ]
  },
  {
   "cell_type": "code",
   "execution_count": 24,
   "metadata": {},
   "outputs": [
    {
     "name": "stdout",
     "output_type": "stream",
     "text": "-----------\nInitializing structure...\ntime for choose_chunkdivision = 0.000535011 s\nWorking in 3D dimensions.\nComputational cell is 2 x 2 x 2 with resolution 100\nblock, center = (0,0,0)\n          size (1,1,1)\n          axes (1,0,0), (0,1,0), (0,0,1)\n          dielectric constant epsilon diagonal = (1,1,1)\nblock, center = (0,0.1,0.2)\n          size (0.2,0.2,0.2)\n          axes (1,0,0), (0,1,0), (0,0,1)\n          dielectric constant epsilon diagonal = (10.5,10.5,10.5)\ntime for set_epsilon = 14.0367 s\n-----------\n"
    }
   ],
   "source": [
    "pml_layers = [mp.PML(0.3)]\n",
    "\n",
    "geometry = [mp.Block((1.0,1.0,1.0), \n",
    "                    center = mp.Vector3(0, 0, 0),\n",
    "                    material=mp.Medium(epsilon=1))\n",
    ",]\n",
    "\n",
    "geometry.append(mp.Block(\n",
    "            mp.Vector3(0.2, 0.2, 0.2),\n",
    "            center = mp.Vector3(0.0, 0.1, 0.2),\n",
    "            material=mp.Medium(epsilon=10.5)))\n",
    "source_pad = 0.25\n",
    "source = [mp.Source(mp.ContinuousSource(wavelength=2*(11**0.5), width=20),\n",
    "                   component=mp.Ez,\n",
    "                   center=mp.Vector3(0.75, 0, 0),\n",
    "                   size=mp.Vector3(0, 0.1, 0.1))]\n",
    "sim = mp.Simulation(resolution=100,\n",
    "                    cell_size=size_cell,\n",
    "                    boundary_layers=pml_layers,\n",
    "                    sources = source,\n",
    "                    geometry=geometry)\n",
    "sim.init_sim()\n",
    "eps_data = sim.get_epsilon()\n",
    "\n",
    "show_3d_geo = False\n",
    "if show_3d_geo:\n",
    "    from mayavi import mlab\n",
    "    s = mlab.contour3d(eps_data, colormap=\"YlGnBu\")\n",
    "    mlab.show()"
   ]
  },
  {
   "cell_type": "markdown",
   "metadata": {},
   "source": [
    "cheeky run of the geometry"
   ]
  },
  {
   "cell_type": "code",
   "execution_count": 65,
   "metadata": {},
   "outputs": [
    {
     "ename": "NameError",
     "evalue": "name 'voronoi_plot_3d' is not defined",
     "output_type": "error",
     "traceback": [
      "\u001b[0;31m---------------------------------------------------------------------------\u001b[0m",
      "\u001b[0;31mNameError\u001b[0m                                 Traceback (most recent call last)",
      "\u001b[0;32m<ipython-input-65-85cf7dd02472>\u001b[0m in \u001b[0;36m<module>\u001b[0;34m\u001b[0m\n\u001b[1;32m      4\u001b[0m \u001b[0mvor\u001b[0m \u001b[0;34m=\u001b[0m \u001b[0mVoronoi\u001b[0m\u001b[0;34m(\u001b[0m\u001b[0mpoints\u001b[0m\u001b[0;34m)\u001b[0m\u001b[0;34m\u001b[0m\u001b[0;34m\u001b[0m\u001b[0m\n\u001b[1;32m      5\u001b[0m \u001b[0;32mimport\u001b[0m \u001b[0mmatplotlib\u001b[0m\u001b[0;34m.\u001b[0m\u001b[0mpyplot\u001b[0m \u001b[0;32mas\u001b[0m \u001b[0mplt\u001b[0m\u001b[0;34m\u001b[0m\u001b[0;34m\u001b[0m\u001b[0m\n\u001b[0;32m----> 6\u001b[0;31m \u001b[0mvoronoi_plot_3d\u001b[0m\u001b[0;34m(\u001b[0m\u001b[0mvor\u001b[0m\u001b[0;34m)\u001b[0m\u001b[0;34m\u001b[0m\u001b[0;34m\u001b[0m\u001b[0m\n\u001b[0m\u001b[1;32m      7\u001b[0m \u001b[0mplt\u001b[0m\u001b[0;34m.\u001b[0m\u001b[0mshow\u001b[0m\u001b[0;34m(\u001b[0m\u001b[0;34m)\u001b[0m\u001b[0;34m\u001b[0m\u001b[0;34m\u001b[0m\u001b[0m\n",
      "\u001b[0;31mNameError\u001b[0m: name 'voronoi_plot_3d' is not defined"
     ]
    }
   ],
   "source": [
    "points = np.array([[0, 0], [0, 1], [0, 2], [1, 0], [1, 1], [1, 2],\n",
    "                   [2, 0], [2, 1], [2, 2]])\n",
    "from scipy.spatial import Voronoi, voronoi_plot_2d\n",
    "vor = Voronoi(points)\n",
    "import matplotlib.pyplot as plt\n",
    "voronoi_plot_3d(vor)\n",
    "plt.show()"
   ]
  },
  {
   "cell_type": "code",
   "execution_count": 23,
   "metadata": {},
   "outputs": [
    {
     "name": "stdout",
     "output_type": "stream",
     "text": "creating output file \"./eps-000000200.h5\"...\ncreating output file \"./row_col_test.h5\"...\non time step 200 (time=1), 0.445471 s/step\nMeep progress: 0.040000000000000036/2.0 = 2.0% done in 4.0s, 197.3s to go\non time step 216 (time=1.08), 0.252211 s/step\nMeep progress: 0.1200000000000001/2.0 = 6.0% done in 8.1s, 127.4s to go\non time step 232 (time=1.16), 0.253827 s/step\nMeep progress: 0.19999999999999996/2.0 = 10.0% done in 12.2s, 109.4s to go\non time step 249 (time=1.245), 0.245319 s/step\nMeep progress: 0.2849999999999999/2.0 = 14.2% done in 16.2s, 97.8s to go\non time step 266 (time=1.33), 0.240982 s/step\nMeep progress: 0.3700000000000001/2.0 = 18.5% done in 20.4s, 89.8s to go\non time step 283 (time=1.415), 0.243934 s/step\nMeep progress: 0.45500000000000007/2.0 = 22.8% done in 24.5s, 83.2s to go\non time step 300 (time=1.5), 0.242757 s/step\nMeep progress: 0.54/2.0 = 27.0% done in 28.7s, 77.5s to go\non time step 316 (time=1.58), 0.255226 s/step\nMeep progress: 0.6000000000000001/2.0 = 30.0% done in 33.3s, 77.7s to go\non time step 326 (time=1.63), 0.411415 s/step\nMeep progress: 0.6799999999999999/2.0 = 34.0% done in 37.5s, 72.8s to go\non time step 342 (time=1.71), 0.260295 s/step\nMeep progress: 0.7650000000000001/2.0 = 38.3% done in 41.7s, 67.3s to go\non time step 359 (time=1.795), 0.241858 s/step\nMeep progress: 0.8500000000000001/2.0 = 42.5% done in 45.9s, 62.0s to go\non time step 376 (time=1.88), 0.242693 s/step\nMeep progress: 0.935/2.0 = 46.8% done in 50.0s, 57.0s to go\non time step 393 (time=1.965), 0.247229 s/step\nrun 1 finished at t = 2.0 (400 timesteps)\n"
    }
   ],
   "source": [
    "sim.run(mp.at_beginning(mp.output_epsilon), \n",
    "       mp.to_appended(\"row_col_test\", mp.at_every(0.6, mp.output_efield_z)),\n",
    "       until=0.1)"
   ]
  },
  {
   "cell_type": "markdown",
   "metadata": {},
   "source": [
    "visulization of the output field"
   ]
  },
  {
   "cell_type": "code",
   "execution_count": 38,
   "metadata": {},
   "outputs": [
    {
     "name": "stdout",
     "output_type": "stream",
     "text": [
      "(100, 100, 100)\n",
      "ez                       Dataset {100, 100, 100, 333/Inf}\n",
      "h5topng error: invalid colormap file\n"
     ]
    }
   ],
   "source": [
    "# ez_data = sim.get_array(center=mp.Vector3(), size=size_cell, component=mp.Ez)\n",
    "# print(ez_data.shape)\n",
    "get_gif_out = False\n",
    "\n",
    "if get_gif_out:\n",
    "    !h5ls ez.h5\n",
    "    !mkdir temp\n",
    "    !mv eps-000000.00.h5 temp/eps-000000.00.h5\n",
    "    !mv ez.h5 temp/ez.h5\n",
    "    import os\n",
    "    os.chdir('temp')\n",
    "    !h5topng -z 20 -t 0:332 -R -Zc dkbluered -a yarg -A eps-000000.00.h5 ez.h5\n",
    "    !convert ez.t*.png ez.gif\n",
    "    os.chdir('..')"
   ]
  },
  {
   "cell_type": "code",
   "execution_count": null,
   "metadata": {},
   "outputs": [],
   "source": []
  }
 ],
 "metadata": {
  "kernelspec": {
   "display_name": "Python 3.7.3 64-bit ('mp': conda)",
   "language": "python",
   "name": "python37364bitmpcondabd11d9e164314ef4a46c0e76fc56242b"
  },
  "language_info": {
   "codemirror_mode": {
    "name": "ipython",
    "version": 3
   },
   "file_extension": ".py",
   "mimetype": "text/x-python",
   "name": "python",
   "nbconvert_exporter": "python",
   "pygments_lexer": "ipython3",
   "version": "3.7.3-final"
  }
 },
 "nbformat": 4,
 "nbformat_minor": 2
}