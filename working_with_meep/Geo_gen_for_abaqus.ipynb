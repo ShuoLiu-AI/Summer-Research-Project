{
 "cells": [
  {
   "cell_type": "code",
   "execution_count": 1,
   "metadata": {},
   "outputs": [],
   "source": [
    "import numpy as np\n",
    "import matplotlib as plt\n",
    "import pickle"
   ]
  },
  {
   "cell_type": "code",
   "execution_count": 5,
   "metadata": {},
   "outputs": [],
   "source": [
    "file_name = 'geometry.peter'\n",
    "with open(file_name, 'rb') as f:\n",
    "    read_out = pickle.load(f)\n",
    "    loc = read_out[0]\n",
    "    Rx = read_out[1]\n",
    "    Ry = read_out[2]\n",
    "    Rz = read_out[3]\n",
    "\n",
    "np.random.seed(15)\n",
    "\n",
    "mean= (0, 0, 0)\n",
    "cov = [[0.1, 0, 0], [0, 0.1, 0], [0, 0, 0.1]]\n",
    "num_crystal = 10\n",
    "loc = np.random.multivariate_normal(mean, cov, (num_crystal))\n",
    "theta_x = np.random.uniform(0, 2*np.pi, num_crystal)\n",
    "theta_y = np.random.uniform(0, 2*np.pi, num_crystal)\n",
    "theta_z = np.random.uniform(0, 2*np.pi, num_crystal)\n",
    "\n",
    "axis_points_x = [[1, 0, 0] for i in range(num_crystal)]\n",
    "axis_points_y = [[0, 1, 0] for i in range(num_crystal)]\n",
    "axis_points_z = [[0, 0, 1] for i in range(num_crystal)]\n",
    "\n",
    "axis_dir_x = [[-1, 0, 0] for i in range(num_crystal)]\n",
    "axis_dir_y = [[0, -1, 0] for i in range(num_crystal)]\n",
    "axis_dir_z = [[0, 0, -1] for i in range(num_crystal)]\n"
   ]
  },
  {
   "cell_type": "code",
   "execution_count": 6,
   "metadata": {},
   "outputs": [
    {
     "data": {
      "text/plain": [
       "array([[-0.16986842,  0.84620451, -0.50505707],\n",
       "       [-0.88310843, -0.28349796,  0.37382938],\n",
       "       [-0.40933549, -0.76679674, -0.49443626],\n",
       "       [-0.90468605, -0.12438273, -0.40751944],\n",
       "       [-0.73699696,  0.63448469,  0.23294776],\n",
       "       [-0.21605779,  0.539846  , -0.81356335],\n",
       "       [-0.4879235 , -0.87253598, -0.02473105],\n",
       "       [ 0.60706298, -0.08437467, -0.79016166],\n",
       "       [ 0.56960935, -0.12627807,  0.81215703],\n",
       "       [-0.04976918,  0.91667121, -0.39653111]])"
      ]
     },
     "execution_count": 6,
     "metadata": {},
     "output_type": "execute_result"
    }
   ],
   "source": [
    "for i in range(num_crystal):\n",
    "    pyrite_parts[i].translate((0, -pyrite_parts[i].dim/2, 0))\n",
    "    #translate the crystals to the origin\n",
    "\n",
    "for i in range(num_crystal):\n",
    "    #rotate the crystals\n",
    "    assembly.rotate(instanceList=('pyrite'+str(i+1)), axisPoint=axis_points_x[i], \n",
    "    axisDirection=axis_dir_x[i], angle=theta_x[i])\n",
    "    axis_points_x[i] = np.matmul(Rx[i], axis_points_x[i])\n",
    "    axis_points_y[i] = np.matmul(Rx[i], axis_points_y[i])\n",
    "    axis_points_z[i] = np.matmul(Rx[i], axis_points_z[i])\n",
    "    assembly.rotate(instanceList=('pyrite'+str(i+1)), axisPoint=axis_points_y[i], \n",
    "    axisDirection=axis_dir_y[i], angle=theta_y[i])\n",
    "    axis_points_x[i] = np.matmul(Ry[i], axis_points_x[i])\n",
    "    axis_points_y[i] = np.matmul(Ry[i], axis_points_y[i])\n",
    "    axis_points_z[i] = np.matmul(Ry[i], axis_points_z[i])\n",
    "    assembly.rotate(instanceList=('pyrite'+str(i+1)), axisPoint=axis_points_z[i], \n",
    "    axisDirection=axis_dir_z[i], angle=theta_z[i])\n",
    "    axis_points_x[i] = np.matmul(Rz[i], axis_points_x[i])\n",
    "    axis_points_y[i] = np.matmul(Rz[i], axis_points_y[i])\n",
    "    axis_points_z[i] = np.matmul(Rz[i], axis_points_z[i])\n",
    "\n",
    "for i in range(num_crystal):\n",
    "    #translate the crystals to the desired location\n",
    "    pyrite_parts[i].translate(loc[i])\n",
    "\n",
    "\n"
   ]
  }
 ],
 "metadata": {
  "kernelspec": {
   "display_name": "Python 3",
   "language": "python",
   "name": "python3"
  },
  "language_info": {
   "codemirror_mode": {
    "name": "ipython",
    "version": 3
   },
   "file_extension": ".py",
   "mimetype": "text/x-python",
   "name": "python",
   "nbconvert_exporter": "python",
   "pygments_lexer": "ipython3",
   "version": "3.7.4"
  }
 },
 "nbformat": 4,
 "nbformat_minor": 2
}