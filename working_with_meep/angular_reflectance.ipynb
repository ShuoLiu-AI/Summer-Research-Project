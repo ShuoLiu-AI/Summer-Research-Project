{
 "cells": [
  {
   "cell_type": "code",
   "execution_count": 1,
   "metadata": {},
   "outputs": [],
   "source": [
    "import meep as mp\n",
    "import argparse\n",
    "import math"
   ]
  },
  {
   "cell_type": "code",
   "execution_count": 8,
   "metadata": {},
   "outputs": [],
   "source": [
    "\n",
    "resolution = 200\n",
    "theta = 0\n",
    "\n",
    "dpml = 1.0              # PML thickness\n",
    "sz = 10                 # size of cell (without PMLs)\n",
    "sz = 10 + 2*dpml\n",
    "cell_size = mp.Vector3(0,0,sz)\n",
    "pml_layers = [mp.PML(dpml)]\n",
    "\n",
    "wvl_min = 0.4           # min wavelength\n",
    "wvl_max = 0.8           # max wavelength\n",
    "fmin = 1/wvl_max        # min frequency\n",
    "fmax = 1/wvl_min        # max frequency\n",
    "fcen = 0.5*(fmin+fmax)  # center frequency\n",
    "df = fmax-fmin          # frequency width\n",
    "nfreq = 50              # number of frequency bins\n",
    "\n",
    "# rotation angle (in degrees) of source: CCW around Y axis, 0 degrees along +Z axis\n",
    "theta_r = math.radians(theta)\n",
    "\n",
    "# plane of incidence is xz\n",
    "k = mp.Vector3(math.sin(theta_r),0,math.cos(theta_r)).scale(fmin)\n",
    "\n",
    "# if normal incidence, force number of dimensions to be 1\n",
    "if theta_r == 0:\n",
    "    dimensions = 1\n",
    "else:\n",
    "    dimensions = 3"
   ]
  },
  {
   "cell_type": "code",
   "execution_count": 15,
   "metadata": {},
   "outputs": [
    {
     "name": "stdout",
     "output_type": "stream",
     "text": [
      "-----------\n",
      "Initializing structure...\n",
      "time for choose_chunkdivision = 0.000138044 s\n",
      "Working in 3D dimensions.\n",
      "Computational cell is 0.005 x 0.005 x 12 with resolution 200\n",
      "time for set_epsilon = 0.0141771 s\n",
      "-----------\n",
      "Meep: using complex fields.\n",
      "on time step 13231 (time=33.0775), 0.000302351 s/step\n",
      "field decay(t = 50.0025): 0.2502050785798166 / 0.2502050785798166 = 1.0\n",
      "on time step 27485 (time=68.7125), 0.00028063 s/step\n",
      "field decay(t = 100.0025): 1.047412054743179e-14 / 0.2502050785798166 = 4.186214207514775e-14\n",
      "run 0 finished at t = 100.0025 (40001 timesteps)\n"
     ]
    }
   ],
   "source": [
    "sources = [mp.Source(mp.GaussianSource(fcen,fwidth=df), component=mp.Ex, center=mp.Vector3(0,0,-0.5*sz+dpml))]\n",
    "\n",
    "sim = mp.Simulation(cell_size=cell_size,\n",
    "                    boundary_layers=pml_layers,\n",
    "                    sources=sources,\n",
    "                    k_point=k,\n",
    "                    dimensions=dimensions,\n",
    "                    resolution=resolution)\n",
    "\n",
    "refl_fr = mp.FluxRegion(center=mp.Vector3(0,0,-0.25*sz))\n",
    "refl = sim.add_flux(fcen, df, nfreq, refl_fr)\n",
    "\n",
    "sim.run(until_after_sources=mp.stop_when_fields_decayed(50, mp.Ex, mp.Vector3(0,0,-0.5*sz+dpml), 1e-9))\n",
    "\n",
    "empty_flux = mp.get_fluxes(refl)\n",
    "empty_data = sim.get_flux_data(refl)\n",
    "sim.reset_meep()\n",
    "\n",
    "# add a block with n=3.5 for the air-dielectric interface\n",
    "geometry = [mp.Block(mp.Vector3(mp.inf,mp.inf,0.5*sz), center=mp.Vector3(0,0,0.25*sz), material=mp.Medium(index=3.5))]\n",
    "\n",
    "sim = mp.Simulation(cell_size=cell_size,\n",
    "                    geometry=geometry,\n",
    "                    boundary_layers=pml_layers,\n",
    "                    sources=sources,\n",
    "                    k_point=k,\n",
    "                    dimensions=dimensions,\n",
    "                    resolution=resolution)\n"
   ]
  },
  {
   "cell_type": "code",
   "execution_count": 17,
   "metadata": {},
   "outputs": [
    {
     "ename": "TraitError",
     "evalue": "The 'scalar_data' trait of an ArraySource instance must be a 2D or 3D numpy array, but a value of array([ 9.54779412,  1.39473684,  1.        , ..., 12.25      ,\n       12.25      ,  9.54779412]) <class 'numpy.ndarray'> was specified.",
     "output_type": "error",
     "traceback": [
      "\u001b[0;31m---------------------------------------------------------------------------\u001b[0m",
      "\u001b[0;31mTraitError\u001b[0m                                Traceback (most recent call last)",
      "\u001b[0;32m<ipython-input-17-5f5a2084fe4b>\u001b[0m in \u001b[0;36m<module>\u001b[0;34m\u001b[0m\n\u001b[0;32m----> 1\u001b[0;31m \u001b[0msim\u001b[0m\u001b[0;34m.\u001b[0m\u001b[0mplot3D\u001b[0m\u001b[0;34m(\u001b[0m\u001b[0;34m)\u001b[0m\u001b[0;34m\u001b[0m\u001b[0;34m\u001b[0m\u001b[0m\n\u001b[0m",
      "\u001b[0;32m~/anaconda3/envs/meep/lib/python3.7/site-packages/meep/simulation.py\u001b[0m in \u001b[0;36mplot3D\u001b[0;34m(self)\u001b[0m\n\u001b[1;32m   2282\u001b[0m \u001b[0;34m\u001b[0m\u001b[0m\n\u001b[1;32m   2283\u001b[0m     \u001b[0;32mdef\u001b[0m \u001b[0mplot3D\u001b[0m\u001b[0;34m(\u001b[0m\u001b[0mself\u001b[0m\u001b[0;34m)\u001b[0m\u001b[0;34m:\u001b[0m\u001b[0;34m\u001b[0m\u001b[0;34m\u001b[0m\u001b[0m\n\u001b[0;32m-> 2284\u001b[0;31m         \u001b[0;32mreturn\u001b[0m \u001b[0mvis\u001b[0m\u001b[0;34m.\u001b[0m\u001b[0mplot3D\u001b[0m\u001b[0;34m(\u001b[0m\u001b[0mself\u001b[0m\u001b[0;34m)\u001b[0m\u001b[0;34m\u001b[0m\u001b[0;34m\u001b[0m\u001b[0m\n\u001b[0m\u001b[1;32m   2285\u001b[0m \u001b[0;34m\u001b[0m\u001b[0m\n\u001b[1;32m   2286\u001b[0m     \u001b[0;32mdef\u001b[0m \u001b[0mvisualize_chunks\u001b[0m\u001b[0;34m(\u001b[0m\u001b[0mself\u001b[0m\u001b[0;34m)\u001b[0m\u001b[0;34m:\u001b[0m\u001b[0;34m\u001b[0m\u001b[0;34m\u001b[0m\u001b[0m\n",
      "\u001b[0;32m~/anaconda3/envs/meep/lib/python3.7/site-packages/meep/visualization.py\u001b[0m in \u001b[0;36mplot3D\u001b[0;34m(sim)\u001b[0m\n\u001b[1;32m    573\u001b[0m \u001b[0;34m\u001b[0m\u001b[0m\n\u001b[1;32m    574\u001b[0m     \u001b[0meps_data\u001b[0m \u001b[0;34m=\u001b[0m \u001b[0msim\u001b[0m\u001b[0;34m.\u001b[0m\u001b[0mget_epsilon\u001b[0m\u001b[0;34m(\u001b[0m\u001b[0;34m)\u001b[0m\u001b[0;34m\u001b[0m\u001b[0;34m\u001b[0m\u001b[0m\n\u001b[0;32m--> 575\u001b[0;31m     \u001b[0ms\u001b[0m \u001b[0;34m=\u001b[0m \u001b[0mmlab\u001b[0m\u001b[0;34m.\u001b[0m\u001b[0mcontour3d\u001b[0m\u001b[0;34m(\u001b[0m\u001b[0meps_data\u001b[0m\u001b[0;34m,\u001b[0m \u001b[0mcolormap\u001b[0m\u001b[0;34m=\u001b[0m\u001b[0;34m\"YlGnBu\"\u001b[0m\u001b[0;34m)\u001b[0m\u001b[0;34m\u001b[0m\u001b[0;34m\u001b[0m\u001b[0m\n\u001b[0m\u001b[1;32m    576\u001b[0m     \u001b[0;32mreturn\u001b[0m \u001b[0ms\u001b[0m\u001b[0;34m\u001b[0m\u001b[0;34m\u001b[0m\u001b[0m\n\u001b[1;32m    577\u001b[0m \u001b[0;34m\u001b[0m\u001b[0m\n",
      "\u001b[0;32m~/anaconda3/envs/meep/lib/python3.7/site-packages/mayavi/tools/helper_functions.py\u001b[0m in \u001b[0;36mthe_function\u001b[0;34m(*args, **kwargs)\u001b[0m\n\u001b[1;32m     35\u001b[0m \u001b[0;34m\u001b[0m\u001b[0m\n\u001b[1;32m     36\u001b[0m     \u001b[0;32mdef\u001b[0m \u001b[0mthe_function\u001b[0m\u001b[0;34m(\u001b[0m\u001b[0;34m*\u001b[0m\u001b[0margs\u001b[0m\u001b[0;34m,\u001b[0m \u001b[0;34m**\u001b[0m\u001b[0mkwargs\u001b[0m\u001b[0;34m)\u001b[0m\u001b[0;34m:\u001b[0m\u001b[0;34m\u001b[0m\u001b[0;34m\u001b[0m\u001b[0m\n\u001b[0;32m---> 37\u001b[0;31m         \u001b[0;32mreturn\u001b[0m \u001b[0mpipeline\u001b[0m\u001b[0;34m(\u001b[0m\u001b[0;34m*\u001b[0m\u001b[0margs\u001b[0m\u001b[0;34m,\u001b[0m \u001b[0;34m**\u001b[0m\u001b[0mkwargs\u001b[0m\u001b[0;34m)\u001b[0m\u001b[0;34m\u001b[0m\u001b[0;34m\u001b[0m\u001b[0m\n\u001b[0m\u001b[1;32m     38\u001b[0m \u001b[0;34m\u001b[0m\u001b[0m\n\u001b[1;32m     39\u001b[0m     \u001b[0;32mif\u001b[0m \u001b[0mhasattr\u001b[0m\u001b[0;34m(\u001b[0m\u001b[0mpipeline\u001b[0m\u001b[0;34m,\u001b[0m \u001b[0;34m'doc'\u001b[0m\u001b[0;34m)\u001b[0m\u001b[0;34m:\u001b[0m\u001b[0;34m\u001b[0m\u001b[0;34m\u001b[0m\u001b[0m\n",
      "\u001b[0;32m~/anaconda3/envs/meep/lib/python3.7/site-packages/mayavi/tools/helper_functions.py\u001b[0m in \u001b[0;36m__call__\u001b[0;34m(self, *args, **kwargs)\u001b[0m\n\u001b[1;32m     80\u001b[0m             \u001b[0mscene\u001b[0m\u001b[0;34m.\u001b[0m\u001b[0mdisable_render\u001b[0m \u001b[0;34m=\u001b[0m \u001b[0;32mTrue\u001b[0m\u001b[0;34m\u001b[0m\u001b[0;34m\u001b[0m\u001b[0m\n\u001b[1;32m     81\u001b[0m         \u001b[0;31m# Then call the real logic\u001b[0m\u001b[0;34m\u001b[0m\u001b[0;34m\u001b[0m\u001b[0;34m\u001b[0m\u001b[0m\n\u001b[0;32m---> 82\u001b[0;31m         \u001b[0moutput\u001b[0m \u001b[0;34m=\u001b[0m \u001b[0mself\u001b[0m\u001b[0;34m.\u001b[0m\u001b[0m__call_internal__\u001b[0m\u001b[0;34m(\u001b[0m\u001b[0;34m*\u001b[0m\u001b[0margs\u001b[0m\u001b[0;34m,\u001b[0m \u001b[0;34m**\u001b[0m\u001b[0mkwargs\u001b[0m\u001b[0;34m)\u001b[0m\u001b[0;34m\u001b[0m\u001b[0;34m\u001b[0m\u001b[0m\n\u001b[0m\u001b[1;32m     83\u001b[0m         \u001b[0;31m# And re-enable the rendering, if needed.\u001b[0m\u001b[0;34m\u001b[0m\u001b[0;34m\u001b[0m\u001b[0;34m\u001b[0m\u001b[0m\n\u001b[1;32m     84\u001b[0m         \u001b[0;32mif\u001b[0m \u001b[0mscene\u001b[0m \u001b[0;32mis\u001b[0m \u001b[0;32mnot\u001b[0m \u001b[0;32mNone\u001b[0m\u001b[0;34m:\u001b[0m\u001b[0;34m\u001b[0m\u001b[0;34m\u001b[0m\u001b[0m\n",
      "\u001b[0;32m~/anaconda3/envs/meep/lib/python3.7/site-packages/mayavi/tools/helper_functions.py\u001b[0m in \u001b[0;36m__call_internal__\u001b[0;34m(self, *args, **kwargs)\u001b[0m\n\u001b[1;32m     90\u001b[0m         the last object created by the pipeline.\"\"\"\n\u001b[1;32m     91\u001b[0m         \u001b[0mself\u001b[0m\u001b[0;34m.\u001b[0m\u001b[0mstore_kwargs\u001b[0m\u001b[0;34m(\u001b[0m\u001b[0mkwargs\u001b[0m\u001b[0;34m)\u001b[0m\u001b[0;34m\u001b[0m\u001b[0;34m\u001b[0m\u001b[0m\n\u001b[0;32m---> 92\u001b[0;31m         \u001b[0mself\u001b[0m\u001b[0;34m.\u001b[0m\u001b[0msource\u001b[0m \u001b[0;34m=\u001b[0m \u001b[0mself\u001b[0m\u001b[0;34m.\u001b[0m\u001b[0m_source_function\u001b[0m\u001b[0;34m(\u001b[0m\u001b[0;34m*\u001b[0m\u001b[0margs\u001b[0m\u001b[0;34m,\u001b[0m \u001b[0;34m**\u001b[0m\u001b[0mkwargs\u001b[0m\u001b[0;34m)\u001b[0m\u001b[0;34m\u001b[0m\u001b[0;34m\u001b[0m\u001b[0m\n\u001b[0m\u001b[1;32m     93\u001b[0m         \u001b[0;31m# Copy the pipeline so as not to modify it for the next call\u001b[0m\u001b[0;34m\u001b[0m\u001b[0;34m\u001b[0m\u001b[0;34m\u001b[0m\u001b[0m\n\u001b[1;32m     94\u001b[0m         \u001b[0mself\u001b[0m\u001b[0;34m.\u001b[0m\u001b[0mpipeline\u001b[0m \u001b[0;34m=\u001b[0m \u001b[0mself\u001b[0m\u001b[0;34m.\u001b[0m\u001b[0m_pipeline\u001b[0m\u001b[0;34m[\u001b[0m\u001b[0;34m:\u001b[0m\u001b[0;34m]\u001b[0m\u001b[0;34m\u001b[0m\u001b[0;34m\u001b[0m\u001b[0m\n",
      "\u001b[0;32m~/anaconda3/envs/meep/lib/python3.7/site-packages/mayavi/tools/sources.py\u001b[0m in \u001b[0;36mscalar_field\u001b[0;34m(*args, **kwargs)\u001b[0m\n\u001b[1;32m   1166\u001b[0m \u001b[0;34m\u001b[0m\u001b[0m\n\u001b[1;32m   1167\u001b[0m     \u001b[0mdata_source\u001b[0m \u001b[0;34m=\u001b[0m \u001b[0mMArraySource\u001b[0m\u001b[0;34m(\u001b[0m\u001b[0;34m)\u001b[0m\u001b[0;34m\u001b[0m\u001b[0;34m\u001b[0m\u001b[0m\n\u001b[0;32m-> 1168\u001b[0;31m     \u001b[0mdata_source\u001b[0m\u001b[0;34m.\u001b[0m\u001b[0mreset\u001b[0m\u001b[0;34m(\u001b[0m\u001b[0mx\u001b[0m\u001b[0;34m=\u001b[0m\u001b[0mx\u001b[0m\u001b[0;34m,\u001b[0m \u001b[0my\u001b[0m\u001b[0;34m=\u001b[0m\u001b[0my\u001b[0m\u001b[0;34m,\u001b[0m \u001b[0mz\u001b[0m\u001b[0;34m=\u001b[0m\u001b[0mz\u001b[0m\u001b[0;34m,\u001b[0m \u001b[0mscalars\u001b[0m\u001b[0;34m=\u001b[0m\u001b[0ms\u001b[0m\u001b[0;34m)\u001b[0m\u001b[0;34m\u001b[0m\u001b[0;34m\u001b[0m\u001b[0m\n\u001b[0m\u001b[1;32m   1169\u001b[0m \u001b[0;34m\u001b[0m\u001b[0m\n\u001b[1;32m   1170\u001b[0m     \u001b[0mname\u001b[0m \u001b[0;34m=\u001b[0m \u001b[0mkwargs\u001b[0m\u001b[0;34m.\u001b[0m\u001b[0mpop\u001b[0m\u001b[0;34m(\u001b[0m\u001b[0;34m'name'\u001b[0m\u001b[0;34m,\u001b[0m \u001b[0;34m'ScalarField'\u001b[0m\u001b[0;34m)\u001b[0m\u001b[0;34m\u001b[0m\u001b[0;34m\u001b[0m\u001b[0m\n",
      "\u001b[0;32m~/anaconda3/envs/meep/lib/python3.7/site-packages/mayavi/tools/sources.py\u001b[0m in \u001b[0;36mreset\u001b[0;34m(self, **traits)\u001b[0m\n\u001b[1;32m    396\u001b[0m                \u001b[0morigin\u001b[0m\u001b[0;34m=\u001b[0m\u001b[0;34m[\u001b[0m\u001b[0mx\u001b[0m\u001b[0;34m.\u001b[0m\u001b[0mmin\u001b[0m\u001b[0;34m(\u001b[0m\u001b[0;34m)\u001b[0m\u001b[0;34m,\u001b[0m \u001b[0my\u001b[0m\u001b[0;34m.\u001b[0m\u001b[0mmin\u001b[0m\u001b[0;34m(\u001b[0m\u001b[0;34m)\u001b[0m\u001b[0;34m,\u001b[0m \u001b[0mz\u001b[0m\u001b[0;34m.\u001b[0m\u001b[0mmin\u001b[0m\u001b[0;34m(\u001b[0m\u001b[0;34m)\u001b[0m\u001b[0;34m]\u001b[0m\u001b[0;34m,\u001b[0m\u001b[0;34m\u001b[0m\u001b[0;34m\u001b[0m\u001b[0m\n\u001b[1;32m    397\u001b[0m                \u001b[0mspacing\u001b[0m\u001b[0;34m=\u001b[0m\u001b[0;34m[\u001b[0m\u001b[0mdx\u001b[0m\u001b[0;34m,\u001b[0m \u001b[0mdy\u001b[0m\u001b[0;34m,\u001b[0m \u001b[0mdz\u001b[0m\u001b[0;34m]\u001b[0m\u001b[0;34m,\u001b[0m\u001b[0;34m\u001b[0m\u001b[0;34m\u001b[0m\u001b[0m\n\u001b[0;32m--> 398\u001b[0;31m                scalar_data=scalars)\n\u001b[0m\u001b[1;32m    399\u001b[0m         \u001b[0;32mif\u001b[0m \u001b[0mscalars\u001b[0m \u001b[0;32mis\u001b[0m \u001b[0mold_scalar\u001b[0m\u001b[0;34m:\u001b[0m\u001b[0;34m\u001b[0m\u001b[0;34m\u001b[0m\u001b[0m\n\u001b[1;32m    400\u001b[0m             \u001b[0mds\u001b[0m\u001b[0;34m.\u001b[0m\u001b[0m_scalar_data_changed\u001b[0m\u001b[0;34m(\u001b[0m\u001b[0mscalars\u001b[0m\u001b[0;34m)\u001b[0m\u001b[0;34m\u001b[0m\u001b[0;34m\u001b[0m\u001b[0m\n",
      "\u001b[0;32m~/anaconda3/envs/meep/lib/python3.7/site-packages/traits/has_traits.py\u001b[0m in \u001b[0;36mtrait_set\u001b[0;34m(self, trait_change_notify, **traits)\u001b[0m\n\u001b[1;32m   1667\u001b[0m         \u001b[0;32melse\u001b[0m\u001b[0;34m:\u001b[0m\u001b[0;34m\u001b[0m\u001b[0;34m\u001b[0m\u001b[0m\n\u001b[1;32m   1668\u001b[0m             \u001b[0;32mfor\u001b[0m \u001b[0mname\u001b[0m\u001b[0;34m,\u001b[0m \u001b[0mvalue\u001b[0m \u001b[0;32min\u001b[0m \u001b[0mtraits\u001b[0m\u001b[0;34m.\u001b[0m\u001b[0mitems\u001b[0m\u001b[0;34m(\u001b[0m\u001b[0;34m)\u001b[0m\u001b[0;34m:\u001b[0m\u001b[0;34m\u001b[0m\u001b[0;34m\u001b[0m\u001b[0m\n\u001b[0;32m-> 1669\u001b[0;31m                 \u001b[0msetattr\u001b[0m\u001b[0;34m(\u001b[0m\u001b[0mself\u001b[0m\u001b[0;34m,\u001b[0m \u001b[0mname\u001b[0m\u001b[0;34m,\u001b[0m \u001b[0mvalue\u001b[0m\u001b[0;34m)\u001b[0m\u001b[0;34m\u001b[0m\u001b[0;34m\u001b[0m\u001b[0m\n\u001b[0m\u001b[1;32m   1670\u001b[0m \u001b[0;34m\u001b[0m\u001b[0m\n\u001b[1;32m   1671\u001b[0m         \u001b[0;32mreturn\u001b[0m \u001b[0mself\u001b[0m\u001b[0;34m\u001b[0m\u001b[0;34m\u001b[0m\u001b[0m\n",
      "\u001b[0;32m~/anaconda3/envs/meep/lib/python3.7/site-packages/traits/trait_handlers.py\u001b[0m in \u001b[0;36merror\u001b[0;34m(self, object, name, value)\u001b[0m\n\u001b[1;32m    234\u001b[0m         \"\"\"\n\u001b[1;32m    235\u001b[0m         raise TraitError(\n\u001b[0;32m--> 236\u001b[0;31m             \u001b[0mobject\u001b[0m\u001b[0;34m,\u001b[0m \u001b[0mname\u001b[0m\u001b[0;34m,\u001b[0m \u001b[0mself\u001b[0m\u001b[0;34m.\u001b[0m\u001b[0mfull_info\u001b[0m\u001b[0;34m(\u001b[0m\u001b[0mobject\u001b[0m\u001b[0;34m,\u001b[0m \u001b[0mname\u001b[0m\u001b[0;34m,\u001b[0m \u001b[0mvalue\u001b[0m\u001b[0;34m)\u001b[0m\u001b[0;34m,\u001b[0m \u001b[0mvalue\u001b[0m\u001b[0;34m\u001b[0m\u001b[0;34m\u001b[0m\u001b[0m\n\u001b[0m\u001b[1;32m    237\u001b[0m         )\n\u001b[1;32m    238\u001b[0m \u001b[0;34m\u001b[0m\u001b[0m\n",
      "\u001b[0;31mTraitError\u001b[0m: The 'scalar_data' trait of an ArraySource instance must be a 2D or 3D numpy array, but a value of array([ 9.54779412,  1.39473684,  1.        , ..., 12.25      ,\n       12.25      ,  9.54779412]) <class 'numpy.ndarray'> was specified."
     ]
    }
   ],
   "source": [
    "sim.plot3D()"
   ]
  },
  {
   "cell_type": "code",
   "execution_count": 14,
   "metadata": {},
   "outputs": [
    {
     "name": "stdout",
     "output_type": "stream",
     "text": [
      "field decay(t = 50.0025): 0.2502050784849634 / 0.2502050784849634 = 1.0\n",
      "field decay(t = 100.0025): 2.8160152403534873e-13 / 0.2502050784849634 = 1.125482846873039e-12\n",
      "run 0 finished at t = 100.0025 (40001 timesteps)\n",
      "refl:, 0.0, 0.8, 0.0, 0.30780697376583877\n",
      "refl:, 0.0, 0.784, 0.0, 0.3077724750611765\n",
      "refl:, 0.0, 0.7686274509803922, 0.0, 0.30773725191827517\n",
      "refl:, 0.0, 0.7538461538461539, 0.0, 0.3077012971078069\n",
      "refl:, 0.0, 0.739622641509434, 0.0, 0.3076646698643559\n",
      "refl:, 0.0, 0.7259259259259259, 0.0, 0.307627349476206\n",
      "refl:, 0.0, 0.7127272727272727, 0.0, 0.30758929720167066\n",
      "refl:, 0.0, 0.7, 0.0, 0.30755056365747957\n",
      "refl:, 0.0, 0.6877192982456141, 0.0, 0.3075111443814758\n",
      "refl:, 0.0, 0.6758620689655173, 0.0, 0.30747097892958153\n",
      "refl:, 0.0, 0.664406779661017, 0.0, 0.3074300999308563\n",
      "refl:, 0.0, 0.6533333333333333, 0.0, 0.3073885324305411\n",
      "refl:, 0.0, 0.6426229508196721, 0.0, 0.3073462182598253\n",
      "refl:, 0.0, 0.632258064516129, 0.0, 0.30730317509899524\n",
      "refl:, 0.0, 0.6222222222222222, 0.0, 0.3072594635261837\n",
      "refl:, 0.0, 0.6124999999999999, 0.0, 0.3072150394112882\n",
      "refl:, 0.0, 0.6030769230769231, 0.0, 0.3071698804895208\n",
      "refl:, 0.0, 0.593939393939394, 0.0, 0.30712404879228716\n",
      "refl:, 0.0, 0.5850746268656717, 0.0, 0.30707752095185403\n",
      "refl:, 0.0, 0.5764705882352942, 0.0, 0.30703023843341865\n",
      "refl:, 0.0, 0.5681159420289855, 0.0, 0.30698224603032526\n",
      "refl:, 0.0, 0.56, 0.0, 0.30693355952020285\n",
      "refl:, 0.0, 0.552112676056338, 0.0, 0.30688412443395385\n",
      "refl:, 0.0, 0.5444444444444444, 0.0, 0.3068339693116125\n",
      "refl:, 0.0, 0.536986301369863, 0.0, 0.30678313707163846\n",
      "refl:, 0.0, 0.5297297297297298, 0.0, 0.3067315817438964\n",
      "refl:, 0.0, 0.5226666666666667, 0.0, 0.3066793024445378\n",
      "refl:, 0.0, 0.5157894736842105, 0.0, 0.3066263415688175\n",
      "refl:, 0.0, 0.509090909090909, 0.0, 0.30657265239786813\n",
      "refl:, 0.0, 0.5025641025641026, 0.0, 0.30651820557685366\n",
      "refl:, 0.0, 0.4962025316455696, 0.0, 0.3064630535567104\n",
      "refl:, 0.0, 0.49, 0.0, 0.30640717694788083\n",
      "refl:, 0.0, 0.4839506172839506, 0.0, 0.30635053199997964\n",
      "refl:, 0.0, 0.47804878048780486, 0.0, 0.30629318000445976\n",
      "refl:, 0.0, 0.47228915662650606, 0.0, 0.30623514358717435\n",
      "refl:, 0.0, 0.4666666666666667, 0.0, 0.3061763605868059\n",
      "refl:, 0.0, 0.4611764705882353, 0.0, 0.3061168556013873\n",
      "refl:, 0.0, 0.4558139534883721, 0.0, 0.3060566732843557\n",
      "refl:, 0.0, 0.4505747126436782, 0.0, 0.3059957496636938\n",
      "refl:, 0.0, 0.4454545454545454, 0.0, 0.3059340631409756\n",
      "refl:, 0.0, 0.44044943820224725, 0.0, 0.30587167041926516\n",
      "refl:, 0.0, 0.43555555555555553, 0.0, 0.3058085459862449\n",
      "refl:, 0.0, 0.4307692307692308, 0.0, 0.30574465609870266\n",
      "refl:, 0.0, 0.4260869565217391, 0.0, 0.3056800570722229\n",
      "refl:, 0.0, 0.421505376344086, 0.0, 0.30561475460478116\n",
      "refl:, 0.0, 0.41702127659574467, 0.0, 0.30554870670604223\n",
      "refl:, 0.0, 0.4126315789473684, 0.0, 0.30548194495865383\n",
      "refl:, 0.0, 0.4083333333333333, 0.0, 0.30541447740287897\n",
      "refl:, 0.0, 0.4041237113402062, 0.0, 0.3053462447243735\n",
      "refl:, 0.0, 0.4, 0.0, 0.30527726166207403\n"
     ]
    }
   ],
   "source": [
    "refl = sim.add_flux(fcen, df, nfreq, refl_fr)\n",
    "sim.load_minus_flux_data(refl, empty_data)\n",
    "\n",
    "sim.run(until_after_sources=mp.stop_when_fields_decayed(50, mp.Ex, mp.Vector3(0,0,-0.5*sz+dpml), 1e-9))\n",
    "\n",
    "refl_flux = mp.get_fluxes(refl)\n",
    "freqs = mp.get_flux_freqs(refl)\n",
    "\n",
    "for i in range(nfreq):\n",
    "    print(\"refl:, {}, {}, {}, {}\".format(k.x,1/freqs[i],math.degrees(math.asin(k.x/freqs[i])),-refl_flux[i]/empty_flux[i]))"
   ]
  },
  {
   "cell_type": "code",
   "execution_count": null,
   "metadata": {},
   "outputs": [],
   "source": []
  }
 ],
 "metadata": {
  "kernelspec": {
   "display_name": "Python (meep)",
   "language": "python",
   "name": "meep"
  },
  "language_info": {
   "codemirror_mode": {
    "name": "ipython",
    "version": 3
   },
   "file_extension": ".py",
   "mimetype": "text/x-python",
   "name": "python",
   "nbconvert_exporter": "python",
   "pygments_lexer": "ipython3",
   "version": "3.7.3"
  }
 },
 "nbformat": 4,
 "nbformat_minor": 2
}
