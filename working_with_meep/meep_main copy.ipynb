{
 "cells": [
  {
   "cell_type": "code",
   "execution_count": 86,
   "metadata": {},
   "outputs": [],
   "source": [
    "import meep as mp\n",
    "import numpy as np\n",
    "import math\n",
    "import matplotlib.pyplot as plt\n",
    "import pickle\n",
    "from numpy import cos, sin\n",
    "import json\n",
    "from scipy.spatial import Voronoi, voronoi_plot_2d\n",
    "import matplotlib.pyplot as plt\n",
    "from scipy.io import FortranFile"
   ]
  },
  {
   "cell_type": "markdown",
   "metadata": {},
   "source": [
    "# create geometric and write it to a file"
   ]
  },
  {
   "cell_type": "markdown",
   "metadata": {},
   "source": [
    "generate random numbers"
   ]
  },
  {
   "cell_type": "code",
   "execution_count": 6,
   "metadata": {},
   "outputs": [],
   "source": [
    "np.random.seed(15)\n",
    "\n",
    "num_crystal = 190\n",
    "\n",
    "a = 5. # shape\n",
    "\n",
    "size_cell_l = [2, 2, 2]\n",
    "size_solid_l = [1, 1, 1]\n",
    "size_crystal_base = [0.1, 0.1, 0.1]\n",
    "size_crystal_l = np.random.weibull(a, (num_crystal, 3))\n",
    "for i in range(3):\n",
    "    size_crystal_l[:, i] *= size_crystal_base[i]\n",
    "\n",
    "size_cell = mp.Vector3(*size_cell_l)\n",
    "size_solid = mp.Vector3(*size_solid_l)\n",
    "\n",
    "size_crystal = []\n",
    "for i in range(num_crystal):\n",
    "    size_crystal.append(mp.Vector3(*size_crystal_l[i, :]))\n",
    "\n",
    "solid_region = mp.Block(size_solid, \n",
    "                    center = mp.Vector3(0, 0, 0),\n",
    "                    material=mp.Medium(epsilon=1))\n",
    "\n",
    "mean= (0, 0, 0)\n",
    "cov = [[0.1, 0, 0], [0, 0.1, 0], [0, 0, 0.1]]\n",
    "loc = np.random.multivariate_normal(mean, cov, (num_crystal))\n",
    "loc = np.random.uniform(-size_solid_l[0]/2, size_solid_l[0]/2, (num_crystal, 3))\n",
    "theta_x = np.random.uniform(0, 2*np.pi, num_crystal)\n",
    "theta_y = np.random.uniform(0, 2*np.pi, num_crystal)\n",
    "theta_z = np.random.uniform(0, 2*np.pi, num_crystal)"
   ]
  },
  {
   "cell_type": "markdown",
   "execution_count": null,
   "metadata": {},
   "outputs": [],
   "source": [
    "Voronoi tesse"
   ]
  },
  {
   "cell_type": "code",
   "execution_count": 23,
   "metadata": {},
   "outputs": [
    {
     "data": {
      "image/png": "[encoded data removed]",
      "image/svg+xml": "<?xml version=\"1.0\" encoding=\"utf-8\" standalone=\"no\"?>\n<!DOCTYPE svg PUBLIC \"-//W3C//DTD SVG 1.1//EN\"\n  \"http://www.w3.org/Graphics/SVG/1.1/DTD/svg11.dtd\">\n<!-- Created with matplotlib (https://matplotlib.org/) -->\n<svg height=\"248.518125pt\" version=\"1.1\" viewBox=\"0 0 362.5625 248.518125\" width=\"362.5625pt\" xmlns=\"http://www.w3.org/2000/svg\" xmlns:xlink=\"http://www.w3.org/1999/xlink\">\n <defs>\n  <style type=\"text/css\">\n*{stroke-linecap:butt;stroke-linejoin:round;}\n  </style>\n </defs>\n <g id=\"figure_1\">\n  <g id=\"patch_1\">\n   <path d=\"M 0 248.518125 \nL 362.5625 248.518125 \nL 362.5625 0 \nL 0 0 \nz\n\" style=\"fill:none;\"/>\n  </g>\n  <g id=\"axes_1\">\n   <g id=\"patch_2\">\n    <path d=\"M 20.5625 224.64 \nL 355.3625 224.64 \nL 355.3625 7.2 \nL 20.5625 7.2 \nz\n\" style=\"fill:#ffffff;\"/>\n   </g>\n   <g id=\"matplotlib.axis_1\">\n    <g id=\"xtick_1\">\n     <g id=\"line2d_1\">\n      <defs>\n       <path d=\"M 0 0 \nL 0 3.5 \n\" id=\"mf8b653b35a\" style=\"stroke:#000000;stroke-width:0.8;\"/>\n      </defs>\n      <g>\n       <use style=\"stroke:#000000;stroke-width:0.8;\" x=\"48.4625\" xlink:href=\"#mf8b653b35a\" y=\"224.64\"/>\n      </g>\n     </g>\n     <g id=\"text_1\">\n      <!-- 0 -->\n      <defs>\n       <path d=\"M 31.78125 66.40625 \nQ 24.171875 66.40625 20.328125 58.90625 \nQ 16.5 51.421875 16.5 36.375 \nQ 16.5 21.390625 20.328125 13.890625 \nQ 24.171875 6.390625 31.78125 6.390625 \nQ 39.453125 6.390625 43.28125 13.890625 \nQ 47.125 21.390625 47.125 36.375 \nQ 47.125 51.421875 43.28125 58.90625 \nQ 39.453125 66.40625 31.78125 66.40625 \nz\nM 31.78125 74.21875 \nQ 44.046875 74.21875 50.515625 64.515625 \nQ 56.984375 54.828125 56.984375 36.375 \nQ 56.984375 17.96875 50.515625 8.265625 \nQ 44.046875 -1.421875 31.78125 -1.421875 \nQ 19.53125 -1.421875 13.0625 8.265625 \nQ 6.59375 17.96875 6.59375 36.375 \nQ 6.59375 54.828125 13.0625 64.515625 \nQ 19.53125 74.21875 31.78125 74.21875 \nz\n\" id=\"DejaVuSans-48\"/>\n      </defs>\n      <g transform=\"translate(45.28125 239.238437)scale(0.1 -0.1)\">\n       <use xlink:href=\"#DejaVuSans-48\"/>\n      </g>\n     </g>\n    </g>\n    <g id=\"xtick_2\">\n     <g id=\"line2d_2\">\n      <g>\n       <use style=\"stroke:#000000;stroke-width:0.8;\" x=\"118.2125\" xlink:href=\"#mf8b653b35a\" y=\"224.64\"/>\n      </g>\n     </g>\n     <g id=\"text_2\">\n      <!-- 1 -->\n      <defs>\n       <path d=\"M 12.40625 8.296875 \nL 28.515625 8.296875 \nL 28.515625 63.921875 \nL 10.984375 60.40625 \nL 10.984375 69.390625 \nL 28.421875 72.90625 \nL 38.28125 72.90625 \nL 38.28125 8.296875 \nL 54.390625 8.296875 \nL 54.390625 0 \nL 12.40625 0 \nz\n\" id=\"DejaVuSans-49\"/>\n      </defs>\n      <g transform=\"translate(115.03125 239.238437)scale(0.1 -0.1)\">\n       <use xlink:href=\"#DejaVuSans-49\"/>\n      </g>\n     </g>\n    </g>\n    <g id=\"xtick_3\">\n     <g id=\"line2d_3\">\n      <g>\n       <use style=\"stroke:#000000;stroke-width:0.8;\" x=\"187.9625\" xlink:href=\"#mf8b653b35a\" y=\"224.64\"/>\n      </g>\n     </g>\n     <g id=\"text_3\">\n      <!-- 2 -->\n      <defs>\n       <path d=\"M 19.1875 8.296875 \nL 53.609375 8.296875 \nL 53.609375 0 \nL 7.328125 0 \nL 7.328125 8.296875 \nQ 12.9375 14.109375 22.625 23.890625 \nQ 32.328125 33.6875 34.8125 36.53125 \nQ 39.546875 41.84375 41.421875 45.53125 \nQ 43.3125 49.21875 43.3125 52.78125 \nQ 43.3125 58.59375 39.234375 62.25 \nQ 35.15625 65.921875 28.609375 65.921875 \nQ 23.96875 65.921875 18.8125 64.3125 \nQ 13.671875 62.703125 7.8125 59.421875 \nL 7.8125 69.390625 \nQ 13.765625 71.78125 18.9375 73 \nQ 24.125 74.21875 28.421875 74.21875 \nQ 39.75 74.21875 46.484375 68.546875 \nQ 53.21875 62.890625 53.21875 53.421875 \nQ 53.21875 48.921875 51.53125 44.890625 \nQ 49.859375 40.875 45.40625 35.40625 \nQ 44.1875 33.984375 37.640625 27.21875 \nQ 31.109375 20.453125 19.1875 8.296875 \nz\n\" id=\"DejaVuSans-50\"/>\n      </defs>\n      <g transform=\"translate(184.78125 239.238437)scale(0.1 -0.1)\">\n       <use xlink:href=\"#DejaVuSans-50\"/>\n      </g>\n     </g>\n    </g>\n    <g id=\"xtick_4\">\n     <g id=\"line2d_4\">\n      <g>\n       <use style=\"stroke:#000000;stroke-width:0.8;\" x=\"257.7125\" xlink:href=\"#mf8b653b35a\" y=\"224.64\"/>\n      </g>\n     </g>\n     <g id=\"text_4\">\n      <!-- 3 -->\n      <defs>\n       <path d=\"M 40.578125 39.3125 \nQ 47.65625 37.796875 51.625 33 \nQ 55.609375 28.21875 55.609375 21.1875 \nQ 55.609375 10.40625 48.1875 4.484375 \nQ 40.765625 -1.421875 27.09375 -1.421875 \nQ 22.515625 -1.421875 17.65625 -0.515625 \nQ 12.796875 0.390625 7.625 2.203125 \nL 7.625 11.71875 \nQ 11.71875 9.328125 16.59375 8.109375 \nQ 21.484375 6.890625 26.8125 6.890625 \nQ 36.078125 6.890625 40.9375 10.546875 \nQ 45.796875 14.203125 45.796875 21.1875 \nQ 45.796875 27.640625 41.28125 31.265625 \nQ 36.765625 34.90625 28.71875 34.90625 \nL 20.21875 34.90625 \nL 20.21875 43.015625 \nL 29.109375 43.015625 \nQ 36.375 43.015625 40.234375 45.921875 \nQ 44.09375 48.828125 44.09375 54.296875 \nQ 44.09375 59.90625 40.109375 62.90625 \nQ 36.140625 65.921875 28.71875 65.921875 \nQ 24.65625 65.921875 20.015625 65.03125 \nQ 15.375 64.15625 9.8125 62.3125 \nL 9.8125 71.09375 \nQ 15.4375 72.65625 20.34375 73.4375 \nQ 25.25 74.21875 29.59375 74.21875 \nQ 40.828125 74.21875 47.359375 69.109375 \nQ 53.90625 64.015625 53.90625 55.328125 \nQ 53.90625 49.265625 50.4375 45.09375 \nQ 46.96875 40.921875 40.578125 39.3125 \nz\n\" id=\"DejaVuSans-51\"/>\n      </defs>\n      <g transform=\"translate(254.53125 239.238437)scale(0.1 -0.1)\">\n       <use xlink:href=\"#DejaVuSans-51\"/>\n      </g>\n     </g>\n    </g>\n    <g id=\"xtick_5\">\n     <g id=\"line2d_5\">\n      <g>\n       <use style=\"stroke:#000000;stroke-width:0.8;\" x=\"327.4625\" xlink:href=\"#mf8b653b35a\" y=\"224.64\"/>\n      </g>\n     </g>\n     <g id=\"text_5\">\n      <!-- 4 -->\n      <defs>\n       <path d=\"M 37.796875 64.3125 \nL 12.890625 25.390625 \nL 37.796875 25.390625 \nz\nM 35.203125 72.90625 \nL 47.609375 72.90625 \nL 47.609375 25.390625 \nL 58.015625 25.390625 \nL 58.015625 17.1875 \nL 47.609375 17.1875 \nL 47.609375 0 \nL 37.796875 0 \nL 37.796875 17.1875 \nL 4.890625 17.1875 \nL 4.890625 26.703125 \nz\n\" id=\"DejaVuSans-52\"/>\n      </defs>\n      <g transform=\"translate(324.28125 239.238437)scale(0.1 -0.1)\">\n       <use xlink:href=\"#DejaVuSans-52\"/>\n      </g>\n     </g>\n    </g>\n   </g>\n   <g id=\"matplotlib.axis_2\">\n    <g id=\"ytick_1\">\n     <g id=\"line2d_6\">\n      <defs>\n       <path d=\"M 0 0 \nL -3.5 0 \n\" id=\"m95d3c13b47\" style=\"stroke:#000000;stroke-width:0.8;\"/>\n      </defs>\n      <g>\n       <use style=\"stroke:#000000;stroke-width:0.8;\" x=\"20.5625\" xlink:href=\"#m95d3c13b47\" y=\"206.52\"/>\n      </g>\n     </g>\n     <g id=\"text_6\">\n      <!-- 0 -->\n      <g transform=\"translate(7.2 210.319219)scale(0.1 -0.1)\">\n       <use xlink:href=\"#DejaVuSans-48\"/>\n      </g>\n     </g>\n    </g>\n    <g id=\"ytick_2\">\n     <g id=\"line2d_7\">\n      <g>\n       <use style=\"stroke:#000000;stroke-width:0.8;\" x=\"20.5625\" xlink:href=\"#m95d3c13b47\" y=\"161.22\"/>\n      </g>\n     </g>\n     <g id=\"text_7\">\n      <!-- 1 -->\n      <g transform=\"translate(7.2 165.019219)scale(0.1 -0.1)\">\n       <use xlink:href=\"#DejaVuSans-49\"/>\n      </g>\n     </g>\n    </g>\n    <g id=\"ytick_3\">\n     <g id=\"line2d_8\">\n      <g>\n       <use style=\"stroke:#000000;stroke-width:0.8;\" x=\"20.5625\" xlink:href=\"#m95d3c13b47\" y=\"115.92\"/>\n      </g>\n     </g>\n     <g id=\"text_8\">\n      <!-- 2 -->\n      <g transform=\"translate(7.2 119.719219)scale(0.1 -0.1)\">\n       <use xlink:href=\"#DejaVuSans-50\"/>\n      </g>\n     </g>\n    </g>\n    <g id=\"ytick_4\">\n     <g id=\"line2d_9\">\n      <g>\n       <use style=\"stroke:#000000;stroke-width:0.8;\" x=\"20.5625\" xlink:href=\"#m95d3c13b47\" y=\"70.62\"/>\n      </g>\n     </g>\n     <g id=\"text_9\">\n      <!-- 3 -->\n      <g transform=\"translate(7.2 74.419219)scale(0.1 -0.1)\">\n       <use xlink:href=\"#DejaVuSans-51\"/>\n      </g>\n     </g>\n    </g>\n    <g id=\"ytick_5\">\n     <g id=\"line2d_10\">\n      <g>\n       <use style=\"stroke:#000000;stroke-width:0.8;\" x=\"20.5625\" xlink:href=\"#m95d3c13b47\" y=\"25.32\"/>\n      </g>\n     </g>\n     <g id=\"text_10\">\n      <!-- 4 -->\n      <g transform=\"translate(7.2 29.119219)scale(0.1 -0.1)\">\n       <use xlink:href=\"#DejaVuSans-52\"/>\n      </g>\n     </g>\n    </g>\n   </g>\n   <g id=\"LineCollection_1\">\n    <path clip-path=\"url(#paf2e088c01)\" d=\"M 83.3375 138.57 \nL 83.3375 93.27 \n\" style=\"fill:none;stroke:#000000;\"/>\n    <path clip-path=\"url(#paf2e088c01)\" d=\"M 83.3375 183.87 \nL 83.3375 138.57 \n\" style=\"fill:none;stroke:#000000;\"/>\n    <path clip-path=\"url(#paf2e088c01)\" d=\"M 83.3375 47.97 \nL 83.3375 93.27 \n\" style=\"fill:none;stroke:#000000;\"/>\n    <path clip-path=\"url(#paf2e088c01)\" d=\"M 153.0875 138.57 \nL 153.0875 183.87 \n\" style=\"fill:none;stroke:#000000;\"/>\n    <path clip-path=\"url(#paf2e088c01)\" d=\"M 83.3375 183.87 \nL 153.0875 183.87 \n\" style=\"fill:none;stroke:#000000;\"/>\n    <path clip-path=\"url(#paf2e088c01)\" d=\"M 83.3375 138.57 \nL 153.0875 138.57 \n\" style=\"fill:none;stroke:#000000;\"/>\n    <path clip-path=\"url(#paf2e088c01)\" d=\"M 153.0875 183.87 \nL 222.8375 183.87 \n\" style=\"fill:none;stroke:#000000;\"/>\n    <path clip-path=\"url(#paf2e088c01)\" d=\"M 292.5875 183.87 \nL 222.8375 183.87 \n\" style=\"fill:none;stroke:#000000;\"/>\n    <path clip-path=\"url(#paf2e088c01)\" d=\"M 153.0875 93.27 \nL 153.0875 47.97 \n\" style=\"fill:none;stroke:#000000;\"/>\n    <path clip-path=\"url(#paf2e088c01)\" d=\"M 83.3375 47.97 \nL 153.0875 47.97 \n\" style=\"fill:none;stroke:#000000;\"/>\n    <path clip-path=\"url(#paf2e088c01)\" d=\"M 83.3375 93.27 \nL 153.0875 93.27 \n\" style=\"fill:none;stroke:#000000;\"/>\n    <path clip-path=\"url(#paf2e088c01)\" d=\"M 153.0875 47.97 \nL 222.8375 47.97 \n\" style=\"fill:none;stroke:#000000;\"/>\n    <path clip-path=\"url(#paf2e088c01)\" d=\"M 153.0875 138.57 \nL 153.0875 93.27 \n\" style=\"fill:none;stroke:#000000;\"/>\n    <path clip-path=\"url(#paf2e088c01)\" d=\"M 292.5875 47.97 \nL 222.8375 47.97 \n\" style=\"fill:none;stroke:#000000;\"/>\n    <path clip-path=\"url(#paf2e088c01)\" d=\"M 222.8375 138.57 \nL 292.5875 138.57 \n\" style=\"fill:none;stroke:#000000;\"/>\n    <path clip-path=\"url(#paf2e088c01)\" d=\"M 222.8375 138.57 \nL 222.8375 93.27 \n\" style=\"fill:none;stroke:#000000;\"/>\n    <path clip-path=\"url(#paf2e088c01)\" d=\"M 222.8375 93.27 \nL 292.5875 93.27 \n\" style=\"fill:none;stroke:#000000;\"/>\n    <path clip-path=\"url(#paf2e088c01)\" d=\"M 292.5875 138.57 \nL 292.5875 93.27 \n\" style=\"fill:none;stroke:#000000;\"/>\n    <path clip-path=\"url(#paf2e088c01)\" d=\"M 292.5875 183.87 \nL 292.5875 138.57 \n\" style=\"fill:none;stroke:#000000;\"/>\n    <path clip-path=\"url(#paf2e088c01)\" d=\"M 222.8375 183.87 \nL 222.8375 138.57 \n\" style=\"fill:none;stroke:#000000;\"/>\n    <path clip-path=\"url(#paf2e088c01)\" d=\"M 153.0875 93.27 \nL 222.8375 93.27 \n\" style=\"fill:none;stroke:#000000;\"/>\n    <path clip-path=\"url(#paf2e088c01)\" d=\"M 153.0875 138.57 \nL 222.8375 138.57 \n\" style=\"fill:none;stroke:#000000;\"/>\n    <path clip-path=\"url(#paf2e088c01)\" d=\"M 292.5875 47.97 \nL 292.5875 93.27 \n\" style=\"fill:none;stroke:#000000;\"/>\n    <path clip-path=\"url(#paf2e088c01)\" d=\"M 222.8375 47.97 \nL 222.8375 93.27 \n\" style=\"fill:none;stroke:#000000;\"/>\n   </g>\n   <g id=\"LineCollection_2\">\n    <path clip-path=\"url(#paf2e088c01)\" d=\"M 83.3375 93.27 \nL -1 93.27 \n\" style=\"fill:none;stroke:#000000;stroke-dasharray:3.7,1.6;stroke-dashoffset:0;\"/>\n    <path clip-path=\"url(#paf2e088c01)\" d=\"M 83.3375 138.57 \nL -1 138.57 \n\" style=\"fill:none;stroke:#000000;stroke-dasharray:3.7,1.6;stroke-dashoffset:0;\"/>\n    <path clip-path=\"url(#paf2e088c01)\" d=\"M 83.3375 183.87 \nL -1 183.87 \n\" style=\"fill:none;stroke:#000000;stroke-dasharray:3.7,1.6;stroke-dashoffset:0;\"/>\n    <path clip-path=\"url(#paf2e088c01)\" d=\"M 83.3375 47.97 \nL -1 47.97 \n\" style=\"fill:none;stroke:#000000;stroke-dasharray:3.7,1.6;stroke-dashoffset:0;\"/>\n    <path clip-path=\"url(#paf2e088c01)\" d=\"M 83.3375 183.87 \nL 83.3375 249.518125 \n\" style=\"fill:none;stroke:#000000;stroke-dasharray:3.7,1.6;stroke-dashoffset:0;\"/>\n    <path clip-path=\"url(#paf2e088c01)\" d=\"M 222.8375 183.87 \nL 222.8375 249.518125 \n\" style=\"fill:none;stroke:#000000;stroke-dasharray:3.7,1.6;stroke-dashoffset:0;\"/>\n    <path clip-path=\"url(#paf2e088c01)\" d=\"M 153.0875 183.87 \nL 153.0875 249.518125 \n\" style=\"fill:none;stroke:#000000;stroke-dasharray:3.7,1.6;stroke-dashoffset:0;\"/>\n    <path clip-path=\"url(#paf2e088c01)\" d=\"M 292.5875 183.87 \nL 292.5875 249.518125 \n\" style=\"fill:none;stroke:#000000;stroke-dasharray:3.7,1.6;stroke-dashoffset:0;\"/>\n    <path clip-path=\"url(#paf2e088c01)\" d=\"M 83.3375 47.97 \nL 83.3375 -1 \n\" style=\"fill:none;stroke:#000000;stroke-dasharray:3.7,1.6;stroke-dashoffset:0;\"/>\n    <path clip-path=\"url(#paf2e088c01)\" d=\"M 292.5875 47.97 \nL 363.5625 47.97 \n\" style=\"fill:none;stroke:#000000;stroke-dasharray:3.7,1.6;stroke-dashoffset:0;\"/>\n    <path clip-path=\"url(#paf2e088c01)\" d=\"M 292.5875 47.97 \nL 292.5875 -1 \n\" style=\"fill:none;stroke:#000000;stroke-dasharray:3.7,1.6;stroke-dashoffset:0;\"/>\n    <path clip-path=\"url(#paf2e088c01)\" d=\"M 292.5875 183.87 \nL 363.5625 183.87 \n\" style=\"fill:none;stroke:#000000;stroke-dasharray:3.7,1.6;stroke-dashoffset:0;\"/>\n    <path clip-path=\"url(#paf2e088c01)\" d=\"M 222.8375 47.97 \nL 222.8375 -1 \n\" style=\"fill:none;stroke:#000000;stroke-dasharray:3.7,1.6;stroke-dashoffset:0;\"/>\n    <path clip-path=\"url(#paf2e088c01)\" d=\"M 153.0875 47.97 \nL 153.0875 -1 \n\" style=\"fill:none;stroke:#000000;stroke-dasharray:3.7,1.6;stroke-dashoffset:0;\"/>\n    <path clip-path=\"url(#paf2e088c01)\" d=\"M 292.5875 93.27 \nL 363.5625 93.27 \n\" style=\"fill:none;stroke:#000000;stroke-dasharray:3.7,1.6;stroke-dashoffset:0;\"/>\n    <path clip-path=\"url(#paf2e088c01)\" d=\"M 292.5875 138.57 \nL 363.5625 138.57 \n\" style=\"fill:none;stroke:#000000;stroke-dasharray:3.7,1.6;stroke-dashoffset:0;\"/>\n   </g>\n   <g id=\"line2d_11\">\n    <defs>\n     <path d=\"M 0 1.5 \nC 0.397805 1.5 0.77937 1.341951 1.06066 1.06066 \nC 1.341951 0.77937 1.5 0.397805 1.5 0 \nC 1.5 -0.397805 1.341951 -0.77937 1.06066 -1.06066 \nC 0.77937 -1.341951 0.397805 -1.5 0 -1.5 \nC -0.397805 -1.5 -0.77937 -1.341951 -1.06066 -1.06066 \nC -1.341951 -0.77937 -1.5 -0.397805 -1.5 0 \nC -1.5 0.397805 -1.341951 0.77937 -1.06066 1.06066 \nC -0.77937 1.341951 -0.397805 1.5 0 1.5 \nz\n\" id=\"m084a6a587c\" style=\"stroke:#1f77b4;\"/>\n    </defs>\n    <g clip-path=\"url(#paf2e088c01)\">\n     <use style=\"fill:#1f77b4;stroke:#1f77b4;\" x=\"48.4625\" xlink:href=\"#m084a6a587c\" y=\"206.52\"/>\n     <use style=\"fill:#1f77b4;stroke:#1f77b4;\" x=\"48.4625\" xlink:href=\"#m084a6a587c\" y=\"161.22\"/>\n     <use style=\"fill:#1f77b4;stroke:#1f77b4;\" x=\"48.4625\" xlink:href=\"#m084a6a587c\" y=\"115.92\"/>\n     <use style=\"fill:#1f77b4;stroke:#1f77b4;\" x=\"48.4625\" xlink:href=\"#m084a6a587c\" y=\"70.62\"/>\n     <use style=\"fill:#1f77b4;stroke:#1f77b4;\" x=\"48.4625\" xlink:href=\"#m084a6a587c\" y=\"25.32\"/>\n     <use style=\"fill:#1f77b4;stroke:#1f77b4;\" x=\"118.2125\" xlink:href=\"#m084a6a587c\" y=\"206.52\"/>\n     <use style=\"fill:#1f77b4;stroke:#1f77b4;\" x=\"118.2125\" xlink:href=\"#m084a6a587c\" y=\"161.22\"/>\n     <use style=\"fill:#1f77b4;stroke:#1f77b4;\" x=\"118.2125\" xlink:href=\"#m084a6a587c\" y=\"115.92\"/>\n     <use style=\"fill:#1f77b4;stroke:#1f77b4;\" x=\"118.2125\" xlink:href=\"#m084a6a587c\" y=\"70.62\"/>\n     <use style=\"fill:#1f77b4;stroke:#1f77b4;\" x=\"118.2125\" xlink:href=\"#m084a6a587c\" y=\"25.32\"/>\n     <use style=\"fill:#1f77b4;stroke:#1f77b4;\" x=\"187.9625\" xlink:href=\"#m084a6a587c\" y=\"206.52\"/>\n     <use style=\"fill:#1f77b4;stroke:#1f77b4;\" x=\"187.9625\" xlink:href=\"#m084a6a587c\" y=\"161.22\"/>\n     <use style=\"fill:#1f77b4;stroke:#1f77b4;\" x=\"187.9625\" xlink:href=\"#m084a6a587c\" y=\"115.92\"/>\n     <use style=\"fill:#1f77b4;stroke:#1f77b4;\" x=\"187.9625\" xlink:href=\"#m084a6a587c\" y=\"70.62\"/>\n     <use style=\"fill:#1f77b4;stroke:#1f77b4;\" x=\"187.9625\" xlink:href=\"#m084a6a587c\" y=\"25.32\"/>\n     <use style=\"fill:#1f77b4;stroke:#1f77b4;\" x=\"257.7125\" xlink:href=\"#m084a6a587c\" y=\"206.52\"/>\n     <use style=\"fill:#1f77b4;stroke:#1f77b4;\" x=\"257.7125\" xlink:href=\"#m084a6a587c\" y=\"161.22\"/>\n     <use style=\"fill:#1f77b4;stroke:#1f77b4;\" x=\"257.7125\" xlink:href=\"#m084a6a587c\" y=\"115.92\"/>\n     <use style=\"fill:#1f77b4;stroke:#1f77b4;\" x=\"257.7125\" xlink:href=\"#m084a6a587c\" y=\"70.62\"/>\n     <use style=\"fill:#1f77b4;stroke:#1f77b4;\" x=\"257.7125\" xlink:href=\"#m084a6a587c\" y=\"25.32\"/>\n     <use style=\"fill:#1f77b4;stroke:#1f77b4;\" x=\"327.4625\" xlink:href=\"#m084a6a587c\" y=\"206.52\"/>\n     <use style=\"fill:#1f77b4;stroke:#1f77b4;\" x=\"327.4625\" xlink:href=\"#m084a6a587c\" y=\"161.22\"/>\n     <use style=\"fill:#1f77b4;stroke:#1f77b4;\" x=\"327.4625\" xlink:href=\"#m084a6a587c\" y=\"115.92\"/>\n     <use style=\"fill:#1f77b4;stroke:#1f77b4;\" x=\"327.4625\" xlink:href=\"#m084a6a587c\" y=\"70.62\"/>\n     <use style=\"fill:#1f77b4;stroke:#1f77b4;\" x=\"327.4625\" xlink:href=\"#m084a6a587c\" y=\"25.32\"/>\n    </g>\n   </g>\n   <g id=\"line2d_12\">\n    <defs>\n     <path d=\"M 0 3 \nC 0.795609 3 1.55874 2.683901 2.12132 2.12132 \nC 2.683901 1.55874 3 0.795609 3 0 \nC 3 -0.795609 2.683901 -1.55874 2.12132 -2.12132 \nC 1.55874 -2.683901 0.795609 -3 0 -3 \nC -0.795609 -3 -1.55874 -2.683901 -2.12132 -2.12132 \nC -2.683901 -1.55874 -3 -0.795609 -3 0 \nC -3 0.795609 -2.683901 1.55874 -2.12132 2.12132 \nC -1.55874 2.683901 -0.795609 3 0 3 \nz\n\" id=\"m6752cd6c79\" style=\"stroke:#ff7f0e;\"/>\n    </defs>\n    <g clip-path=\"url(#paf2e088c01)\">\n     <use style=\"fill:#ff7f0e;stroke:#ff7f0e;\" x=\"83.3375\" xlink:href=\"#m6752cd6c79\" y=\"183.87\"/>\n     <use style=\"fill:#ff7f0e;stroke:#ff7f0e;\" x=\"83.3375\" xlink:href=\"#m6752cd6c79\" y=\"47.97\"/>\n     <use style=\"fill:#ff7f0e;stroke:#ff7f0e;\" x=\"83.3375\" xlink:href=\"#m6752cd6c79\" y=\"138.57\"/>\n     <use style=\"fill:#ff7f0e;stroke:#ff7f0e;\" x=\"83.3375\" xlink:href=\"#m6752cd6c79\" y=\"93.27\"/>\n     <use style=\"fill:#ff7f0e;stroke:#ff7f0e;\" x=\"292.5875\" xlink:href=\"#m6752cd6c79\" y=\"183.87\"/>\n     <use style=\"fill:#ff7f0e;stroke:#ff7f0e;\" x=\"153.0875\" xlink:href=\"#m6752cd6c79\" y=\"138.57\"/>\n     <use style=\"fill:#ff7f0e;stroke:#ff7f0e;\" x=\"153.0875\" xlink:href=\"#m6752cd6c79\" y=\"183.87\"/>\n     <use style=\"fill:#ff7f0e;stroke:#ff7f0e;\" x=\"222.8375\" xlink:href=\"#m6752cd6c79\" y=\"183.87\"/>\n     <use style=\"fill:#ff7f0e;stroke:#ff7f0e;\" x=\"292.5875\" xlink:href=\"#m6752cd6c79\" y=\"47.97\"/>\n     <use style=\"fill:#ff7f0e;stroke:#ff7f0e;\" x=\"153.0875\" xlink:href=\"#m6752cd6c79\" y=\"93.27\"/>\n     <use style=\"fill:#ff7f0e;stroke:#ff7f0e;\" x=\"153.0875\" xlink:href=\"#m6752cd6c79\" y=\"47.97\"/>\n     <use style=\"fill:#ff7f0e;stroke:#ff7f0e;\" x=\"222.8375\" xlink:href=\"#m6752cd6c79\" y=\"47.97\"/>\n     <use style=\"fill:#ff7f0e;stroke:#ff7f0e;\" x=\"222.8375\" xlink:href=\"#m6752cd6c79\" y=\"138.57\"/>\n     <use style=\"fill:#ff7f0e;stroke:#ff7f0e;\" x=\"222.8375\" xlink:href=\"#m6752cd6c79\" y=\"93.27\"/>\n     <use style=\"fill:#ff7f0e;stroke:#ff7f0e;\" x=\"292.5875\" xlink:href=\"#m6752cd6c79\" y=\"138.57\"/>\n     <use style=\"fill:#ff7f0e;stroke:#ff7f0e;\" x=\"292.5875\" xlink:href=\"#m6752cd6c79\" y=\"93.27\"/>\n    </g>\n   </g>\n   <g id=\"patch_3\">\n    <path d=\"M 20.5625 224.64 \nL 20.5625 7.2 \n\" style=\"fill:none;stroke:#000000;stroke-linecap:square;stroke-linejoin:miter;stroke-width:0.8;\"/>\n   </g>\n   <g id=\"patch_4\">\n    <path d=\"M 355.3625 224.64 \nL 355.3625 7.2 \n\" style=\"fill:none;stroke:#000000;stroke-linecap:square;stroke-linejoin:miter;stroke-width:0.8;\"/>\n   </g>\n   <g id=\"patch_5\">\n    <path d=\"M 20.5625 224.64 \nL 355.3625 224.64 \n\" style=\"fill:none;stroke:#000000;stroke-linecap:square;stroke-linejoin:miter;stroke-width:0.8;\"/>\n   </g>\n   <g id=\"patch_6\">\n    <path d=\"M 20.5625 7.2 \nL 355.3625 7.2 \n\" style=\"fill:none;stroke:#000000;stroke-linecap:square;stroke-linejoin:miter;stroke-width:0.8;\"/>\n   </g>\n  </g>\n </g>\n <defs>\n  <clipPath id=\"paf2e088c01\">\n   <rect height=\"217.44\" width=\"334.8\" x=\"20.5625\" y=\"7.2\"/>\n  </clipPath>\n </defs>\n</svg>\n",
      "text/plain": "<Figure size 432x288 with 1 Axes>"
     },
     "metadata": {
      "needs_background": "light"
     },
     "output_type": "display_data"
    }
   ],
   "source": [
    "def plot_2d_v(points):\n",
    "    num_div = 5\n",
    "    # points = np.zeros((num_div**2, 2)\n",
    "\n",
    "    index = 0\n",
    "    for i in range(num_div):\n",
    "        for j in range(num_div):\n",
    "            points[index, :] = [i, j]\n",
    "            index += 1\n",
    "\n",
    "\n",
    "    from scipy.spatial import Voronoi, voronoi_plot_2d\n",
    "    vor = Voronoi(points)\n",
    "    import matplotlib.pyplot as plt\n",
    "    voronoi_plot_2d(vor)\n",
    "    plt.show()\n",
    "    # print(vor.regions)"
   ]
  },
  {
   "cell_type": "code",
   "execution_count": 8,
   "metadata": {},
   "outputs": [],
   "source": [
    "R = np.empty((num_crystal, 3, 3))\n",
    "\n",
    "Rx_matrix = np.empty((num_crystal, 3, 3))\n",
    "Ry_matrix = np.empty((num_crystal, 3, 3))\n",
    "Rz_matrix = np.empty((num_crystal, 3, 3))\n",
    "\n",
    "for i in range(num_crystal):\n",
    "    Rx_matrix[i, :, :] = np.array([[1, 0, 0],\n",
    "                   [0, cos(theta_x[i]), -sin(theta_x[i])], \n",
    "                  [0, sin(theta_x[i]), cos(theta_x[i])]])\n",
    "    \n",
    "    Ry_matrix[i, :, :] = np.array([[cos(theta_y[i]), 0, sin(theta_y[i])], \n",
    "                  [0, 1, 0],\n",
    "                  [-sin(theta_y[i]), 0, cos(theta_y[i])]])\n",
    "    \n",
    "    Rz_matrix[i, :, :] = np.array([[cos(theta_z[i]), -sin(theta_z[i]), 0],\n",
    "                 [sin(theta_z[i]), cos(theta_z[i]), 0],\n",
    "                 [0, 0, 1]])\n",
    "\n",
    "    R[i, :, :] = np.matmul(np.matmul(Ry_matrix[i, :, :], Rx_matrix[i, :, :]), Rz_matrix[i, :, :])\n",
    "\n",
    "\n",
    "og_x = np.array([[1, 0, 0] for i in range(num_crystal)])\n",
    "og_y = np.array([[0, 1, 0] for i in range(num_crystal)])\n",
    "og_z = np.array([[0, 0, 1] for i in range(num_crystal)])\n",
    "\n",
    "Rx_vector = np.empty((num_crystal, 3))\n",
    "Ry_vector = np.empty((num_crystal, 3))\n",
    "Rz_vector = np.empty((num_crystal, 3))\n",
    "\n",
    "for i in range(num_crystal):\n",
    "    Rx_vector[i, :] = np.matmul(R[i, :, :], og_x[i, :])\n",
    "    Ry_vector[i, :] = np.matmul(R[i, :, :], og_y[i, :])\n",
    "    Rz_vector[i, :] = np.matmul(R[i, :, :], og_z[i, :])\n",
    "\n",
    "geometry = [solid_region,]\n",
    "\n",
    "for i in range(num_crystal):\n",
    "    if (np.abs(loc[i, 0]) < size_solid[0] - size_crystal_base[0]/2 and \n",
    "    np.abs(loc[i, 1]) < size_solid[1] - size_crystal_base[1]/2 and \n",
    "    np.abs(loc[i, 2]) < size_solid[2] - size_crystal_base[2]/2):\n",
    "        geometry.append(mp.Block(\n",
    "            size_crystal[i],\n",
    "            center = mp.Vector3(loc[i, 0], loc[i, 1], loc[i, 2]),\n",
    "            e1 = Rx_vector[i, :],\n",
    "            e2 = Ry_vector[i, :],\n",
    "            e3 = Rz_vector[i, :],\n",
    "            material=mp.Medium(epsilon=10.5)))\n",
    "\n"
   ]
  },
  {
   "cell_type": "code",
   "execution_count": 9,
   "metadata": {},
   "outputs": [],
   "source": [
    "export_geo = True\n",
    "\n",
    "if export_geo:\n",
    "    file_name = 'geometry.peter'\n",
    "    to_write = [num_crystal, size_solid_l, size_crystal_l, loc, theta_x, theta_y, theta_z]\n",
    "    for i in range(len(to_write)):\n",
    "        if type(to_write[i]) is not int and type(to_write[i]) is not list:\n",
    "            to_write[i] = to_write[i].tolist()\n",
    "    with open(file_name, 'w') as f:\n",
    "        json.dump(to_write, f)\n",
    "\n",
    "#\\\\ad.monash.edu\\home\\User045\\dche145\\Documents\\Abaqus\\geometry_shapes\n",
    "#\\\\Client\\D$\\source\\working_with_meep"
   ]
  },
  {
   "cell_type": "markdown",
   "execution_count": 67,
   "metadata": {},
   "outputs": [
    {
     "name": "stdout",
     "output_type": "stream",
     "text": "[0 1 0 1 0 1 0 1 0 1 0 1 0 1 0 1 0 1 0 1 0 1 0 1 0 1 0 1 0 1 0 1 0 1 0 1 0\n 1 0 1 0 1 0 1 0 1 0 1 0 1 0 1 0 1 0 1 0 1 0 1 0 1 0 1 0 1 0 1 0 1 0 1 0 1\n 0 1 0 1 0 1 0 1 0 1 0 1 0 1 0 1 0 1 0 1 0 1 0 1 0 1 0 1 0 1 0 1 0 1 0 1 0\n 1 0 1 0 1 0 1 0 1 0 1 0 1 0]\n"
    }
   ],
   "source": [
    "helper functions"
   ]
  },
  {
   "cell_type": "code",
   "execution_count": null,
   "metadata": {},
   "outputs": [],
   "source": [
    "def closest_node(node, nodes):\n",
    "    # nodes = np.asarray(nodes)\n",
    "    dist_2 = np.sum((nodes - node)**2, axis=1)\n",
    "    return np.argmin(dist_2)\n",
    "\n",
    "    \n",
    "def my_mat(coord):\n",
    "    if coord[0] <  0.25 and coord[0] > -0.25 :\n",
    "        return mp.Medium(epsilon=10.5)\n",
    "    else:\n",
    "        return mp.Medium(epsilon=1)\n",
    "\n",
    "def my_eps(coord):\n",
    "    acoord = np.abs(coord)\n",
    "    if (acoord[0] < 0.5 and acoord[1] < 0.5 and acoord[2] < 0.5 ):\n",
    "        return parts_eps[closest_node([coord[0],coord[1],coord[2]], points)]\n",
    "    else:\n",
    "        return 1.0\n",
    "\n",
    "def my_part_ass(coord):\n",
    "    if (acoord[0] < 0.5 and acoord[1] < 0.5 and acoord[2] < 0.5 ):\n",
    "        return parts_ass[closest_node([coord[0],coord[1],coord[2]], points)]\n",
    "    else:\n",
    "        return 1.0\n",
    "\n",
    "def index2coord(index, size_arr, size_geo):\n",
    "    index = (index/size_arr - 0.5)*size_geo\n",
    "    return index"
   ]
  },
  {
   "cell_type": "code",
   "execution_count": 77,
   "metadata": {},
   "outputs": [
    {
     "data": {
      "text/plain": "array([[ 0.3488177 , -0.32110408, -0.44563679],\n       [-0.13846155, -0.22459907,  0.03000022],\n       [-0.19408108, -0.19552564, -0.38825872],\n       [-0.25010099,  0.4176299 , -0.23585315],\n       [ 0.21777369,  0.36571503,  0.30707948],\n       [-0.28944942, -0.33275697, -0.45329361],\n       [-0.46057769, -0.29976919,  0.4985434 ],\n       [-0.12721302,  0.26051027, -0.02652556],\n       [ 0.00971531,  0.44503842, -0.39055335],\n       [-0.03490684, -0.35844474,  0.03834876],\n       [-0.20100134,  0.03774522,  0.16562754],\n       [-0.1356712 ,  0.12301862,  0.14272489],\n       [-0.08001818, -0.09675757, -0.10957967],\n       [-0.09381048, -0.42033389, -0.4431688 ],\n       [-0.42166909,  0.19567781, -0.47084104],\n       [-0.00050758, -0.36736568, -0.46924437],\n       [ 0.13948943, -0.05400185,  0.47460664],\n       [-0.17023407, -0.30457518,  0.18404621],\n       [-0.14890114,  0.27103611,  0.2917995 ],\n       [-0.05612541, -0.2311717 , -0.47609558],\n       [-0.12866743, -0.40226912,  0.22752255],\n       [-0.04055557,  0.02049647,  0.18456904],\n       [-0.0747097 ,  0.10347306,  0.32384911],\n       [-0.04812874,  0.3879452 , -0.27960046],\n       [-0.39317735, -0.48798987,  0.4179414 ],\n       [ 0.13656621, -0.28023796,  0.04755243],\n       [ 0.42079967,  0.37566594, -0.37240785],\n       [-0.19634626, -0.20470343,  0.06910504],\n       [ 0.24341963, -0.16998481,  0.10785231],\n       [ 0.01567535,  0.41980072, -0.29863339],\n       [-0.49835524, -0.4282668 , -0.0795055 ],\n       [-0.00108263,  0.07375169,  0.38037338],\n       [-0.29928003, -0.07882194,  0.43227734],\n       [-0.1367092 , -0.48499584,  0.39972741],\n       [ 0.11540017,  0.47094207,  0.12162033],\n       [ 0.43626246,  0.09903967, -0.36072128],\n       [ 0.17837472,  0.04633905, -0.49095562],\n       [ 0.27477024, -0.3785755 ,  0.01739414],\n       [ 0.16575234,  0.26291284,  0.44087888],\n       [-0.37601244, -0.29000426, -0.1346323 ],\n       [-0.0987115 ,  0.09000546,  0.4939147 ],\n       [ 0.11150887,  0.18302135, -0.40378871],\n       [-0.06597833, -0.3708413 , -0.28459663],\n       [ 0.35006595, -0.13001075, -0.27178752],\n       [ 0.35993265, -0.03424922,  0.17811697],\n       [-0.12212402,  0.21643356, -0.13498021],\n       [ 0.05152187,  0.0862687 , -0.38461165],\n       [-0.34046425,  0.24543823, -0.02765831],\n       [ 0.13020293,  0.31201369, -0.43399888],\n       [-0.20008108,  0.12358205, -0.00681246],\n       [ 0.28921973,  0.33878993,  0.26127667],\n       [-0.37850841,  0.46974271,  0.36380923],\n       [-0.40070944, -0.157345  , -0.46387295],\n       [ 0.08684088,  0.2973855 ,  0.46913106],\n       [ 0.46850525, -0.42097049, -0.31525702],\n       [ 0.38353573,  0.24451373, -0.33298375],\n       [-0.06149069,  0.01265743, -0.28261834],\n       [-0.39835657, -0.25103508,  0.46661232],\n       [ 0.32184651, -0.06488387,  0.32781234],\n       [-0.45246301,  0.26985324,  0.46560156],\n       [-0.46912687,  0.09089601,  0.24833583],\n       [-0.30156946, -0.04773398, -0.24723097],\n       [ 0.31725646,  0.4508608 , -0.2377524 ],\n       [-0.36675625, -0.33212787, -0.08960132],\n       [-0.01578788, -0.35390875,  0.2175535 ],\n       [-0.13014586, -0.34145316,  0.10304818],\n       [-0.18785846,  0.42217876,  0.26919799],\n       [ 0.04082469, -0.23173574,  0.23303072],\n       [-0.49266849,  0.39609054, -0.29079287],\n       [ 0.3413235 , -0.01211338,  0.38460406],\n       [-0.01193491, -0.00548945, -0.29057985],\n       [-0.23781186,  0.12345126, -0.04481928],\n       [ 0.40884841,  0.05499235,  0.20309888],\n       [-0.29480505, -0.2355237 , -0.08302666],\n       [-0.47387613,  0.20902792, -0.08022173],\n       [-0.47995735,  0.17790122, -0.13506124],\n       [-0.27465046,  0.009001  , -0.35556976],\n       [ 0.4410354 , -0.48406357,  0.2278935 ],\n       [ 0.35853612,  0.37276521,  0.02840654],\n       [-0.09158922,  0.24254858,  0.30041975],\n       [-0.23051746, -0.23581379, -0.25223724],\n       [ 0.36012932,  0.44754964, -0.34598867],\n       [ 0.44538933,  0.00331958, -0.17766041],\n       [ 0.25995687,  0.42547864, -0.23948255],\n       [-0.41741596, -0.44647189,  0.30512636],\n       [-0.18827129,  0.15006592, -0.32858018],\n       [ 0.30011088, -0.09749166, -0.43959283],\n       [ 0.10243982, -0.32572129, -0.07043599],\n       [-0.081536  ,  0.42826276,  0.42836599],\n       [-0.18844148, -0.24935724,  0.37064016],\n       [ 0.18596885, -0.17910233,  0.16940295],\n       [ 0.44000563,  0.31336415, -0.4428018 ],\n       [ 0.47858297,  0.40071912, -0.1072756 ],\n       [ 0.39143354, -0.02612265,  0.25969964],\n       [ 0.32793491, -0.36491175, -0.16793853],\n       [-0.45724316, -0.43055138,  0.11698984],\n       [ 0.0922921 ,  0.46192815, -0.24930304],\n       [ 0.43510287, -0.02483972,  0.18235249],\n       [-0.45761565,  0.46171796, -0.28087972],\n       [-0.23732266,  0.27197004,  0.37405602],\n       [ 0.49203312,  0.20830294, -0.08622627],\n       [-0.49855539,  0.43303178,  0.35962703],\n       [-0.42880971, -0.26298317,  0.23614841],\n       [-0.23971715, -0.33228038,  0.47468474],\n       [-0.10832619, -0.19110682, -0.27059461],\n       [-0.43882433, -0.03147623, -0.47623956],\n       [ 0.21816179, -0.13136718,  0.0512897 ],\n       [ 0.34997281,  0.03071774,  0.49606673],\n       [ 0.42199185,  0.04484521,  0.19602149],\n       [ 0.33041891, -0.2803487 , -0.06189508],\n       [ 0.38428638, -0.45012075,  0.03686535],\n       [-0.24536878, -0.10165425, -0.26759641],\n       [ 0.11229422,  0.32942423,  0.42469084],\n       [-0.35113884,  0.41384816,  0.27236858],\n       [ 0.27993011,  0.28049678, -0.22754683],\n       [-0.18228234, -0.04175527, -0.41699555],\n       [ 0.01290826,  0.14890599, -0.33753711],\n       [-0.44232231,  0.37879149,  0.0291243 ],\n       [-0.21855741,  0.28004478,  0.02288781],\n       [-0.01887377, -0.35992255, -0.26114966],\n       [-0.17541726,  0.19938909, -0.26505471],\n       [-0.06493767,  0.45417458,  0.46248546],\n       [-0.22520431,  0.26548608,  0.43241246],\n       [ 0.02605957,  0.13450323, -0.01431151],\n       [-0.24271768, -0.02671004,  0.27288689]])"
     },
     "execution_count": 77,
     "metadata": {},
     "output_type": "execute_result"
    }
   ],
   "source": [
    "points"
   ]
  },
  {
   "cell_type": "code",
   "execution_count": 81,
   "metadata": {},
   "outputs": [],
   "source": [
    "num_div = 20\n",
    "num_seed = num_div**3\n",
    "points = np.zeros((num_div**3, 3))\n",
    "\n",
    "p_range = np.array([1.0, 1.0, 1.0])\n",
    "p_div = p_range/num_div\n",
    "num_parts = 2\n",
    "eps_val = [1, 10]\n",
    "\n",
    "# vor = Voronoi(points)\n",
    "\n",
    "# assigning points and seeds\n",
    "random_ass = True\n",
    "if random_ass:\n",
    "    np.random.seed(15)\n",
    "    points = np.random.rand(num_seed, 3) - 0.5\n",
    "    parts_ass = np.random.randint(0, num_parts, (num_seed))\n",
    "else:\n",
    "    index = 0\n",
    "    for i in range(num_div):\n",
    "        for j in range(num_div):\n",
    "            for k in range(num_div):\n",
    "                points[index, :] = [i*p_div[0] - p_range[0]/2, j*p_div[1] - p_range[1]/2, k*p_div[2] - p_range[2]/2]\n",
    "                index += 1\n",
    "    # this will produce checker pattern\n",
    "    parts_ass = np.array([1 if i%2 else 0 for i in range(num_seed)])\n",
    "\n",
    "parts_eps = [eps_val[parts_ass[i]] for i in range(num_seed)]\n",
    "\n"
   ]
  },
  {
   "cell_type": "code",
   "execution_count": 84,
   "metadata": {},
   "outputs": [],
   "source": [
    "out_test = np.array((\n",
    "    (1,2,3),\n",
    "    (4,5,6),\n",
    "    (7,8,9)\n",
    ")\n",
    ")\n",
    "with open('../abaqus_working_space/abaqus_out/test_geo.peter', 'wb') as f:\n",
    "        out_test.tofile(f)"
   ]
  },
  {
   "cell_type": "code",
   "execution_count": null,
   "metadata": {},
   "outputs": [],
   "source": [
    "#output geometric files\n",
    "update_geofile = False\n",
    "if update_geofile:\n",
    "    size_out_geo = [100, 100, 100]\n",
    "    out_geo = np.zeros((size_out_geo))\n",
    "    for i in range(size_out_geo[0]):\n",
    "        for j in range(size_out_geo[1]):\n",
    "            for k in range(size_out_geo[2]):\n",
    "                coord = index2coord(np.array((i,j,k),dtype=float), size_out_geo, size_cell_l)\n",
    "                out_geo[i,j,k] = parts_ass[closest_node(coord, points)]\n",
    "    with open('../abaqus_working_space/abaqus_out/voronoi_geo.peter', 'wb') as f:\n",
    "        out_geo.tofile(f)"
   ]
  },
  {
   "cell_type": "code",
   "execution_count": null,
   "metadata": {},
   "outputs": [],
   "source": [
    "#construct the geometry\n",
    "pml_layers = [mp.PML(0.3)]\n",
    "\n",
    "source_pad = 0.25\n",
    "source = [mp.Source(mp.ContinuousSource(wavelength=2*(11**0.5), width=20),\n",
    "                   component=mp.Ez,\n",
    "                   center=mp.Vector3(0.75, 0, 0),\n",
    "                   size=mp.Vector3(0, 0.1, 0.1))]\n",
    "sim = mp.Simulation(resolution=100,\n",
    "                    cell_size=size_cell,\n",
    "                    boundary_layers=pml_layers,\n",
    "                    sources = source,\n",
    "                    epsilon_func = my_eps)\n"
   ]
  },
  {
   "cell_type": "markdown",
   "metadata": {},
   "source": [
    "Create the visualization for visual inspection"
   ]
  },
  {
   "cell_type": "code",
   "execution_count": 82,
   "metadata": {},
   "outputs": [
    {
     "name": "stdout",
     "output_type": "stream",
     "text": "-----------\nInitializing structure...\ntime for choose_chunkdivision = 0.000535965 s\nWorking in 3D dimensions.\nComputational cell is 2 x 2 x 2 with resolution 100\nsubpixel-averaging is 67.7694% done, 1.90628 s remaining\nsubpixel-averaging is 67.7694% done, 1.90443 s remaining\nsubpixel-averaging is 66.4754% done, 2.01866 s remaining\nsubpixel-averaging is 65.8285% done, 2.07667 s remaining\nsubpixel-averaging is 64.858% done, 2.16802 s remaining\nsubpixel-averaging is 64.6963% done, 2.18635 s remaining\nsubpixel-averaging is 13.926% done, 25.2267 s remaining\nsubpixel-averaging is 14.8941% done, 23.668 s remaining\nsubpixel-averaging is 15.6761% done, 21.7632 s remaining\nsubpixel-averaging is 16.6814% done, 20.904 s remaining\nsubpixel-averaging is 17.4633% done, 18.9879 s remaining\nsubpixel-averaging is 18.2453% done, 18.0002 s remaining\nsubpixel-averaging is 19.0272% done, 17.1777 s remaining\nsubpixel-averaging is 19.8092% done, 16.3566 s remaining\nsubpixel-averaging is 20.5911% done, 15.5932 s remaining\nsubpixel-averaging is 21.3731% done, 14.8344 s remaining\nsubpixel-averaging is 22.155% done, 14.1822 s remaining\nsubpixel-averaging is 23.1604% done, 13.9553 s remaining\nsubpixel-averaging is 23.9423% done, 12.8116 s remaining\nsubpixel-averaging is 24.7242% done, 12.269 s remaining\nsubpixel-averaging is 25.5062% done, 11.7726 s remaining\nsubpixel-averaging is 26.2881% done, 11.3025 s remaining\nsubpixel-averaging is 27.0701% done, 10.9591 s remaining\nsubpixel-averaging is 27.852% done, 10.4693 s remaining\nsubpixel-averaging is 28.634% done, 10.0744 s remaining\nsubpixel-averaging is 29.6393% done, 9.97544 s remaining\nsubpixel-averaging is 30.4213% done, 9.22666 s remaining\nsubpixel-averaging is 31.2032% done, 8.89258 s remaining\nsubpixel-averaging is 31.9851% done, 8.58355 s remaining\nsubpixel-averaging is 32.7671% done, 8.27832 s remaining\nsubpixel-averaging is 33.549% done, 7.97824 s remaining\nsubpixel-averaging is 34.331% done, 7.70951 s remaining\nsubpixel-averaging is 35.1129% done, 7.44634 s remaining\nsubpixel-averaging is 36.1183% done, 7.40581 s remaining\nsubpixel-averaging is 36.9002% done, 6.88242 s remaining\nsubpixel-averaging is 37.6822% done, 6.65165 s remaining\nsubpixel-averaging is 38.4641% done, 6.4553 s remaining\nsubpixel-averaging is 39.246% done, 6.26287 s remaining\nsubpixel-averaging is 40.028% done, 6.04902 s remaining\nsubpixel-averaging is 40.8099% done, 5.84824 s remaining\nsubpixel-averaging is 41.5919% done, 5.67243 s remaining\nsubpixel-averaging is 42.5972% done, 5.66248 s remaining\nsubpixel-averaging is 43.3792% done, 5.26304 s remaining\nsubpixel-averaging is 44.1611% done, 5.10328 s remaining\nsubpixel-averaging is 44.943% done, 4.95472 s remaining\nsubpixel-averaging is 45.725% done, 4.79672 s remaining\nsubpixel-averaging is 46.5069% done, 4.63378 s remaining\nsubpixel-averaging is 47.2889% done, 4.48509 s remaining\nsubpixel-averaging is 48.0708% done, 4.34001 s remaining\nsubpixel-averaging is 49.0762% done, 4.34494 s remaining\nsubpixel-averaging is 49.8581% done, 4.04469 s remaining\nsubpixel-averaging is 50.6401% done, 3.93653 s remaining\nsubpixel-averaging is 51.422% done, 3.81805 s remaining\nsubpixel-averaging is 52.2039% done, 3.70484 s remaining\nsubpixel-averaging is 52.9859% done, 3.58677 s remaining\nsubpixel-averaging is 53.7678% done, 3.47043 s remaining\nsubpixel-averaging is 54.5498% done, 3.3664 s remaining\nsubpixel-averaging is 55.5551% done, 3.36958 s remaining\nsubpixel-averaging is 56.3371% done, 3.13142 s remaining\nsubpixel-averaging is 57.119% done, 3.03165 s remaining\nsubpixel-averaging is 57.901% done, 2.94014 s remaining\nsubpixel-averaging is 58.6829% done, 2.83425 s remaining\nsubpixel-averaging is 59.4648% done, 2.73957 s remaining\nsubpixel-averaging is 60.2468% done, 2.65362 s remaining\nsubpixel-averaging is 61.0287% done, 2.56579 s remaining\nsubpixel-averaging is 62.0341% done, 2.57619 s remaining\nsubpixel-averaging is 62.816% done, 2.39556 s remaining\nsubpixel-averaging is 63.598% done, 2.31163 s remaining\nsubpixel-averaging is 64.3799% done, 2.23397 s remaining\nsubpixel-averaging is 65.1991% done, 2.24697 s remaining\nsubpixel-averaging is 66.0183% done, 2.16362 s remaining\nsubpixel-averaging is 66.9864% done, 1.97574 s remaining\nsubpixel-averaging is 67.8056% done, 1.91503 s remaining\nsubpixel-averaging is 68.6247% done, 1.91436 s remaining\nsubpixel-averaging is 69.4439% done, 1.83978 s remaining\nsubpixel-averaging is 70.2631% done, 1.77294 s remaining\nsubpixel-averaging is 71.0823% done, 1.70426 s remaining\nsubpixel-averaging is 72.0876% done, 1.58563 s remaining\nsubpixel-averaging is 72.9068% done, 1.55027 s remaining\nsubpixel-averaging is 73.726% done, 1.49279 s remaining\nsubpixel-averaging is 74.5452% done, 1.42959 s remaining\nsubpixel-averaging is 75.3643% done, 1.36605 s remaining\nsubpixel-averaging is 76.1835% done, 1.25374 s remaining\nsubpixel-averaging is 77.1516% done, 1.19499 s remaining\nsubpixel-averaging is 77.9708% done, 1.18264 s remaining\nsubpixel-averaging is 78.79% done, 1.12593 s remaining\nsubpixel-averaging is 79.6092% done, 1.07646 s remaining\nsubpixel-averaging is 80.4283% done, 1.0239 s remaining\nsubpixel-averaging is 81.4337% done, 0.941646 s remaining\nsubpixel-averaging is 82.2529% done, 0.905393 s remaining\nsubpixel-averaging is 83.0721% done, 0.8563 s remaining\nsubpixel-averaging is 83.8912% done, 0.809487 s remaining\nsubpixel-averaging is 84.7104% done, 0.759709 s remaining\nsubpixel-averaging is 85.5296% done, 0.686816 s remaining\nsubpixel-averaging is 70.0337% done, 1.71403 s remaining\nsubpixel-averaging is 69.872% done, 1.72492 s remaining\nsubpixel-averaging is 67.9311% done, 1.89019 s remaining\nsubpixel-averaging is 67.7694% done, 1.90519 s remaining\nsubpixel-averaging is 66.7989% done, 1.99241 s remaining\nsubpixel-averaging is 66.6372% done, 2.00653 s remaining\nsubpixel-averaging is 14.559% done, 24.1161 s remaining\nsubpixel-averaging is 15.3782% done, 23.1163 s remaining\nsubpixel-averaging is 16.1973% done, 21.8009 s remaining\nsubpixel-averaging is 17.0165% done, 20.4832 s remaining\nsubpixel-averaging is 17.8357% done, 19.2915 s remaining\nsubpixel-averaging is 18.8411% done, 17.7989 s remaining\nsubpixel-averaging is 19.6602% done, 17.1771 s remaining\nsubpixel-averaging is 20.4794% done, 16.3232 s remaining\nsubpixel-averaging is 21.2986% done, 15.491 s remaining\nsubpixel-averaging is 22.1178% done, 14.7908 s remaining\nsubpixel-averaging is 22.9369% done, 13.7769 s remaining\nsubpixel-averaging is 23.9051% done, 12.7715 s remaining\nsubpixel-averaging is 24.7242% done, 12.7742 s remaining\nsubpixel-averaging is 25.5434% done, 12.2402 s remaining\nsubpixel-averaging is 26.3626% done, 11.7311 s remaining\nsubpixel-averaging is 27.1818% done, 11.2621 s remaining\nsubpixel-averaging is 28.1871% done, 10.5133 s remaining\nsubpixel-averaging is 29.0063% done, 10.2629 s remaining\nsubpixel-averaging is 29.8255% done, 9.88532 s remaining\nsubpixel-averaging is 30.6447% done, 9.52304 s remaining\nsubpixel-averaging is 31.4638% done, 9.12384 s remaining\nsubpixel-averaging is 32.283% done, 8.64509 s remaining\nsubpixel-averaging is 33.2884% done, 8.44599 s remaining\nsubpixel-averaging is 34.1076% done, 8.15287 s remaining\nsubpixel-averaging is 34.9267% done, 7.84863 s remaining\nsubpixel-averaging is 35.7459% done, 7.6027 s remaining\nsubpixel-averaging is 36.5651% done, 7.31694 s remaining\nsubpixel-averaging is 37.5704% done, 6.89296 s remaining\nsubpixel-averaging is 38.3896% done, 6.76398 s remaining\nsubpixel-averaging is 39.2088% done, 6.54462 s remaining\nsubpixel-averaging is 40.028% done, 6.3203 s remaining\nsubpixel-averaging is 40.8472% done, 6.09157 s remaining\nsubpixel-averaging is 41.8525% done, 5.76429 s remaining\nsubpixel-averaging is 42.6717% done, 5.66754 s remaining\nsubpixel-averaging is 43.4909% done, 5.48747 s remaining\nsubpixel-averaging is 44.31% done, 5.30451 s remaining\nsubpixel-averaging is 45.1292% done, 5.13538 s remaining\nsubpixel-averaging is 45.9484% done, 4.89418 s remaining\nsubpixel-averaging is 46.9538% done, 4.77351 s remaining\nsubpixel-averaging is 47.7729% done, 4.62897 s remaining\nsubpixel-averaging is 48.5549% done, 4.2394 s remaining\nsubpixel-averaging is 49.3741% done, 4.34662 s remaining\nsubpixel-averaging is 50.1932% done, 4.20792 s remaining\nsubpixel-averaging is 51.0496% done, 3.84136 s remaining\nsubpixel-averaging is 51.9805% done, 3.82316 s remaining\nsubpixel-averaging is 52.7997% done, 3.79769 s remaining\nsubpixel-averaging is 53.6189% done, 3.66566 s remaining\nsubpixel-averaging is 54.4381% done, 3.54104 s remaining\nsubpixel-averaging is 55.2572% done, 3.42704 s remaining\nsubpixel-averaging is 56.2626% done, 3.23825 s remaining\nsubpixel-averaging is 57.0818% done, 3.18953 s remaining\nsubpixel-averaging is 57.901% done, 3.07466 s remaining\nsubpixel-averaging is 58.7201% done, 2.98022 s remaining\nsubpixel-averaging is 59.5393% done, 2.8832 s remaining\nsubpixel-averaging is 60.3585% done, 2.64821 s remaining\nsubpixel-averaging is 61.3266% done, 2.59211 s remaining\nsubpixel-averaging is 62.1458% done, 2.57396 s remaining\nsubpixel-averaging is 62.965% done, 2.49467 s remaining\nsubpixel-averaging is 63.7841% done, 2.40662 s remaining\nsubpixel-averaging is 64.6033% done, 2.32032 s remaining\nsubpixel-averaging is 65.6087% done, 2.1827 s remaining\nsubpixel-averaging is 66.4279% done, 2.14618 s remaining\nsubpixel-averaging is 67.247% done, 2.06831 s remaining\nsubpixel-averaging is 68.0662% done, 1.98315 s remaining\nsubpixel-averaging is 68.8854% done, 1.90419 s remaining\nsubpixel-averaging is 69.7046% done, 1.76459 s remaining\nsubpixel-averaging is 70.6727% done, 1.67876 s remaining\nsubpixel-averaging is 71.4919% done, 1.67979 s remaining\nsubpixel-averaging is 72.311% done, 1.61393 s remaining\nsubpixel-averaging is 73.1302% done, 1.547 s remaining\nsubpixel-averaging is 73.9494% done, 1.48561 s remaining\nsubpixel-averaging is 74.9547% done, 1.38274 s remaining\nsubpixel-averaging is 75.7739% done, 1.34661 s remaining\nsubpixel-averaging is 76.5931% done, 1.29237 s remaining\nsubpixel-averaging is 77.4123% done, 1.23131 s remaining\nsubpixel-averaging is 78.2315% done, 1.17649 s remaining\nsubpixel-averaging is 79.0506% done, 1.09224 s remaining\nsubpixel-averaging is 80.0188% done, 1.00452 s remaining\nsubpixel-averaging is 80.8379% done, 1.00322 s remaining\nsubpixel-averaging is 81.6571% done, 0.950385 s remaining\nsubpixel-averaging is 82.4763% done, 0.894373 s remaining\nsubpixel-averaging is 83.2955% done, 0.850688 s remaining\nsubpixel-averaging is 84.3008% done, 0.775206 s remaining\nsubpixel-averaging is 85.12% done, 0.739283 s remaining\nsubpixel-averaging is 90.966% done, 0.397989 s remaining\nsubpixel-averaging is 69.225% done, 1.77891 s remaining\nsubpixel-averaging is 69.7103% done, 1.74024 s remaining\nsubpixel-averaging is 67.7694% done, 1.90456 s remaining\nsubpixel-averaging is 67.7694% done, 1.90656 s remaining\nsubpixel-averaging is 66.9607% done, 1.97844 s remaining\nsubpixel-averaging is 67.1224% done, 1.96055 s remaining\nsubpixel-averaging is 14.559% done, 23.9883 s remaining\nsubpixel-averaging is 15.3782% done, 23.1949 s remaining\nsubpixel-averaging is 16.1973% done, 21.8506 s remaining\nsubpixel-averaging is 17.0165% done, 20.6716 s remaining\nsubpixel-averaging is 17.8357% done, 19.4932 s remaining\nsubpixel-averaging is 18.8411% done, 17.8572 s remaining\nsubpixel-averaging is 19.6602% done, 17.3108 s remaining\nsubpixel-averaging is 20.4794% done, 16.4308 s remaining\nsubpixel-averaging is 21.2986% done, 15.6124 s remaining\nsubpixel-averaging is 22.1178% done, 14.895 s remaining\nsubpixel-averaging is 22.9369% done, 13.8211 s remaining\nsubpixel-averaging is 23.9051% done, 12.8006 s remaining\nsubpixel-averaging is 24.7242% done, 12.9048 s remaining\nsubpixel-averaging is 25.5434% done, 12.3258 s remaining\nsubpixel-averaging is 26.3626% done, 11.8415 s remaining\nsubpixel-averaging is 27.1818% done, 11.3644 s remaining\nsubpixel-averaging is 28.1871% done, 10.5584 s remaining\nsubpixel-averaging is 29.0063% done, 10.377 s remaining\nsubpixel-averaging is 29.8255% done, 9.98028 s remaining\nsubpixel-averaging is 30.6447% done, 9.5952 s remaining\nsubpixel-averaging is 31.4266% done, 8.73753 s remaining\nsubpixel-averaging is 32.2458% done, 8.87781 s remaining\nsubpixel-averaging is 33.2511% done, 8.29891 s remaining\nsubpixel-averaging is 34.0703% done, 8.16531 s remaining\nsubpixel-averaging is 34.8895% done, 7.86053 s remaining\nsubpixel-averaging is 35.7087% done, 7.60095 s remaining\nsubpixel-averaging is 36.5279% done, 7.32916 s remaining\nsubpixel-averaging is 37.5332% done, 6.87092 s remaining\nsubpixel-averaging is 38.3524% done, 6.76471 s remaining\nsubpixel-averaging is 39.1716% done, 6.59108 s remaining\nsubpixel-averaging is 39.9907% done, 6.36456 s remaining\nsubpixel-averaging is 40.8099% done, 6.15239 s remaining\nsubpixel-averaging is 41.6291% done, 5.88487 s remaining\nsubpixel-averaging is 42.6345% done, 5.64685 s remaining\nsubpixel-averaging is 43.4536% done, 5.53082 s remaining\nsubpixel-averaging is 44.2728% done, 5.34745 s remaining\nsubpixel-averaging is 45.092% done, 5.15574 s remaining\nsubpixel-averaging is 45.9112% done, 4.99693 s remaining\nsubpixel-averaging is 46.9165% done, 4.69789 s remaining\nsubpixel-averaging is 47.7357% done, 4.63603 s remaining\nsubpixel-averaging is 48.5549% done, 4.48198 s remaining\nsubpixel-averaging is 49.3741% done, 4.34325 s remaining\nsubpixel-averaging is 50.1932% done, 4.20392 s remaining\nsubpixel-averaging is 51.0496% done, 3.83556 s remaining\nsubpixel-averaging is 51.9805% done, 3.80474 s remaining\nsubpixel-averaging is 52.7997% done, 3.7921 s remaining\nsubpixel-averaging is 53.6189% done, 3.66577 s remaining\nsubpixel-averaging is 54.4381% done, 3.54247 s remaining\nsubpixel-averaging is 55.2572% done, 3.42555 s remaining\nsubpixel-averaging is 56.2626% done, 3.2294 s remaining\nsubpixel-averaging is 57.0818% done, 3.18649 s remaining\nsubpixel-averaging is 57.901% done, 3.07767 s remaining\nsubpixel-averaging is 58.7201% done, 2.97464 s remaining\nsubpixel-averaging is 59.5393% done, 2.88088 s remaining\nsubpixel-averaging is 60.3585% done, 2.65295 s remaining\nsubpixel-averaging is 61.3266% done, 2.5703 s remaining\nsubpixel-averaging is 62.1458% done, 2.56498 s remaining\nsubpixel-averaging is 62.965% done, 2.48196 s remaining\nsubpixel-averaging is 63.7841% done, 2.39017 s remaining\nsubpixel-averaging is 64.6033% done, 2.29906 s remaining\nsubpixel-averaging is 65.6087% done, 2.15167 s remaining\nsubpixel-averaging is 66.4279% done, 2.13329 s remaining\nsubpixel-averaging is 67.247% done, 2.05801 s remaining\nsubpixel-averaging is 68.0662% done, 1.97082 s remaining\nsubpixel-averaging is 68.8854% done, 1.90875 s remaining\nsubpixel-averaging is 69.7046% done, 1.77047 s remaining\nsubpixel-averaging is 70.6727% done, 1.67492 s remaining\nsubpixel-averaging is 71.4919% done, 1.68308 s remaining\nsubpixel-averaging is 72.311% done, 1.61343 s remaining\nsubpixel-averaging is 73.1302% done, 1.55018 s remaining\nsubpixel-averaging is 73.9494% done, 1.48752 s remaining\nsubpixel-averaging is 74.9547% done, 1.37833 s remaining\nsubpixel-averaging is 75.7739% done, 1.34704 s remaining\nsubpixel-averaging is 76.5931% done, 1.29208 s remaining\nsubpixel-averaging is 77.4123% done, 1.23197 s remaining\nsubpixel-averaging is 78.2315% done, 1.17182 s remaining\nsubpixel-averaging is 79.0506% done, 1.09221 s remaining\nsubpixel-averaging is 80.056% done, 1.05429 s remaining\nsubpixel-averaging is 80.8752% done, 0.994721 s remaining\nsubpixel-averaging is 81.6944% done, 0.945833 s remaining\nsubpixel-averaging is 82.5135% done, 0.89655 s remaining\nsubpixel-averaging is 83.3327% done, 0.846833 s remaining\nsubpixel-averaging is 84.3381% done, 0.768007 s remaining\nsubpixel-averaging is 85.1572% done, 0.736482 s remaining\nsubpixel-averaging is 92.0085% done, 0.348017 s remaining\ntime for set_epsilon = 1242.6 s\n-----------\n"
    }
   ],
   "source": [
    "sim.init_sim()\n",
    "eps_data = sim.get_epsilon()\n",
    "\n",
    "show_3d_geo = True\n",
    "if show_3d_geo:\n",
    "    from mayavi import mlab\n",
    "    s = mlab.contour3d(eps_data, colormap=\"YlGnBu\")\n",
    "    mlab.show()"
   ]
  },
  {
   "cell_type": "markdown",
   "metadata": {},
   "source": [
    "cheeky run of the geometry"
   ]
  },
  {
   "cell_type": "code",
   "execution_count": 83,
   "metadata": {},
   "outputs": [
    {
     "name": "stdout",
     "output_type": "stream",
     "text": "s/step\nMeep progress: 6.86/20.0 = 34.3% done in 388.4s, 744.0s to go\non time step 1372 (time=6.86), 0.267025 s/step\nMeep progress: 6.94/20.0 = 34.7% done in 392.7s, 738.9s to go\non time step 1388 (time=6.94), 0.266034 s/step\nMeep progress: 7.0200000000000005/20.0 = 35.1% done in 396.9s, 733.9s to go\non time step 1404 (time=7.02), 0.265915 s/step\nMeep progress: 7.1000000000000005/20.0 = 35.5% done in 401.2s, 728.9s to go\non time step 1420 (time=7.1), 0.265758 s/step\nMeep progress: 7.18/20.0 = 35.9% done in 405.4s, 723.9s to go\non time step 1436 (time=7.18), 0.266002 s/step\nMeep progress: 7.23/20.0 = 36.1% done in 409.6s, 723.4s to go\non time step 1446 (time=7.23), 0.412781 s/step\nMeep progress: 7.3100000000000005/20.0 = 36.5% done in 413.8s, 718.4s to go\non time step 1462 (time=7.31), 0.266474 s/step\nMeep progress: 7.385/20.0 = 36.9% done in 417.8s, 713.7s to go\non time step 1477 (time=7.385), 0.267792 s/step\nMeep progress: 7.465/20.0 = 37.3% done in 422.1s, 708.8s to go\non time step 1493 (time=7.465), 0.266298 s/step\nMeep progress: 7.545/20.0 = 37.7% done in 426.4s, 703.8s to go\non time step 1509 (time=7.545), 0.26643 s/step\nMeep progress: 7.62/20.0 = 38.1% done in 430.4s, 699.2s to go\non time step 1524 (time=7.62), 0.26696 s/step\nMeep progress: 7.695/20.0 = 38.5% done in 434.4s, 694.6s to go\non time step 1539 (time=7.695), 0.267247 s/step\nMeep progress: 7.7700000000000005/20.0 = 38.9% done in 438.4s, 690.0s to go\non time step 1554 (time=7.77), 0.266703 s/step\nMeep progress: 7.82/20.0 = 39.1% done in 442.5s, 689.2s to go\non time step 1564 (time=7.82), 0.411043 s/step\nMeep progress: 7.8950000000000005/20.0 = 39.5% done in 446.5s, 684.6s to go\non time step 1579 (time=7.895), 0.268503 s/step\nMeep progress: 7.9750000000000005/20.0 = 39.9% done in 450.8s, 679.7s to go\non time step 1595 (time=7.975), 0.266609 s/step\nMeep progress: 8.05/20.0 = 40.2% done in 454.8s, 675.1s to go\non time step 1610 (time=8.05), 0.266851 s/step\nMeep progress: 8.125/20.0 = 40.6% done in 458.8s, 670.5s to go\non time step 1625 (time=8.125), 0.267146 s/step\nMeep progress: 8.2/20.0 = 41.0% done in 462.8s, 666.0s to go\non time step 1640 (time=8.2), 0.26724 s/step\nMeep progress: 8.28/20.0 = 41.4% done in 467.1s, 661.1s to go\non time step 1656 (time=8.28), 0.266398 s/step\nMeep progress: 8.36/20.0 = 41.8% done in 471.3s, 656.2s to go\non time step 1672 (time=8.36), 0.266498 s/step\nMeep progress: 8.41/20.0 = 42.0% done in 475.4s, 655.2s to go\non time step 1682 (time=8.41), 0.412177 s/step\nMeep progress: 8.485/20.0 = 42.4% done in 479.5s, 650.7s to go\non time step 1697 (time=8.485), 0.269044 s/step\nMeep progress: 8.56/20.0 = 42.8% done in 483.5s, 646.2s to go\non time step 1712 (time=8.56), 0.268955 s/step\nMeep progress: 8.635/20.0 = 43.2% done in 487.5s, 641.7s to go\non time step 1727 (time=8.635), 0.266787 s/step\nMeep progress: 8.71/20.0 = 43.6% done in 491.5s, 637.1s to go\non time step 1742 (time=8.71), 0.267119 s/step\nMeep progress: 8.785/20.0 = 43.9% done in 495.5s, 632.6s to go\non time step 1757 (time=8.785), 0.266767 s/step\nMeep progress: 8.86/20.0 = 44.3% done in 499.6s, 628.1s to go\non time step 1772 (time=8.86), 0.269079 s/step\nMeep progress: 8.935/20.0 = 44.7% done in 503.6s, 623.6s to go\non time step 1787 (time=8.935), 0.268 s/step\nMeep progress: 9.0/20.0 = 45.0% done in 508.5s, 621.5s to go\non time step 1800 (time=9), 0.377222 s/step\nMeep progress: 9.075000000000001/20.0 = 45.4% done in 512.5s, 617.0s to go\non time step 1815 (time=9.075), 0.268852 s/step\nMeep progress: 9.15/20.0 = 45.8% done in 516.5s, 612.5s to go\non time step 1830 (time=9.15), 0.26704 s/step\nMeep progress: 9.225/20.0 = 46.1% done in 520.5s, 608.0s to go\non time step 1845 (time=9.225), 0.266882 s/step\nMeep progress: 9.3/20.0 = 46.5% done in 524.5s, 603.5s to go\non time step 1860 (time=9.3), 0.267595 s/step\nMeep progress: 9.375/20.0 = 46.9% done in 528.6s, 599.0s to go\non time step 1875 (time=9.375), 0.267299 s/step\nMeep progress: 9.450000000000001/20.0 = 47.2% done in 532.6s, 594.6s to go\non time step 1890 (time=9.45), 0.267199 s/step\nMeep progress: 9.525/20.0 = 47.6% done in 536.6s, 590.1s to go\non time step 1905 (time=9.525), 0.267194 s/step\nMeep progress: 9.6/20.0 = 48.0% done in 542.0s, 587.2s to go\non time step 1920 (time=9.6), 0.362313 s/step\nMeep progress: 9.675/20.0 = 48.4% done in 546.0s, 582.7s to go\non time step 1935 (time=9.675), 0.268468 s/step\nMeep progress: 9.755/20.0 = 48.8% done in 550.3s, 577.9s to go\non time step 1951 (time=9.755), 0.266257 s/step\nMeep progress: 9.83/20.0 = 49.1% done in 554.3s, 573.5s to go\non time step 1966 (time=9.83), 0.267009 s/step\nMeep progress: 9.905/20.0 = 49.5% done in 558.3s, 569.0s to go\non time step 1981 (time=9.905), 0.267024 s/step\nMeep progress: 9.985/20.0 = 49.9% done in 562.6s, 564.2s to go\non time step 1997 (time=9.985), 0.265417 s/step\nMeep progress: 10.06/20.0 = 50.3% done in 566.6s, 559.8s to go\non time step 2012 (time=10.06), 0.266756 s/step\nMeep progress: 10.135/20.0 = 50.7% done in 570.6s, 555.4s to go\non time step 2027 (time=10.135), 0.267219 s/step\nMeep progress: 10.200000000000001/20.0 = 51.0% done in 575.5s, 552.9s to go\non time step 2040 (time=10.2), 0.37717 s/step\nMeep progress: 10.275/20.0 = 51.4% done in 579.5s, 548.5s to go\non time step 2055 (time=10.275), 0.268797 s/step\nMeep progress: 10.35/20.0 = 51.7% done in 583.5s, 544.0s to go\non time step 2070 (time=10.35), 0.266759 s/step\nMeep progress: 10.43/20.0 = 52.1% done in 587.8s, 539.3s to go\non time step 2086 (time=10.43), 0.266165 s/step\nMeep progress: 10.505/20.0 = 52.5% done in 591.8s, 534.9s to go\non time step 2101 (time=10.505), 0.266912 s/step\nMeep progress: 10.58/20.0 = 52.9% done in 595.8s, 530.5s to go\non time step 2116 (time=10.58), 0.267507 s/step\nMeep progress: 10.655/20.0 = 53.3% done in 599.8s, 526.0s to go\non time step 2131 (time=10.655), 0.267093 s/step\nMeep progress: 10.73/20.0 = 53.6% done in 603.8s, 521.6s to go\non time step 2146 (time=10.73), 0.267405 s/step\nMeep progress: 10.8/20.0 = 54.0% done in 609.0s, 518.7s to go\non time step 2160 (time=10.8), 0.369151 s/step\nMeep progress: 10.875/20.0 = 54.4% done in 613.0s, 514.4s to go\non time step 2175 (time=10.875), 0.268429 s/step\nMeep progress: 10.955/20.0 = 54.8% done in 617.3s, 509.6s to go\non time step 2191 (time=10.955), 0.266266 s/step\nMeep progress: 11.03/20.0 = 55.1% done in 621.3s, 505.2s to go\non time step 2206 (time=11.03), 0.267126 s/step\nMeep progress: 11.105/20.0 = 55.5% done in 625.3s, 500.8s to go\non time step 2221 (time=11.105), 0.266833 s/step\nMeep progress: 11.18/20.0 = 55.9% done in 629.3s, 496.4s to go\non time step 2236 (time=11.18), 0.267613 s/step\nMeep progress: 11.26/20.0 = 56.3% done in 633.5s, 491.7s to go\non time step 2252 (time=11.26), 0.265299 s/step\nMeep progress: 11.335/20.0 = 56.7% done in 637.5s, 487.4s to go\non time step 2267 (time=11.335), 0.267021 s/step\nMeep progress: 11.4/20.0 = 57.0% done in 642.4s, 484.6s to go\non time step 2280 (time=11.4), 0.377441 s/step\nMeep progress: 11.475/20.0 = 57.4% done in 646.5s, 480.3s to go\non time step 2295 (time=11.475), 0.268997 s/step\nMeep progress: 11.555/20.0 = 57.8% done in 650.7s, 475.6s to go\non time step 2311 (time=11.555), 0.266124 s/step\nMeep progress: 11.63/20.0 = 58.1% done in 654.7s, 471.2s to go\non time step 2326 (time=11.63), 0.26677 s/step\nMeep progress: 11.705/20.0 = 58.5% done in 658.7s, 466.8s to go\non time step 2341 (time=11.705), 0.267032 s/step\nMeep progress: 11.785/20.0 = 58.9% done in 663.0s, 462.2s to go\non time step 2357 (time=11.785), 0.266627 s/step\nMeep progress: 11.86/20.0 = 59.3% done in 667.0s, 457.8s to go\non time step 2372 (time=11.86), 0.268729 s/step\nMeep progress: 11.935/20.0 = 59.7% done in 671.0s, 453.5s to go\non time step 2387 (time=11.935), 0.267045 s/step\nMeep progress: 12.0/20.0 = 60.0% done in 676.0s, 450.6s to go\non time step 2400 (time=12), 0.37746 s/step\nMeep progress: 12.075000000000001/20.0 = 60.4% done in 680.0s, 446.3s to go\non time step 2415 (time=12.075), 0.267809 s/step\nMeep progress: 12.155000000000001/20.0 = 60.8% done in 684.2s, 441.6s to go\non time step 2431 (time=12.155), 0.266346 s/step\nMeep progress: 12.235/20.0 = 61.2% done in 688.5s, 437.0s to go\non time step 2447 (time=12.235), 0.266307 s/step\nMeep progress: 12.31/20.0 = 61.5% done in 692.5s, 432.6s to go\non time step 2462 (time=12.31), 0.266902 s/step\nMeep progress: 12.385/20.0 = 61.9% done in 696.5s, 428.3s to go\non time step 2477 (time=12.385), 0.267547 s/step\nMeep progress: 12.465/20.0 = 62.3% done in 700.8s, 423.6s to go\non time step 2493 (time=12.465), 0.266024 s/step\nMeep progress: 12.540000000000001/20.0 = 62.7% done in 704.8s, 419.3s to go\non time step 2508 (time=12.54), 0.267051 s/step\nMeep progress: 12.6/20.0 = 63.0% done in 709.4s, 416.6s to go\non time step 2520 (time=12.6), 0.385866 s/step\nMeep progress: 12.675/20.0 = 63.4% done in 713.4s, 412.3s to go\non time step 2535 (time=12.675), 0.269008 s/step\nMeep progress: 12.75/20.0 = 63.8% done in 717.4s, 408.0s to go\non time step 2550 (time=12.75), 0.267039 s/step\nMeep progress: 12.825000000000001/20.0 = 64.1% done in 721.5s, 403.6s to go\non time step 2565 (time=12.825), 0.267384 s/step\nMeep progress: 12.9/20.0 = 64.5% done in 725.5s, 399.3s to go\non time step 2580 (time=12.9), 0.267561 s/step\nMeep progress: 12.975/20.0 = 64.9% done in 729.5s, 395.0s to go\non time step 2595 (time=12.975), 0.267306 s/step\nMeep progress: 13.05/20.0 = 65.2% done in 733.5s, 390.6s to go\non time step 2610 (time=13.05), 0.26808 s/step\nMeep progress: 13.125/20.0 = 65.6% done in 737.5s, 386.3s to go\non time step 2625 (time=13.125), 0.266814 s/step\nMeep progress: 13.200000000000001/20.0 = 66.0% done in 742.9s, 382.7s to go\non time step 2640 (time=13.2), 0.362665 s/step\nMeep progress: 13.275/20.0 = 66.4% done in 747.0s, 378.4s to go\non time step 2655 (time=13.275), 0.269435 s/step\nMeep progress: 13.35/20.0 = 66.8% done in 751.0s, 374.1s to go\non time step 2670 (time=13.35), 0.266948 s/step\nMeep progress: 13.425/20.0 = 67.1% done in 755.0s, 369.8s to go\non time step 2685 (time=13.425), 0.266956 s/step\nMeep progress: 13.505/20.0 = 67.5% done in 759.3s, 365.2s to go\non time step 2701 (time=13.505), 0.266039 s/step\nMeep progress: 13.58/20.0 = 67.9% done in 763.3s, 360.8s to go\non time step 2716 (time=13.58), 0.267744 s/step\nMeep progress: 13.655000000000001/20.0 = 68.3% done in 767.3s, 356.5s to go\non time step 2731 (time=13.655), 0.266861 s/step\nMeep progress: 13.735/20.0 = 68.7% done in 771.5s, 351.9s to go\non time step 2747 (time=13.735), 0.265892 s/step\nMeep progress: 13.8/20.0 = 69.0% done in 776.5s, 348.8s to go\non time step 2760 (time=13.8), 0.378534 s/step\nMeep progress: 13.875/20.0 = 69.4% done in 780.5s, 344.5s to go\non time step 2775 (time=13.875), 0.269372 s/step\nMeep progress: 13.955/20.0 = 69.8% done in 784.8s, 339.9s to go\non time step 2791 (time=13.955), 0.266373 s/step\nMeep progress: 14.030000000000001/20.0 = 70.2% done in 788.8s, 335.6s to go\non time step 2806 (time=14.03), 0.267284 s/step\nMeep progress: 14.105/20.0 = 70.5% done in 792.8s, 331.3s to go\non time step 2821 (time=14.105), 0.26707 s/step\nMeep progress: 14.185/20.0 = 70.9% done in 797.0s, 326.7s to go\non time step 2837 (time=14.185), 0.266177 s/step\nMeep progress: 14.26/20.0 = 71.3% done in 801.0s, 322.4s to go\non time step 2852 (time=14.26), 0.266729 s/step\nMeep progress: 14.335/20.0 = 71.7% done in 805.0s, 318.1s to go\non time step 2867 (time=14.335), 0.267007 s/step\nMeep progress: 14.4/20.0 = 72.0% done in 809.9s, 315.0s to go\non time step 2880 (time=14.4), 0.376838 s/step\nMeep progress: 14.475/20.0 = 72.4% done in 814.0s, 310.7s to go\non time step 2895 (time=14.475), 0.268858 s/step\nMeep progress: 14.55/20.0 = 72.8% done in 818.0s, 306.4s to go\non time step 2910 (time=14.55), 0.267143 s/step\nMeep progress: 14.63/20.0 = 73.2% done in 822.2s, 301.8s to go\non time step 2926 (time=14.63), 0.266466 s/step\nMeep progress: 14.71/20.0 = 73.5% done in 826.5s, 297.2s to go\non time step 2942 (time=14.71), 0.265638 s/step\nMeep progress: 14.785/20.0 = 73.9% done in 830.5s, 292.9s to go\non time step 2957 (time=14.785), 0.267579 s/step\nMeep progress: 14.86/20.0 = 74.3% done in 834.5s, 288.7s to go\non time step 2972 (time=14.86), 0.26705 s/step\nMeep progress: 14.94/20.0 = 74.7% done in 838.8s, 284.1s to go\non time step 2988 (time=14.94), 0.266328 s/step\nMeep progress: 15.0/20.0 = 75.0% done in 843.4s, 281.1s to go\non time step 3000 (time=15), 0.386801 s/step\nMeep progress: 15.075000000000001/20.0 = 75.4% done in 847.5s, 276.9s to go\non time step 3015 (time=15.075), 0.273502 s/step\nMeep progress: 15.145/20.0 = 75.7% done in 851.7s, 273.0s to go\non time step 3029 (time=15.145), 0.300611 s/step\nMeep progress: 15.215/20.0 = 76.1% done in 855.9s, 269.2s to go\non time step 3043 (time=15.215), 0.300162 s/step\nMeep progress: 15.285/20.0 = 76.4% done in 860.0s, 265.3s to go\non time step 3057 (time=15.285), 0.288811 s/step\nMeep progress: 15.36/20.0 = 76.8% done in 864.0s, 261.0s to go\non time step 3072 (time=15.36), 0.269998 s/step\nMeep progress: 15.44/20.0 = 77.2% done in 868.3s, 256.4s to go\non time step 3088 (time=15.44), 0.266939 s/step\nMeep progress: 15.515/20.0 = 77.6% done in 872.3s, 252.2s to go\non time step 3103 (time=15.515), 0.267509 s/step\nMeep progress: 15.59/20.0 = 77.9% done in 876.3s, 247.9s to go\non time step 3118 (time=15.59), 0.266773 s/step\nMeep progress: 15.64/20.0 = 78.2% done in 880.4s, 245.4s to go\non time step 3128 (time=15.64), 0.411778 s/step\nMeep progress: 15.72/20.0 = 78.6% done in 884.7s, 240.9s to go\non time step 3144 (time=15.72), 0.265389 s/step\nMeep progress: 15.8/20.0 = 79.0% done in 888.9s, 236.3s to go\non time step 3160 (time=15.8), 0.266053 s/step\nMeep progress: 15.875/20.0 = 79.4% done in 893.0s, 232.0s to go\non time step 3175 (time=15.875), 0.270797 s/step\nMeep progress: 15.945/20.0 = 79.7% done in 897.0s, 228.1s to go\non time step 3189 (time=15.945), 0.288159 s/step\nMeep progress: 16.015/20.0 = 80.1% done in 901.1s, 224.2s to go\non time step 3203 (time=16.015), 0.289671 s/step\nMeep progress: 16.09/20.0 = 80.4% done in 905.2s, 220.0s to go\non time step 3218 (time=16.09), 0.277309 s/step\nMeep progress: 16.165/20.0 = 80.8% done in 909.3s, 215.7s to go\non time step 3233 (time=16.165), 0.269221 s/step\nMeep progress: 16.21/20.0 = 81.0% done in 913.3s, 213.5s to go\non time step 3242 (time=16.21), 0.44875 s/step\nMeep progress: 16.285/20.0 = 81.4% done in 917.4s, 209.3s to go\non time step 3257 (time=16.285), 0.271784 s/step\nMeep progress: 16.36/20.0 = 81.8% done in 921.6s, 205.0s to go\non time step 3272 (time=16.36), 0.279318 s/step\nMeep progress: 16.435/20.0 = 82.2% done in 925.8s, 200.8s to go\non time step 3287 (time=16.435), 0.280326 s/step\nMeep progress: 16.51/20.0 = 82.5% done in 930.1s, 196.6s to go\non time step 3302 (time=16.51), 0.283661 s/step\nMeep progress: 16.585/20.0 = 82.9% done in 934.2s, 192.4s to go\non time step 3317 (time=16.585), 0.278743 s/step\nMeep progress: 16.66/20.0 = 83.3% done in 938.4s, 188.1s to go\non time step 3332 (time=16.66), 0.280536 s/step\nMeep progress: 16.735/20.0 = 83.7% done in 942.5s, 183.9s to go\non time step 3347 (time=16.735), 0.273367 s/step\nMeep progress: 16.8/20.0 = 84.0% done in 947.5s, 180.5s to go\non time step 3360 (time=16.8), 0.384938 s/step\nMeep progress: 16.87/20.0 = 84.3% done in 951.6s, 176.6s to go\non time step 3374 (time=16.87), 0.289649 s/step\nMeep progress: 16.945/20.0 = 84.7% done in 955.8s, 172.3s to go\non time step 3389 (time=16.945), 0.280436 s/step\nMeep progress: 17.02/20.0 = 85.1% done in 959.9s, 168.1s to go\non time step 3404 (time=17.02), 0.270851 s/step\nMeep progress: 17.095/20.0 = 85.5% done in 963.9s, 163.8s to go\non time step 3419 (time=17.095), 0.271267 s/step\nMeep progress: 17.17/20.0 = 85.9% done in 968.0s, 159.6s to go\non time step 3434 (time=17.17), 0.272744 s/step\nMeep progress: 17.245/20.0 = 86.2% done in 972.2s, 155.3s to go\non time step 3449 (time=17.245), 0.274416 s/step\nMeep progress: 17.315/20.0 = 86.6% done in 976.2s, 151.4s to go\non time step 3463 (time=17.315), 0.290318 s/step\nMeep progress: 17.39/20.0 = 87.0% done in 980.3s, 147.1s to go\non time step 3478 (time=17.39), 0.275164 s/step\nMeep progress: 17.44/20.0 = 87.2% done in 984.4s, 144.5s to go\non time step 3488 (time=17.44), 0.406733 s/step\nMeep progress: 17.515/20.0 = 87.6% done in 988.6s, 140.3s to go\non time step 3503 (time=17.515), 0.278029 s/step\nMeep progress: 17.585/20.0 = 87.9% done in 992.8s, 136.3s to go\non time step 3517 (time=17.585), 0.300163 s/step\nMeep progress: 17.66/20.0 = 88.3% done in 997.0s, 132.1s to go\non time step 3532 (time=17.66), 0.281197 s/step\nMeep progress: 17.740000000000002/20.0 = 88.7% done in 1001.0s, 127.5s to go\non time step 3548 (time=17.74), 0.25138 s/step\nMeep progress: 17.82/20.0 = 89.1% done in 1005.1s, 123.0s to go\non time step 3564 (time=17.82), 0.257384 s/step\nMeep progress: 17.900000000000002/20.0 = 89.5% done in 1009.2s, 118.4s to go\non time step 3580 (time=17.9), 0.252171 s/step\nMeep progress: 17.98/20.0 = 89.9% done in 1013.2s, 113.8s to go\non time step 3596 (time=17.98), 0.252301 s/step\nMeep progress: 18.035/20.0 = 90.2% done in 1017.4s, 110.9s to go\non time step 3607 (time=18.035), 0.381996 s/step\nMeep progress: 18.115000000000002/20.0 = 90.6% done in 1021.5s, 106.3s to go\non time step 3623 (time=18.115), 0.253926 s/step\nMeep progress: 18.195/20.0 = 91.0% done in 1025.6s, 101.7s to go\non time step 3639 (time=18.195), 0.258865 s/step\nMeep progress: 18.275000000000002/20.0 = 91.4% done in 1029.6s, 97.2s to go\non time step 3655 (time=18.275), 0.251207 s/step\nMeep progress: 18.355/20.0 = 91.8% done in 1033.7s, 92.6s to go\non time step 3671 (time=18.355), 0.252939 s/step\nMeep progress: 18.435/20.0 = 92.2% done in 1037.7s, 88.1s to go\non time step 3687 (time=18.435), 0.251415 s/step\nMeep progress: 18.515/20.0 = 92.6% done in 1041.8s, 83.6s to go\non time step 3703 (time=18.515), 0.252195 s/step\nMeep progress: 18.595/20.0 = 93.0% done in 1045.8s, 79.0s to go\non time step 3719 (time=18.595), 0.25148 s/step\nMeep progress: 18.650000000000002/20.0 = 93.2% done in 1050.0s, 76.0s to go\non time step 3730 (time=18.65), 0.381529 s/step\nMeep progress: 18.73/20.0 = 93.6% done in 1054.0s, 71.5s to go\non time step 3746 (time=18.73), 0.251153 s/step\nMeep progress: 18.81/20.0 = 94.0% done in 1058.0s, 66.9s to go\non time step 3762 (time=18.81), 0.251235 s/step\nMeep progress: 18.89/20.0 = 94.5% done in 1062.0s, 62.4s to go\non time step 3778 (time=18.89), 0.251379 s/step\nMeep progress: 18.97/20.0 = 94.8% done in 1066.2s, 57.9s to go\non time step 3794 (time=18.97), 0.258058 s/step\nMeep progress: 19.05/20.0 = 95.2% done in 1070.3s, 53.4s to go\non time step 3810 (time=19.05), 0.260772 s/step\nMeep progress: 19.13/20.0 = 95.6% done in 1074.5s, 48.9s to go\non time step 3826 (time=19.13), 0.258712 s/step\nMeep progress: 19.2/20.0 = 96.0% done in 1079.4s, 45.0s to go\non time step 3840 (time=19.2), 0.353856 s/step\nMeep progress: 19.28/20.0 = 96.4% done in 1083.6s, 40.5s to go\non time step 3856 (time=19.28), 0.25786 s/step\nMeep progress: 19.36/20.0 = 96.8% done in 1087.8s, 36.0s to go\non time step 3872 (time=19.36), 0.264155 s/step\nMeep progress: 19.44/20.0 = 97.2% done in 1091.9s, 31.5s to go\non time step 3888 (time=19.44), 0.258347 s/step\nMeep progress: 19.52/20.0 = 97.6% done in 1096.1s, 27.0s to go\non time step 3904 (time=19.52), 0.258804 s/step\nMeep progress: 19.6/20.0 = 98.0% done in 1100.2s, 22.5s to go\non time step 3920 (time=19.6), 0.255479 s/step\nMeep progress: 19.68/20.0 = 98.4% done in 1104.3s, 18.0s to go\non time step 3936 (time=19.68), 0.257349 s/step\nMeep progress: 19.76/20.0 = 98.8% done in 1108.4s, 13.5s to go\non time step 3952 (time=19.76), 0.255216 s/step\nMeep progress: 19.81/20.0 = 99.0% done in 1112.4s, 10.7s to go\non time step 3962 (time=19.81), 0.407121 s/step\nMeep progress: 19.89/20.0 = 99.5% done in 1116.7s, 6.2s to go\non time step 3978 (time=19.89), 0.265649 s/step\nMeep progress: 19.96/20.0 = 99.8% done in 1120.7s, 2.2s to go\non time step 3992 (time=19.96), 0.289881 s/step\nrun 0 finished at t = 20.0 (4000 timesteps)\n"
    }
   ],
   "source": [
    "sim.run(mp.at_beginning(mp.output_epsilon), \n",
    "       mp.to_appended(\"tesselation_out\", mp.at_every(0.6, mp.output_efield_z)),\n",
    "       until=20)"
   ]
  },
  {
   "cell_type": "markdown",
   "metadata": {},
   "source": [
    "visulization of the output field"
   ]
  },
  {
   "cell_type": "code",
   "execution_count": 38,
   "metadata": {},
   "outputs": [
    {
     "name": "stdout",
     "output_type": "stream",
     "text": [
      "(100, 100, 100)\n",
      "ez                       Dataset {100, 100, 100, 333/Inf}\n",
      "h5topng error: invalid colormap file\n"
     ]
    }
   ],
   "source": [
    "# ez_data = sim.get_array(center=mp.Vector3(), size=size_cell, component=mp.Ez)\n",
    "# print(ez_data.shape)\n",
    "get_gif_out = False\n",
    "\n",
    "if get_gif_out:\n",
    "    !h5ls ez.h5\n",
    "    !mkdir temp\n",
    "    !mv eps-000000.00.h5 temp/eps-000000.00.h5\n",
    "    !mv ez.h5 temp/ez.h5\n",
    "    import os\n",
    "    os.chdir('temp')\n",
    "    !h5topng -z 20 -t 0:332 -R -Zc dkbluered -a yarg -A eps-000000.00.h5 ez.h5\n",
    "    !convert ez.t*.png ez.gif\n",
    "    os.chdir('..')"
   ]
  },
  {
   "cell_type": "code",
   "execution_count": null,
   "metadata": {},
   "outputs": [],
   "source": []
  }
 ],
 "metadata": {
  "kernelspec": {
   "display_name": "Python 3.7.3 64-bit ('mp': conda)",
   "language": "python",
   "name": "python37364bitmpcondabd11d9e164314ef4a46c0e76fc56242b"
  },
  "language_info": {
   "codemirror_mode": {
    "name": "ipython",
    "version": 3
   },
   "file_extension": ".py",
   "mimetype": "text/x-python",
   "name": "python",
   "nbconvert_exporter": "python",
   "pygments_lexer": "ipython3",
   "version": "3.7.3-final"
  }
 },
 "nbformat": 4,
 "nbformat_minor": 2
}