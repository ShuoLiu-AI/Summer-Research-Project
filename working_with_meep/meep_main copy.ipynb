{
 "cells": [
  {
   "cell_type": "code",
   "execution_count": 5,
   "metadata": {},
   "outputs": [],
   "source": [
    "import meep as mp\n",
    "import numpy as np\n",
    "import math\n",
    "import matplotlib.pyplot as plt\n",
    "import pickle\n",
    "from numpy import cos, sin\n",
    "import json\n",
    "from scipy.spatial import Voronoi, voronoi_plot_2d\n",
    "import matplotlib.pyplot as plt"
   ]
  },
  {
   "cell_type": "markdown",
   "metadata": {},
   "source": [
    "# create geometric and write it to a file"
   ]
  },
  {
   "cell_type": "markdown",
   "metadata": {},
   "source": [
    "generate random numbers"
   ]
  },
  {
   "cell_type": "code",
   "execution_count": 6,
   "metadata": {},
   "outputs": [],
   "source": [
    "np.random.seed(15)\n",
    "\n",
    "num_crystal = 190\n",
    "\n",
    "a = 5. # shape\n",
    "\n",
    "size_cell_l = [2, 2, 2]\n",
    "size_solid_l = [1, 1, 1]\n",
    "size_crystal_base = [0.1, 0.1, 0.1]\n",
    "size_crystal_l = np.random.weibull(a, (num_crystal, 3))\n",
    "for i in range(3):\n",
    "    size_crystal_l[:, i] *= size_crystal_base[i]\n",
    "\n",
    "size_cell = mp.Vector3(*size_cell_l)\n",
    "size_solid = mp.Vector3(*size_solid_l)\n",
    "\n",
    "size_crystal = []\n",
    "for i in range(num_crystal):\n",
    "    size_crystal.append(mp.Vector3(*size_crystal_l[i, :]))\n",
    "\n",
    "solid_region = mp.Block(size_solid, \n",
    "                    center = mp.Vector3(0, 0, 0),\n",
    "                    material=mp.Medium(epsilon=1))\n",
    "\n",
    "mean= (0, 0, 0)\n",
    "cov = [[0.1, 0, 0], [0, 0.1, 0], [0, 0, 0.1]]\n",
    "loc = np.random.multivariate_normal(mean, cov, (num_crystal))\n",
    "loc = np.random.uniform(-size_solid_l[0]/2, size_solid_l[0]/2, (num_crystal, 3))\n",
    "theta_x = np.random.uniform(0, 2*np.pi, num_crystal)\n",
    "theta_y = np.random.uniform(0, 2*np.pi, num_crystal)\n",
    "theta_z = np.random.uniform(0, 2*np.pi, num_crystal)"
   ]
  },
  {
   "cell_type": "markdown",
   "execution_count": null,
   "metadata": {},
   "outputs": [],
   "source": [
    "Voronoi tesse"
   ]
  },
  {
   "cell_type": "code",
   "execution_count": 23,
   "metadata": {},
   "outputs": [
    {
     "data": {
      "image/png": "[encoded data removed]",
      "image/svg+xml": "<?xml version=\"1.0\" encoding=\"utf-8\" standalone=\"no\"?>\n<!DOCTYPE svg PUBLIC \"-//W3C//DTD SVG 1.1//EN\"\n  \"http://www.w3.org/Graphics/SVG/1.1/DTD/svg11.dtd\">\n<!-- Created with matplotlib (https://matplotlib.org/) -->\n<svg height=\"248.518125pt\" version=\"1.1\" viewBox=\"0 0 362.5625 248.518125\" width=\"362.5625pt\" xmlns=\"http://www.w3.org/2000/svg\" xmlns:xlink=\"http://www.w3.org/1999/xlink\">\n <defs>\n  <style type=\"text/css\">\n*{stroke-linecap:butt;stroke-linejoin:round;}\n  </style>\n </defs>\n <g id=\"figure_1\">\n  <g id=\"patch_1\">\n   <path d=\"M 0 248.518125 \nL 362.5625 248.518125 \nL 362.5625 0 \nL 0 0 \nz\n\" style=\"fill:none;\"/>\n  </g>\n  <g id=\"axes_1\">\n   <g id=\"patch_2\">\n    <path d=\"M 20.5625 224.64 \nL 355.3625 224.64 \nL 355.3625 7.2 \nL 20.5625 7.2 \nz\n\" style=\"fill:#ffffff;\"/>\n   </g>\n   <g id=\"matplotlib.axis_1\">\n    <g id=\"xtick_1\">\n     <g id=\"line2d_1\">\n      <defs>\n       <path d=\"M 0 0 \nL 0 3.5 \n\" id=\"mf8b653b35a\" style=\"stroke:#000000;stroke-width:0.8;\"/>\n      </defs>\n      <g>\n       <use style=\"stroke:#000000;stroke-width:0.8;\" x=\"48.4625\" xlink:href=\"#mf8b653b35a\" y=\"224.64\"/>\n      </g>\n     </g>\n     <g id=\"text_1\">\n      <!-- 0 -->\n      <defs>\n       <path d=\"M 31.78125 66.40625 \nQ 24.171875 66.40625 20.328125 58.90625 \nQ 16.5 51.421875 16.5 36.375 \nQ 16.5 21.390625 20.328125 13.890625 \nQ 24.171875 6.390625 31.78125 6.390625 \nQ 39.453125 6.390625 43.28125 13.890625 \nQ 47.125 21.390625 47.125 36.375 \nQ 47.125 51.421875 43.28125 58.90625 \nQ 39.453125 66.40625 31.78125 66.40625 \nz\nM 31.78125 74.21875 \nQ 44.046875 74.21875 50.515625 64.515625 \nQ 56.984375 54.828125 56.984375 36.375 \nQ 56.984375 17.96875 50.515625 8.265625 \nQ 44.046875 -1.421875 31.78125 -1.421875 \nQ 19.53125 -1.421875 13.0625 8.265625 \nQ 6.59375 17.96875 6.59375 36.375 \nQ 6.59375 54.828125 13.0625 64.515625 \nQ 19.53125 74.21875 31.78125 74.21875 \nz\n\" id=\"DejaVuSans-48\"/>\n      </defs>\n      <g transform=\"translate(45.28125 239.238437)scale(0.1 -0.1)\">\n       <use xlink:href=\"#DejaVuSans-48\"/>\n      </g>\n     </g>\n    </g>\n    <g id=\"xtick_2\">\n     <g id=\"line2d_2\">\n      <g>\n       <use style=\"stroke:#000000;stroke-width:0.8;\" x=\"118.2125\" xlink:href=\"#mf8b653b35a\" y=\"224.64\"/>\n      </g>\n     </g>\n     <g id=\"text_2\">\n      <!-- 1 -->\n      <defs>\n       <path d=\"M 12.40625 8.296875 \nL 28.515625 8.296875 \nL 28.515625 63.921875 \nL 10.984375 60.40625 \nL 10.984375 69.390625 \nL 28.421875 72.90625 \nL 38.28125 72.90625 \nL 38.28125 8.296875 \nL 54.390625 8.296875 \nL 54.390625 0 \nL 12.40625 0 \nz\n\" id=\"DejaVuSans-49\"/>\n      </defs>\n      <g transform=\"translate(115.03125 239.238437)scale(0.1 -0.1)\">\n       <use xlink:href=\"#DejaVuSans-49\"/>\n      </g>\n     </g>\n    </g>\n    <g id=\"xtick_3\">\n     <g id=\"line2d_3\">\n      <g>\n       <use style=\"stroke:#000000;stroke-width:0.8;\" x=\"187.9625\" xlink:href=\"#mf8b653b35a\" y=\"224.64\"/>\n      </g>\n     </g>\n     <g id=\"text_3\">\n      <!-- 2 -->\n      <defs>\n       <path d=\"M 19.1875 8.296875 \nL 53.609375 8.296875 \nL 53.609375 0 \nL 7.328125 0 \nL 7.328125 8.296875 \nQ 12.9375 14.109375 22.625 23.890625 \nQ 32.328125 33.6875 34.8125 36.53125 \nQ 39.546875 41.84375 41.421875 45.53125 \nQ 43.3125 49.21875 43.3125 52.78125 \nQ 43.3125 58.59375 39.234375 62.25 \nQ 35.15625 65.921875 28.609375 65.921875 \nQ 23.96875 65.921875 18.8125 64.3125 \nQ 13.671875 62.703125 7.8125 59.421875 \nL 7.8125 69.390625 \nQ 13.765625 71.78125 18.9375 73 \nQ 24.125 74.21875 28.421875 74.21875 \nQ 39.75 74.21875 46.484375 68.546875 \nQ 53.21875 62.890625 53.21875 53.421875 \nQ 53.21875 48.921875 51.53125 44.890625 \nQ 49.859375 40.875 45.40625 35.40625 \nQ 44.1875 33.984375 37.640625 27.21875 \nQ 31.109375 20.453125 19.1875 8.296875 \nz\n\" id=\"DejaVuSans-50\"/>\n      </defs>\n      <g transform=\"translate(184.78125 239.238437)scale(0.1 -0.1)\">\n       <use xlink:href=\"#DejaVuSans-50\"/>\n      </g>\n     </g>\n    </g>\n    <g id=\"xtick_4\">\n     <g id=\"line2d_4\">\n      <g>\n       <use style=\"stroke:#000000;stroke-width:0.8;\" x=\"257.7125\" xlink:href=\"#mf8b653b35a\" y=\"224.64\"/>\n      </g>\n     </g>\n     <g id=\"text_4\">\n      <!-- 3 -->\n      <defs>\n       <path d=\"M 40.578125 39.3125 \nQ 47.65625 37.796875 51.625 33 \nQ 55.609375 28.21875 55.609375 21.1875 \nQ 55.609375 10.40625 48.1875 4.484375 \nQ 40.765625 -1.421875 27.09375 -1.421875 \nQ 22.515625 -1.421875 17.65625 -0.515625 \nQ 12.796875 0.390625 7.625 2.203125 \nL 7.625 11.71875 \nQ 11.71875 9.328125 16.59375 8.109375 \nQ 21.484375 6.890625 26.8125 6.890625 \nQ 36.078125 6.890625 40.9375 10.546875 \nQ 45.796875 14.203125 45.796875 21.1875 \nQ 45.796875 27.640625 41.28125 31.265625 \nQ 36.765625 34.90625 28.71875 34.90625 \nL 20.21875 34.90625 \nL 20.21875 43.015625 \nL 29.109375 43.015625 \nQ 36.375 43.015625 40.234375 45.921875 \nQ 44.09375 48.828125 44.09375 54.296875 \nQ 44.09375 59.90625 40.109375 62.90625 \nQ 36.140625 65.921875 28.71875 65.921875 \nQ 24.65625 65.921875 20.015625 65.03125 \nQ 15.375 64.15625 9.8125 62.3125 \nL 9.8125 71.09375 \nQ 15.4375 72.65625 20.34375 73.4375 \nQ 25.25 74.21875 29.59375 74.21875 \nQ 40.828125 74.21875 47.359375 69.109375 \nQ 53.90625 64.015625 53.90625 55.328125 \nQ 53.90625 49.265625 50.4375 45.09375 \nQ 46.96875 40.921875 40.578125 39.3125 \nz\n\" id=\"DejaVuSans-51\"/>\n      </defs>\n      <g transform=\"translate(254.53125 239.238437)scale(0.1 -0.1)\">\n       <use xlink:href=\"#DejaVuSans-51\"/>\n      </g>\n     </g>\n    </g>\n    <g id=\"xtick_5\">\n     <g id=\"line2d_5\">\n      <g>\n       <use style=\"stroke:#000000;stroke-width:0.8;\" x=\"327.4625\" xlink:href=\"#mf8b653b35a\" y=\"224.64\"/>\n      </g>\n     </g>\n     <g id=\"text_5\">\n      <!-- 4 -->\n      <defs>\n       <path d=\"M 37.796875 64.3125 \nL 12.890625 25.390625 \nL 37.796875 25.390625 \nz\nM 35.203125 72.90625 \nL 47.609375 72.90625 \nL 47.609375 25.390625 \nL 58.015625 25.390625 \nL 58.015625 17.1875 \nL 47.609375 17.1875 \nL 47.609375 0 \nL 37.796875 0 \nL 37.796875 17.1875 \nL 4.890625 17.1875 \nL 4.890625 26.703125 \nz\n\" id=\"DejaVuSans-52\"/>\n      </defs>\n      <g transform=\"translate(324.28125 239.238437)scale(0.1 -0.1)\">\n       <use xlink:href=\"#DejaVuSans-52\"/>\n      </g>\n     </g>\n    </g>\n   </g>\n   <g id=\"matplotlib.axis_2\">\n    <g id=\"ytick_1\">\n     <g id=\"line2d_6\">\n      <defs>\n       <path d=\"M 0 0 \nL -3.5 0 \n\" id=\"m95d3c13b47\" style=\"stroke:#000000;stroke-width:0.8;\"/>\n      </defs>\n      <g>\n       <use style=\"stroke:#000000;stroke-width:0.8;\" x=\"20.5625\" xlink:href=\"#m95d3c13b47\" y=\"206.52\"/>\n      </g>\n     </g>\n     <g id=\"text_6\">\n      <!-- 0 -->\n      <g transform=\"translate(7.2 210.319219)scale(0.1 -0.1)\">\n       <use xlink:href=\"#DejaVuSans-48\"/>\n      </g>\n     </g>\n    </g>\n    <g id=\"ytick_2\">\n     <g id=\"line2d_7\">\n      <g>\n       <use style=\"stroke:#000000;stroke-width:0.8;\" x=\"20.5625\" xlink:href=\"#m95d3c13b47\" y=\"161.22\"/>\n      </g>\n     </g>\n     <g id=\"text_7\">\n      <!-- 1 -->\n      <g transform=\"translate(7.2 165.019219)scale(0.1 -0.1)\">\n       <use xlink:href=\"#DejaVuSans-49\"/>\n      </g>\n     </g>\n    </g>\n    <g id=\"ytick_3\">\n     <g id=\"line2d_8\">\n      <g>\n       <use style=\"stroke:#000000;stroke-width:0.8;\" x=\"20.5625\" xlink:href=\"#m95d3c13b47\" y=\"115.92\"/>\n      </g>\n     </g>\n     <g id=\"text_8\">\n      <!-- 2 -->\n      <g transform=\"translate(7.2 119.719219)scale(0.1 -0.1)\">\n       <use xlink:href=\"#DejaVuSans-50\"/>\n      </g>\n     </g>\n    </g>\n    <g id=\"ytick_4\">\n     <g id=\"line2d_9\">\n      <g>\n       <use style=\"stroke:#000000;stroke-width:0.8;\" x=\"20.5625\" xlink:href=\"#m95d3c13b47\" y=\"70.62\"/>\n      </g>\n     </g>\n     <g id=\"text_9\">\n      <!-- 3 -->\n      <g transform=\"translate(7.2 74.419219)scale(0.1 -0.1)\">\n       <use xlink:href=\"#DejaVuSans-51\"/>\n      </g>\n     </g>\n    </g>\n    <g id=\"ytick_5\">\n     <g id=\"line2d_10\">\n      <g>\n       <use style=\"stroke:#000000;stroke-width:0.8;\" x=\"20.5625\" xlink:href=\"#m95d3c13b47\" y=\"25.32\"/>\n      </g>\n     </g>\n     <g id=\"text_10\">\n      <!-- 4 -->\n      <g transform=\"translate(7.2 29.119219)scale(0.1 -0.1)\">\n       <use xlink:href=\"#DejaVuSans-52\"/>\n      </g>\n     </g>\n    </g>\n   </g>\n   <g id=\"LineCollection_1\">\n    <path clip-path=\"url(#paf2e088c01)\" d=\"M 83.3375 138.57 \nL 83.3375 93.27 \n\" style=\"fill:none;stroke:#000000;\"/>\n    <path clip-path=\"url(#paf2e088c01)\" d=\"M 83.3375 183.87 \nL 83.3375 138.57 \n\" style=\"fill:none;stroke:#000000;\"/>\n    <path clip-path=\"url(#paf2e088c01)\" d=\"M 83.3375 47.97 \nL 83.3375 93.27 \n\" style=\"fill:none;stroke:#000000;\"/>\n    <path clip-path=\"url(#paf2e088c01)\" d=\"M 153.0875 138.57 \nL 153.0875 183.87 \n\" style=\"fill:none;stroke:#000000;\"/>\n    <path clip-path=\"url(#paf2e088c01)\" d=\"M 83.3375 183.87 \nL 153.0875 183.87 \n\" style=\"fill:none;stroke:#000000;\"/>\n    <path clip-path=\"url(#paf2e088c01)\" d=\"M 83.3375 138.57 \nL 153.0875 138.57 \n\" style=\"fill:none;stroke:#000000;\"/>\n    <path clip-path=\"url(#paf2e088c01)\" d=\"M 153.0875 183.87 \nL 222.8375 183.87 \n\" style=\"fill:none;stroke:#000000;\"/>\n    <path clip-path=\"url(#paf2e088c01)\" d=\"M 292.5875 183.87 \nL 222.8375 183.87 \n\" style=\"fill:none;stroke:#000000;\"/>\n    <path clip-path=\"url(#paf2e088c01)\" d=\"M 153.0875 93.27 \nL 153.0875 47.97 \n\" style=\"fill:none;stroke:#000000;\"/>\n    <path clip-path=\"url(#paf2e088c01)\" d=\"M 83.3375 47.97 \nL 153.0875 47.97 \n\" style=\"fill:none;stroke:#000000;\"/>\n    <path clip-path=\"url(#paf2e088c01)\" d=\"M 83.3375 93.27 \nL 153.0875 93.27 \n\" style=\"fill:none;stroke:#000000;\"/>\n    <path clip-path=\"url(#paf2e088c01)\" d=\"M 153.0875 47.97 \nL 222.8375 47.97 \n\" style=\"fill:none;stroke:#000000;\"/>\n    <path clip-path=\"url(#paf2e088c01)\" d=\"M 153.0875 138.57 \nL 153.0875 93.27 \n\" style=\"fill:none;stroke:#000000;\"/>\n    <path clip-path=\"url(#paf2e088c01)\" d=\"M 292.5875 47.97 \nL 222.8375 47.97 \n\" style=\"fill:none;stroke:#000000;\"/>\n    <path clip-path=\"url(#paf2e088c01)\" d=\"M 222.8375 138.57 \nL 292.5875 138.57 \n\" style=\"fill:none;stroke:#000000;\"/>\n    <path clip-path=\"url(#paf2e088c01)\" d=\"M 222.8375 138.57 \nL 222.8375 93.27 \n\" style=\"fill:none;stroke:#000000;\"/>\n    <path clip-path=\"url(#paf2e088c01)\" d=\"M 222.8375 93.27 \nL 292.5875 93.27 \n\" style=\"fill:none;stroke:#000000;\"/>\n    <path clip-path=\"url(#paf2e088c01)\" d=\"M 292.5875 138.57 \nL 292.5875 93.27 \n\" style=\"fill:none;stroke:#000000;\"/>\n    <path clip-path=\"url(#paf2e088c01)\" d=\"M 292.5875 183.87 \nL 292.5875 138.57 \n\" style=\"fill:none;stroke:#000000;\"/>\n    <path clip-path=\"url(#paf2e088c01)\" d=\"M 222.8375 183.87 \nL 222.8375 138.57 \n\" style=\"fill:none;stroke:#000000;\"/>\n    <path clip-path=\"url(#paf2e088c01)\" d=\"M 153.0875 93.27 \nL 222.8375 93.27 \n\" style=\"fill:none;stroke:#000000;\"/>\n    <path clip-path=\"url(#paf2e088c01)\" d=\"M 153.0875 138.57 \nL 222.8375 138.57 \n\" style=\"fill:none;stroke:#000000;\"/>\n    <path clip-path=\"url(#paf2e088c01)\" d=\"M 292.5875 47.97 \nL 292.5875 93.27 \n\" style=\"fill:none;stroke:#000000;\"/>\n    <path clip-path=\"url(#paf2e088c01)\" d=\"M 222.8375 47.97 \nL 222.8375 93.27 \n\" style=\"fill:none;stroke:#000000;\"/>\n   </g>\n   <g id=\"LineCollection_2\">\n    <path clip-path=\"url(#paf2e088c01)\" d=\"M 83.3375 93.27 \nL -1 93.27 \n\" style=\"fill:none;stroke:#000000;stroke-dasharray:3.7,1.6;stroke-dashoffset:0;\"/>\n    <path clip-path=\"url(#paf2e088c01)\" d=\"M 83.3375 138.57 \nL -1 138.57 \n\" style=\"fill:none;stroke:#000000;stroke-dasharray:3.7,1.6;stroke-dashoffset:0;\"/>\n    <path clip-path=\"url(#paf2e088c01)\" d=\"M 83.3375 183.87 \nL -1 183.87 \n\" style=\"fill:none;stroke:#000000;stroke-dasharray:3.7,1.6;stroke-dashoffset:0;\"/>\n    <path clip-path=\"url(#paf2e088c01)\" d=\"M 83.3375 47.97 \nL -1 47.97 \n\" style=\"fill:none;stroke:#000000;stroke-dasharray:3.7,1.6;stroke-dashoffset:0;\"/>\n    <path clip-path=\"url(#paf2e088c01)\" d=\"M 83.3375 183.87 \nL 83.3375 249.518125 \n\" style=\"fill:none;stroke:#000000;stroke-dasharray:3.7,1.6;stroke-dashoffset:0;\"/>\n    <path clip-path=\"url(#paf2e088c01)\" d=\"M 222.8375 183.87 \nL 222.8375 249.518125 \n\" style=\"fill:none;stroke:#000000;stroke-dasharray:3.7,1.6;stroke-dashoffset:0;\"/>\n    <path clip-path=\"url(#paf2e088c01)\" d=\"M 153.0875 183.87 \nL 153.0875 249.518125 \n\" style=\"fill:none;stroke:#000000;stroke-dasharray:3.7,1.6;stroke-dashoffset:0;\"/>\n    <path clip-path=\"url(#paf2e088c01)\" d=\"M 292.5875 183.87 \nL 292.5875 249.518125 \n\" style=\"fill:none;stroke:#000000;stroke-dasharray:3.7,1.6;stroke-dashoffset:0;\"/>\n    <path clip-path=\"url(#paf2e088c01)\" d=\"M 83.3375 47.97 \nL 83.3375 -1 \n\" style=\"fill:none;stroke:#000000;stroke-dasharray:3.7,1.6;stroke-dashoffset:0;\"/>\n    <path clip-path=\"url(#paf2e088c01)\" d=\"M 292.5875 47.97 \nL 363.5625 47.97 \n\" style=\"fill:none;stroke:#000000;stroke-dasharray:3.7,1.6;stroke-dashoffset:0;\"/>\n    <path clip-path=\"url(#paf2e088c01)\" d=\"M 292.5875 47.97 \nL 292.5875 -1 \n\" style=\"fill:none;stroke:#000000;stroke-dasharray:3.7,1.6;stroke-dashoffset:0;\"/>\n    <path clip-path=\"url(#paf2e088c01)\" d=\"M 292.5875 183.87 \nL 363.5625 183.87 \n\" style=\"fill:none;stroke:#000000;stroke-dasharray:3.7,1.6;stroke-dashoffset:0;\"/>\n    <path clip-path=\"url(#paf2e088c01)\" d=\"M 222.8375 47.97 \nL 222.8375 -1 \n\" style=\"fill:none;stroke:#000000;stroke-dasharray:3.7,1.6;stroke-dashoffset:0;\"/>\n    <path clip-path=\"url(#paf2e088c01)\" d=\"M 153.0875 47.97 \nL 153.0875 -1 \n\" style=\"fill:none;stroke:#000000;stroke-dasharray:3.7,1.6;stroke-dashoffset:0;\"/>\n    <path clip-path=\"url(#paf2e088c01)\" d=\"M 292.5875 93.27 \nL 363.5625 93.27 \n\" style=\"fill:none;stroke:#000000;stroke-dasharray:3.7,1.6;stroke-dashoffset:0;\"/>\n    <path clip-path=\"url(#paf2e088c01)\" d=\"M 292.5875 138.57 \nL 363.5625 138.57 \n\" style=\"fill:none;stroke:#000000;stroke-dasharray:3.7,1.6;stroke-dashoffset:0;\"/>\n   </g>\n   <g id=\"line2d_11\">\n    <defs>\n     <path d=\"M 0 1.5 \nC 0.397805 1.5 0.77937 1.341951 1.06066 1.06066 \nC 1.341951 0.77937 1.5 0.397805 1.5 0 \nC 1.5 -0.397805 1.341951 -0.77937 1.06066 -1.06066 \nC 0.77937 -1.341951 0.397805 -1.5 0 -1.5 \nC -0.397805 -1.5 -0.77937 -1.341951 -1.06066 -1.06066 \nC -1.341951 -0.77937 -1.5 -0.397805 -1.5 0 \nC -1.5 0.397805 -1.341951 0.77937 -1.06066 1.06066 \nC -0.77937 1.341951 -0.397805 1.5 0 1.5 \nz\n\" id=\"m084a6a587c\" style=\"stroke:#1f77b4;\"/>\n    </defs>\n    <g clip-path=\"url(#paf2e088c01)\">\n     <use style=\"fill:#1f77b4;stroke:#1f77b4;\" x=\"48.4625\" xlink:href=\"#m084a6a587c\" y=\"206.52\"/>\n     <use style=\"fill:#1f77b4;stroke:#1f77b4;\" x=\"48.4625\" xlink:href=\"#m084a6a587c\" y=\"161.22\"/>\n     <use style=\"fill:#1f77b4;stroke:#1f77b4;\" x=\"48.4625\" xlink:href=\"#m084a6a587c\" y=\"115.92\"/>\n     <use style=\"fill:#1f77b4;stroke:#1f77b4;\" x=\"48.4625\" xlink:href=\"#m084a6a587c\" y=\"70.62\"/>\n     <use style=\"fill:#1f77b4;stroke:#1f77b4;\" x=\"48.4625\" xlink:href=\"#m084a6a587c\" y=\"25.32\"/>\n     <use style=\"fill:#1f77b4;stroke:#1f77b4;\" x=\"118.2125\" xlink:href=\"#m084a6a587c\" y=\"206.52\"/>\n     <use style=\"fill:#1f77b4;stroke:#1f77b4;\" x=\"118.2125\" xlink:href=\"#m084a6a587c\" y=\"161.22\"/>\n     <use style=\"fill:#1f77b4;stroke:#1f77b4;\" x=\"118.2125\" xlink:href=\"#m084a6a587c\" y=\"115.92\"/>\n     <use style=\"fill:#1f77b4;stroke:#1f77b4;\" x=\"118.2125\" xlink:href=\"#m084a6a587c\" y=\"70.62\"/>\n     <use style=\"fill:#1f77b4;stroke:#1f77b4;\" x=\"118.2125\" xlink:href=\"#m084a6a587c\" y=\"25.32\"/>\n     <use style=\"fill:#1f77b4;stroke:#1f77b4;\" x=\"187.9625\" xlink:href=\"#m084a6a587c\" y=\"206.52\"/>\n     <use style=\"fill:#1f77b4;stroke:#1f77b4;\" x=\"187.9625\" xlink:href=\"#m084a6a587c\" y=\"161.22\"/>\n     <use style=\"fill:#1f77b4;stroke:#1f77b4;\" x=\"187.9625\" xlink:href=\"#m084a6a587c\" y=\"115.92\"/>\n     <use style=\"fill:#1f77b4;stroke:#1f77b4;\" x=\"187.9625\" xlink:href=\"#m084a6a587c\" y=\"70.62\"/>\n     <use style=\"fill:#1f77b4;stroke:#1f77b4;\" x=\"187.9625\" xlink:href=\"#m084a6a587c\" y=\"25.32\"/>\n     <use style=\"fill:#1f77b4;stroke:#1f77b4;\" x=\"257.7125\" xlink:href=\"#m084a6a587c\" y=\"206.52\"/>\n     <use style=\"fill:#1f77b4;stroke:#1f77b4;\" x=\"257.7125\" xlink:href=\"#m084a6a587c\" y=\"161.22\"/>\n     <use style=\"fill:#1f77b4;stroke:#1f77b4;\" x=\"257.7125\" xlink:href=\"#m084a6a587c\" y=\"115.92\"/>\n     <use style=\"fill:#1f77b4;stroke:#1f77b4;\" x=\"257.7125\" xlink:href=\"#m084a6a587c\" y=\"70.62\"/>\n     <use style=\"fill:#1f77b4;stroke:#1f77b4;\" x=\"257.7125\" xlink:href=\"#m084a6a587c\" y=\"25.32\"/>\n     <use style=\"fill:#1f77b4;stroke:#1f77b4;\" x=\"327.4625\" xlink:href=\"#m084a6a587c\" y=\"206.52\"/>\n     <use style=\"fill:#1f77b4;stroke:#1f77b4;\" x=\"327.4625\" xlink:href=\"#m084a6a587c\" y=\"161.22\"/>\n     <use style=\"fill:#1f77b4;stroke:#1f77b4;\" x=\"327.4625\" xlink:href=\"#m084a6a587c\" y=\"115.92\"/>\n     <use style=\"fill:#1f77b4;stroke:#1f77b4;\" x=\"327.4625\" xlink:href=\"#m084a6a587c\" y=\"70.62\"/>\n     <use style=\"fill:#1f77b4;stroke:#1f77b4;\" x=\"327.4625\" xlink:href=\"#m084a6a587c\" y=\"25.32\"/>\n    </g>\n   </g>\n   <g id=\"line2d_12\">\n    <defs>\n     <path d=\"M 0 3 \nC 0.795609 3 1.55874 2.683901 2.12132 2.12132 \nC 2.683901 1.55874 3 0.795609 3 0 \nC 3 -0.795609 2.683901 -1.55874 2.12132 -2.12132 \nC 1.55874 -2.683901 0.795609 -3 0 -3 \nC -0.795609 -3 -1.55874 -2.683901 -2.12132 -2.12132 \nC -2.683901 -1.55874 -3 -0.795609 -3 0 \nC -3 0.795609 -2.683901 1.55874 -2.12132 2.12132 \nC -1.55874 2.683901 -0.795609 3 0 3 \nz\n\" id=\"m6752cd6c79\" style=\"stroke:#ff7f0e;\"/>\n    </defs>\n    <g clip-path=\"url(#paf2e088c01)\">\n     <use style=\"fill:#ff7f0e;stroke:#ff7f0e;\" x=\"83.3375\" xlink:href=\"#m6752cd6c79\" y=\"183.87\"/>\n     <use style=\"fill:#ff7f0e;stroke:#ff7f0e;\" x=\"83.3375\" xlink:href=\"#m6752cd6c79\" y=\"47.97\"/>\n     <use style=\"fill:#ff7f0e;stroke:#ff7f0e;\" x=\"83.3375\" xlink:href=\"#m6752cd6c79\" y=\"138.57\"/>\n     <use style=\"fill:#ff7f0e;stroke:#ff7f0e;\" x=\"83.3375\" xlink:href=\"#m6752cd6c79\" y=\"93.27\"/>\n     <use style=\"fill:#ff7f0e;stroke:#ff7f0e;\" x=\"292.5875\" xlink:href=\"#m6752cd6c79\" y=\"183.87\"/>\n     <use style=\"fill:#ff7f0e;stroke:#ff7f0e;\" x=\"153.0875\" xlink:href=\"#m6752cd6c79\" y=\"138.57\"/>\n     <use style=\"fill:#ff7f0e;stroke:#ff7f0e;\" x=\"153.0875\" xlink:href=\"#m6752cd6c79\" y=\"183.87\"/>\n     <use style=\"fill:#ff7f0e;stroke:#ff7f0e;\" x=\"222.8375\" xlink:href=\"#m6752cd6c79\" y=\"183.87\"/>\n     <use style=\"fill:#ff7f0e;stroke:#ff7f0e;\" x=\"292.5875\" xlink:href=\"#m6752cd6c79\" y=\"47.97\"/>\n     <use style=\"fill:#ff7f0e;stroke:#ff7f0e;\" x=\"153.0875\" xlink:href=\"#m6752cd6c79\" y=\"93.27\"/>\n     <use style=\"fill:#ff7f0e;stroke:#ff7f0e;\" x=\"153.0875\" xlink:href=\"#m6752cd6c79\" y=\"47.97\"/>\n     <use style=\"fill:#ff7f0e;stroke:#ff7f0e;\" x=\"222.8375\" xlink:href=\"#m6752cd6c79\" y=\"47.97\"/>\n     <use style=\"fill:#ff7f0e;stroke:#ff7f0e;\" x=\"222.8375\" xlink:href=\"#m6752cd6c79\" y=\"138.57\"/>\n     <use style=\"fill:#ff7f0e;stroke:#ff7f0e;\" x=\"222.8375\" xlink:href=\"#m6752cd6c79\" y=\"93.27\"/>\n     <use style=\"fill:#ff7f0e;stroke:#ff7f0e;\" x=\"292.5875\" xlink:href=\"#m6752cd6c79\" y=\"138.57\"/>\n     <use style=\"fill:#ff7f0e;stroke:#ff7f0e;\" x=\"292.5875\" xlink:href=\"#m6752cd6c79\" y=\"93.27\"/>\n    </g>\n   </g>\n   <g id=\"patch_3\">\n    <path d=\"M 20.5625 224.64 \nL 20.5625 7.2 \n\" style=\"fill:none;stroke:#000000;stroke-linecap:square;stroke-linejoin:miter;stroke-width:0.8;\"/>\n   </g>\n   <g id=\"patch_4\">\n    <path d=\"M 355.3625 224.64 \nL 355.3625 7.2 \n\" style=\"fill:none;stroke:#000000;stroke-linecap:square;stroke-linejoin:miter;stroke-width:0.8;\"/>\n   </g>\n   <g id=\"patch_5\">\n    <path d=\"M 20.5625 224.64 \nL 355.3625 224.64 \n\" style=\"fill:none;stroke:#000000;stroke-linecap:square;stroke-linejoin:miter;stroke-width:0.8;\"/>\n   </g>\n   <g id=\"patch_6\">\n    <path d=\"M 20.5625 7.2 \nL 355.3625 7.2 \n\" style=\"fill:none;stroke:#000000;stroke-linecap:square;stroke-linejoin:miter;stroke-width:0.8;\"/>\n   </g>\n  </g>\n </g>\n <defs>\n  <clipPath id=\"paf2e088c01\">\n   <rect height=\"217.44\" width=\"334.8\" x=\"20.5625\" y=\"7.2\"/>\n  </clipPath>\n </defs>\n</svg>\n",
      "text/plain": "<Figure size 432x288 with 1 Axes>"
     },
     "metadata": {
      "needs_background": "light"
     },
     "output_type": "display_data"
    }
   ],
   "source": [
    "def plot_2d_v(points):\n",
    "    num_div = 5\n",
    "    # points = np.zeros((num_div**2, 2)\n",
    "\n",
    "    index = 0\n",
    "    for i in range(num_div):\n",
    "        for j in range(num_div):\n",
    "            points[index, :] = [i, j]\n",
    "            index += 1\n",
    "\n",
    "\n",
    "    from scipy.spatial import Voronoi, voronoi_plot_2d\n",
    "    vor = Voronoi(points)\n",
    "    import matplotlib.pyplot as plt\n",
    "    voronoi_plot_2d(vor)\n",
    "    plt.show()\n",
    "    # print(vor.regions)"
   ]
  },
  {
   "cell_type": "code",
   "execution_count": 8,
   "metadata": {},
   "outputs": [],
   "source": [
    "R = np.empty((num_crystal, 3, 3))\n",
    "\n",
    "Rx_matrix = np.empty((num_crystal, 3, 3))\n",
    "Ry_matrix = np.empty((num_crystal, 3, 3))\n",
    "Rz_matrix = np.empty((num_crystal, 3, 3))\n",
    "\n",
    "for i in range(num_crystal):\n",
    "    Rx_matrix[i, :, :] = np.array([[1, 0, 0],\n",
    "                   [0, cos(theta_x[i]), -sin(theta_x[i])], \n",
    "                  [0, sin(theta_x[i]), cos(theta_x[i])]])\n",
    "    \n",
    "    Ry_matrix[i, :, :] = np.array([[cos(theta_y[i]), 0, sin(theta_y[i])], \n",
    "                  [0, 1, 0],\n",
    "                  [-sin(theta_y[i]), 0, cos(theta_y[i])]])\n",
    "    \n",
    "    Rz_matrix[i, :, :] = np.array([[cos(theta_z[i]), -sin(theta_z[i]), 0],\n",
    "                 [sin(theta_z[i]), cos(theta_z[i]), 0],\n",
    "                 [0, 0, 1]])\n",
    "\n",
    "    R[i, :, :] = np.matmul(np.matmul(Ry_matrix[i, :, :], Rx_matrix[i, :, :]), Rz_matrix[i, :, :])\n",
    "\n",
    "\n",
    "og_x = np.array([[1, 0, 0] for i in range(num_crystal)])\n",
    "og_y = np.array([[0, 1, 0] for i in range(num_crystal)])\n",
    "og_z = np.array([[0, 0, 1] for i in range(num_crystal)])\n",
    "\n",
    "Rx_vector = np.empty((num_crystal, 3))\n",
    "Ry_vector = np.empty((num_crystal, 3))\n",
    "Rz_vector = np.empty((num_crystal, 3))\n",
    "\n",
    "for i in range(num_crystal):\n",
    "    Rx_vector[i, :] = np.matmul(R[i, :, :], og_x[i, :])\n",
    "    Ry_vector[i, :] = np.matmul(R[i, :, :], og_y[i, :])\n",
    "    Rz_vector[i, :] = np.matmul(R[i, :, :], og_z[i, :])\n",
    "\n",
    "geometry = [solid_region,]\n",
    "\n",
    "for i in range(num_crystal):\n",
    "    if (np.abs(loc[i, 0]) < size_solid[0] - size_crystal_base[0]/2 and \n",
    "    np.abs(loc[i, 1]) < size_solid[1] - size_crystal_base[1]/2 and \n",
    "    np.abs(loc[i, 2]) < size_solid[2] - size_crystal_base[2]/2):\n",
    "        geometry.append(mp.Block(\n",
    "            size_crystal[i],\n",
    "            center = mp.Vector3(loc[i, 0], loc[i, 1], loc[i, 2]),\n",
    "            e1 = Rx_vector[i, :],\n",
    "            e2 = Ry_vector[i, :],\n",
    "            e3 = Rz_vector[i, :],\n",
    "            material=mp.Medium(epsilon=10.5)))\n",
    "\n"
   ]
  },
  {
   "cell_type": "code",
   "execution_count": 9,
   "metadata": {},
   "outputs": [],
   "source": [
    "export_geo = True\n",
    "\n",
    "if export_geo:\n",
    "    file_name = 'geometry.peter'\n",
    "    to_write = [num_crystal, size_solid_l, size_crystal_l, loc, theta_x, theta_y, theta_z]\n",
    "    for i in range(len(to_write)):\n",
    "        if type(to_write[i]) is not int and type(to_write[i]) is not list:\n",
    "            to_write[i] = to_write[i].tolist()\n",
    "    with open(file_name, 'w') as f:\n",
    "        json.dump(to_write, f)\n",
    "\n",
    "#\\\\ad.monash.edu\\home\\User045\\dche145\\Documents\\Abaqus\\geometry_shapes\n",
    "#\\\\Client\\D$\\source\\working_with_meep"
   ]
  },
  {
   "cell_type": "markdown",
   "execution_count": 67,
   "metadata": {},
   "outputs": [
    {
     "name": "stdout",
     "output_type": "stream",
     "text": "[0 1 0 1 0 1 0 1 0 1 0 1 0 1 0 1 0 1 0 1 0 1 0 1 0 1 0 1 0 1 0 1 0 1 0 1 0\n 1 0 1 0 1 0 1 0 1 0 1 0 1 0 1 0 1 0 1 0 1 0 1 0 1 0 1 0 1 0 1 0 1 0 1 0 1\n 0 1 0 1 0 1 0 1 0 1 0 1 0 1 0 1 0 1 0 1 0 1 0 1 0 1 0 1 0 1 0 1 0 1 0 1 0\n 1 0 1 0 1 0 1 0 1 0 1 0 1 0]\n"
    }
   ],
   "source": [
    "helper functions"
   ]
  },
  {
   "cell_type": "code",
   "execution_count": null,
   "metadata": {},
   "outputs": [],
   "source": [
    "def closest_node(node, nodes):\n",
    "    # nodes = np.asarray(nodes)\n",
    "    dist_2 = np.sum((nodes - node)**2, axis=1)\n",
    "    return np.argmin(dist_2)\n",
    "\n",
    "    \n",
    "def my_mat(coord):\n",
    "    if coord[0] <  0.25 and coord[0] > -0.25 :\n",
    "        return mp.Medium(epsilon=10.5)\n",
    "    else:\n",
    "        return mp.Medium(epsilon=1)\n",
    "\n",
    "def my_eps(coord):\n",
    "    acoord = np.abs(coord)\n",
    "    if (acoord[0] < 0.5 and acoord[1] < 0.5 and acoord[2] < 0.5 ):\n",
    "        return parts_eps[closest_node([coord[0],coord[1],coord[2]], points)]\n",
    "    else:\n",
    "        return 1.0\n",
    "\n",
    "def my_part_ass(coord):\n",
    "    if (acoord[0] < 0.5 and acoord[1] < 0.5 and acoord[2] < 0.5 ):\n",
    "        return parts_ass[closest_node([coord[0],coord[1],coord[2]], points)]\n",
    "    else:\n",
    "        return 1.0\n",
    "\n",
    "def index2coord(index, size_arr, size_geo):\n",
    "    index = (index/size_arr - 0.5)*size_geo\n",
    "    return index"
   ]
  },
  {
   "cell_type": "code",
   "execution_count": 77,
   "metadata": {},
   "outputs": [
    {
     "data": {
      "text/plain": "array([[ 0.3488177 , -0.32110408, -0.44563679],\n       [-0.13846155, -0.22459907,  0.03000022],\n       [-0.19408108, -0.19552564, -0.38825872],\n       [-0.25010099,  0.4176299 , -0.23585315],\n       [ 0.21777369,  0.36571503,  0.30707948],\n       [-0.28944942, -0.33275697, -0.45329361],\n       [-0.46057769, -0.29976919,  0.4985434 ],\n       [-0.12721302,  0.26051027, -0.02652556],\n       [ 0.00971531,  0.44503842, -0.39055335],\n       [-0.03490684, -0.35844474,  0.03834876],\n       [-0.20100134,  0.03774522,  0.16562754],\n       [-0.1356712 ,  0.12301862,  0.14272489],\n       [-0.08001818, -0.09675757, -0.10957967],\n       [-0.09381048, -0.42033389, -0.4431688 ],\n       [-0.42166909,  0.19567781, -0.47084104],\n       [-0.00050758, -0.36736568, -0.46924437],\n       [ 0.13948943, -0.05400185,  0.47460664],\n       [-0.17023407, -0.30457518,  0.18404621],\n       [-0.14890114,  0.27103611,  0.2917995 ],\n       [-0.05612541, -0.2311717 , -0.47609558],\n       [-0.12866743, -0.40226912,  0.22752255],\n       [-0.04055557,  0.02049647,  0.18456904],\n       [-0.0747097 ,  0.10347306,  0.32384911],\n       [-0.04812874,  0.3879452 , -0.27960046],\n       [-0.39317735, -0.48798987,  0.4179414 ],\n       [ 0.13656621, -0.28023796,  0.04755243],\n       [ 0.42079967,  0.37566594, -0.37240785],\n       [-0.19634626, -0.20470343,  0.06910504],\n       [ 0.24341963, -0.16998481,  0.10785231],\n       [ 0.01567535,  0.41980072, -0.29863339],\n       [-0.49835524, -0.4282668 , -0.0795055 ],\n       [-0.00108263,  0.07375169,  0.38037338],\n       [-0.29928003, -0.07882194,  0.43227734],\n       [-0.1367092 , -0.48499584,  0.39972741],\n       [ 0.11540017,  0.47094207,  0.12162033],\n       [ 0.43626246,  0.09903967, -0.36072128],\n       [ 0.17837472,  0.04633905, -0.49095562],\n       [ 0.27477024, -0.3785755 ,  0.01739414],\n       [ 0.16575234,  0.26291284,  0.44087888],\n       [-0.37601244, -0.29000426, -0.1346323 ],\n       [-0.0987115 ,  0.09000546,  0.4939147 ],\n       [ 0.11150887,  0.18302135, -0.40378871],\n       [-0.06597833, -0.3708413 , -0.28459663],\n       [ 0.35006595, -0.13001075, -0.27178752],\n       [ 0.35993265, -0.03424922,  0.17811697],\n       [-0.12212402,  0.21643356, -0.13498021],\n       [ 0.05152187,  0.0862687 , -0.38461165],\n       [-0.34046425,  0.24543823, -0.02765831],\n       [ 0.13020293,  0.31201369, -0.43399888],\n       [-0.20008108,  0.12358205, -0.00681246],\n       [ 0.28921973,  0.33878993,  0.26127667],\n       [-0.37850841,  0.46974271,  0.36380923],\n       [-0.40070944, -0.157345  , -0.46387295],\n       [ 0.08684088,  0.2973855 ,  0.46913106],\n       [ 0.46850525, -0.42097049, -0.31525702],\n       [ 0.38353573,  0.24451373, -0.33298375],\n       [-0.06149069,  0.01265743, -0.28261834],\n       [-0.39835657, -0.25103508,  0.46661232],\n       [ 0.32184651, -0.06488387,  0.32781234],\n       [-0.45246301,  0.26985324,  0.46560156],\n       [-0.46912687,  0.09089601,  0.24833583],\n       [-0.30156946, -0.04773398, -0.24723097],\n       [ 0.31725646,  0.4508608 , -0.2377524 ],\n       [-0.36675625, -0.33212787, -0.08960132],\n       [-0.01578788, -0.35390875,  0.2175535 ],\n       [-0.13014586, -0.34145316,  0.10304818],\n       [-0.18785846,  0.42217876,  0.26919799],\n       [ 0.04082469, -0.23173574,  0.23303072],\n       [-0.49266849,  0.39609054, -0.29079287],\n       [ 0.3413235 , -0.01211338,  0.38460406],\n       [-0.01193491, -0.00548945, -0.29057985],\n       [-0.23781186,  0.12345126, -0.04481928],\n       [ 0.40884841,  0.05499235,  0.20309888],\n       [-0.29480505, -0.2355237 , -0.08302666],\n       [-0.47387613,  0.20902792, -0.08022173],\n       [-0.47995735,  0.17790122, -0.13506124],\n       [-0.27465046,  0.009001  , -0.35556976],\n       [ 0.4410354 , -0.48406357,  0.2278935 ],\n       [ 0.35853612,  0.37276521,  0.02840654],\n       [-0.09158922,  0.24254858,  0.30041975],\n       [-0.23051746, -0.23581379, -0.25223724],\n       [ 0.36012932,  0.44754964, -0.34598867],\n       [ 0.44538933,  0.00331958, -0.17766041],\n       [ 0.25995687,  0.42547864, -0.23948255],\n       [-0.41741596, -0.44647189,  0.30512636],\n       [-0.18827129,  0.15006592, -0.32858018],\n       [ 0.30011088, -0.09749166, -0.43959283],\n       [ 0.10243982, -0.32572129, -0.07043599],\n       [-0.081536  ,  0.42826276,  0.42836599],\n       [-0.18844148, -0.24935724,  0.37064016],\n       [ 0.18596885, -0.17910233,  0.16940295],\n       [ 0.44000563,  0.31336415, -0.4428018 ],\n       [ 0.47858297,  0.40071912, -0.1072756 ],\n       [ 0.39143354, -0.02612265,  0.25969964],\n       [ 0.32793491, -0.36491175, -0.16793853],\n       [-0.45724316, -0.43055138,  0.11698984],\n       [ 0.0922921 ,  0.46192815, -0.24930304],\n       [ 0.43510287, -0.02483972,  0.18235249],\n       [-0.45761565,  0.46171796, -0.28087972],\n       [-0.23732266,  0.27197004,  0.37405602],\n       [ 0.49203312,  0.20830294, -0.08622627],\n       [-0.49855539,  0.43303178,  0.35962703],\n       [-0.42880971, -0.26298317,  0.23614841],\n       [-0.23971715, -0.33228038,  0.47468474],\n       [-0.10832619, -0.19110682, -0.27059461],\n       [-0.43882433, -0.03147623, -0.47623956],\n       [ 0.21816179, -0.13136718,  0.0512897 ],\n       [ 0.34997281,  0.03071774,  0.49606673],\n       [ 0.42199185,  0.04484521,  0.19602149],\n       [ 0.33041891, -0.2803487 , -0.06189508],\n       [ 0.38428638, -0.45012075,  0.03686535],\n       [-0.24536878, -0.10165425, -0.26759641],\n       [ 0.11229422,  0.32942423,  0.42469084],\n       [-0.35113884,  0.41384816,  0.27236858],\n       [ 0.27993011,  0.28049678, -0.22754683],\n       [-0.18228234, -0.04175527, -0.41699555],\n       [ 0.01290826,  0.14890599, -0.33753711],\n       [-0.44232231,  0.37879149,  0.0291243 ],\n       [-0.21855741,  0.28004478,  0.02288781],\n       [-0.01887377, -0.35992255, -0.26114966],\n       [-0.17541726,  0.19938909, -0.26505471],\n       [-0.06493767,  0.45417458,  0.46248546],\n       [-0.22520431,  0.26548608,  0.43241246],\n       [ 0.02605957,  0.13450323, -0.01431151],\n       [-0.24271768, -0.02671004,  0.27288689]])"
     },
     "execution_count": 77,
     "metadata": {},
     "output_type": "execute_result"
    }
   ],
   "source": [
    "points"
   ]
  },
  {
   "cell_type": "code",
   "execution_count": 79,
   "metadata": {},
   "outputs": [],
   "source": [
    "num_div = 5\n",
    "num_seed = num_div**3\n",
    "points = np.zeros((num_div**3, 3))\n",
    "\n",
    "p_range = np.array([1.0, 1.0, 1.0])\n",
    "p_div = p_range/num_div\n",
    "num_parts = 2\n",
    "eps_val = [1, 10]\n",
    "\n",
    "# vor = Voronoi(points)\n",
    "\n",
    "# assigning points and seeds\n",
    "random_ass = False\n",
    "if random_ass:\n",
    "    np.random.seed(15)\n",
    "    points = np.random.rand(num_seed, 3) - 0.5\n",
    "    parts_ass = np.random.randint(0, num_parts, (num_seed))\n",
    "else:\n",
    "    index = 0\n",
    "    for i in range(num_div):\n",
    "        for j in range(num_div):\n",
    "            for k in range(num_div):\n",
    "                points[index, :] = [i*p_div[0] - p_range[0]/2, j*p_div[1] - p_range[1]/2, k*p_div[2] - p_range[2]/2]\n",
    "                index += 1\n",
    "    # this will produce checker pattern\n",
    "    parts_ass = np.array([1 if i%2 else 0 for i in range(num_seed)])\n",
    "\n",
    "parts_eps = [eps_val[parts_ass[i]] for i in range(num_seed)]\n",
    "\n",
    "\n",
    "#output geometric files\n",
    "size_out_geo = [100, 100, 100]\n",
    "out_geo = np.zeros((size_out_geo))\n",
    "for i in range(size_out_geo[0]):\n",
    "    for j in range(size_out_geo[1]):\n",
    "        for k in range(size_out_geo[2]):\n",
    "            coord = index2coord(np.array((i,j,k),dtype=float), size_out_geo, size_cell_l)\n",
    "            out_geo[i,j,k] = parts_ass[closest_node(coord, points)]\n",
    "with open('../abaqus_working_space/abaqus_out/voronoi_geo.peter', 'wb') as f:\n",
    "    out_geo.tofile(f)\n",
    "\n",
    "\n",
    "#construct the geometry\n",
    "pml_layers = [mp.PML(0.3)]\n",
    "\n",
    "source_pad = 0.25\n",
    "source = [mp.Source(mp.ContinuousSource(wavelength=2*(11**0.5), width=20),\n",
    "                   component=mp.Ez,\n",
    "                   center=mp.Vector3(0.75, 0, 0),\n",
    "                   size=mp.Vector3(0, 0.1, 0.1))]\n",
    "sim = mp.Simulation(resolution=100,\n",
    "                    cell_size=size_cell,\n",
    "                    boundary_layers=pml_layers,\n",
    "                    sources = source,\n",
    "                    epsilon_func = my_eps)\n"
   ]
  },
  {
   "cell_type": "markdown",
   "metadata": {},
   "source": [
    "Create the visualization for visual inspection"
   ]
  },
  {
   "cell_type": "code",
   "execution_count": 78,
   "metadata": {},
   "outputs": [
    {
     "name": "stdout",
     "output_type": "stream",
     "text": "-----------\nInitializing structure...\ntime for choose_chunkdivision = 0.00049305 s\nWorking in 3D dimensions.\nComputational cell is 2 x 2 x 2 with resolution 100\nsubpixel-averaging is 67.2841% done, 1.94502 s remaining\nsubpixel-averaging is 66.3137% done, 2.03259 s remaining\nsubpixel-averaging is 64.0493% done, 2.24755 s remaining\nsubpixel-averaging is 64.858% done, 2.17093 s remaining\nsubpixel-averaging is 63.7258% done, 2.2817 s remaining\nsubpixel-averaging is 63.7258% done, 2.28241 s remaining\nsubpixel-averaging is 14.559% done, 23.6618 s remaining\nsubpixel-averaging is 20.1443% done, 15.8662 s remaining\nsubpixel-averaging is 25.7668% done, 11.5651 s remaining\nsubpixel-averaging is 31.4638% done, 8.72513 s remaining\nsubpixel-averaging is 37.1236% done, 6.82903 s remaining\nsubpixel-averaging is 42.7834% done, 5.37021 s remaining\nsubpixel-averaging is 48.4432% done, 4.26922 s remaining\nsubpixel-averaging is 54.1029% done, 3.40373 s remaining\nsubpixel-averaging is 59.5393% done, 2.73369 s remaining\nsubpixel-averaging is 65.0501% done, 2.15336 s remaining\nsubpixel-averaging is 70.412% done, 1.68232 s remaining\nsubpixel-averaging is 75.8856% done, 1.27129 s remaining\nsubpixel-averaging is 81.4337% done, 0.912553 s remaining\nsubpixel-averaging is 88.9925% done, 0.495875 s remaining\nsubpixel-averaging is 65.8285% done, 2.08025 s remaining\nsubpixel-averaging is 66.7989% done, 1.99056 s remaining\nsubpixel-averaging is 65.3432% done, 2.12552 s remaining\nsubpixel-averaging is 65.3432% done, 2.1228 s remaining\nsubpixel-averaging is 63.4024% done, 2.31362 s remaining\nsubpixel-averaging is 63.5641% done, 2.29752 s remaining\nsubpixel-averaging is 14.6707% done, 23.3497 s remaining\nsubpixel-averaging is 20.256% done, 15.7671 s remaining\nsubpixel-averaging is 25.6924% done, 11.6672 s remaining\nsubpixel-averaging is 31.166% done, 8.88808 s remaining\nsubpixel-averaging is 36.5279% done, 6.96518 s remaining\nsubpixel-averaging is 42.0387% done, 5.52783 s remaining\nsubpixel-averaging is 47.5868% done, 4.40769 s remaining\nsubpixel-averaging is 53.0604% done, 3.55883 s remaining\nsubpixel-averaging is 58.6829% done, 2.82017 s remaining\nsubpixel-averaging is 64.2682% done, 2.2405 s remaining\nsubpixel-averaging is 69.1833% done, 1.79017 s remaining\nsubpixel-averaging is 74.6569% done, 1.36576 s remaining\nsubpixel-averaging is 80.3166% done, 0.985483 s remaining\nsubpixel-averaging is 86.4605% done, 0.627547 s remaining\nsubpixel-averaging is 67.4459% done, 1.93333 s remaining\nsubpixel-averaging is 66.3137% done, 2.03428 s remaining\nsubpixel-averaging is 65.6667% done, 2.0961 s remaining\nsubpixel-averaging is 64.0493% done, 2.24538 s remaining\nsubpixel-averaging is 63.2406% done, 2.32729 s remaining\nsubpixel-averaging is 61.7849% done, 2.47857 s remaining\nsubpixel-averaging is 14.7079% done, 23.2916 s remaining\nsubpixel-averaging is 20.256% done, 15.7784 s remaining\nsubpixel-averaging is 25.6924% done, 11.5709 s remaining\nsubpixel-averaging is 31.3149% done, 8.78315 s remaining\nsubpixel-averaging is 36.9374% done, 6.85998 s remaining\nsubpixel-averaging is 42.5227% done, 5.41464 s remaining\nsubpixel-averaging is 47.8474% done, 4.38051 s remaining\nsubpixel-averaging is 53.2838% done, 3.51524 s remaining\nsubpixel-averaging is 58.7574% done, 2.81988 s remaining\nsubpixel-averaging is 64.3054% done, 2.23111 s remaining\nsubpixel-averaging is 69.7418% done, 1.73671 s remaining\nsubpixel-averaging is 75.3271% done, 1.31607 s remaining\nsubpixel-averaging is 80.9124% done, 0.944585 s remaining\nsubpixel-averaging is 88.0244% done, 0.544263 s remaining\ntime for set_epsilon = 347.015 s\n-----------\n"
    }
   ],
   "source": [
    "sim.init_sim()\n",
    "eps_data = sim.get_epsilon()\n",
    "\n",
    "show_3d_geo = True\n",
    "if show_3d_geo:\n",
    "    from mayavi import mlab\n",
    "    s = mlab.contour3d(eps_data, colormap=\"YlGnBu\")\n",
    "    mlab.show()"
   ]
  },
  {
   "cell_type": "markdown",
   "metadata": {},
   "source": [
    "cheeky run of the geometry"
   ]
  },
  {
   "cell_type": "code",
   "execution_count": 7,
   "metadata": {},
   "outputs": [
    {
     "name": "stdout",
     "output_type": "stream",
     "text": "creating output file \"./eps-000000.00.h5\"...\ncreating output file \"./ez_small.h5\"...\nMeep progress: 0.43/20.0 = 2.1% done in 4.0s, 182.1s to go\non time step 46 (time=0.46), 0.0869736 s/step\nMeep progress: 1.2/20.0 = 6.0% done in 8.1s, 127.1s to go\non time step 121 (time=1.21), 0.0536495 s/step\nMeep progress: 1.99/20.0 = 9.9% done in 12.1s, 109.9s to go\non time step 200 (time=2), 0.0509718 s/step\nMeep progress: 2.82/20.0 = 14.1% done in 16.1s, 98.4s to go\non time step 283 (time=2.83), 0.0483065 s/step\nMeep progress: 3.6/20.0 = 18.0% done in 20.4s, 93.1s to go\non time step 360 (time=3.6), 0.0549899 s/step\nMeep progress: 4.3500000000000005/20.0 = 21.8% done in 24.5s, 88.1s to go\non time step 435 (time=4.35), 0.0539277 s/step\nMeep progress: 5.1000000000000005/20.0 = 25.5% done in 28.5s, 83.3s to go\non time step 510 (time=5.1), 0.0537785 s/step\nMeep progress: 5.86/20.0 = 29.3% done in 32.5s, 78.5s to go\non time step 586 (time=5.86), 0.0526459 s/step\nMeep progress: 6.59/20.0 = 32.9% done in 36.5s, 74.4s to go\non time step 659 (time=6.59), 0.0551609 s/step\nMeep progress: 7.3/20.0 = 36.5% done in 40.6s, 70.6s to go\non time step 730 (time=7.3), 0.0569693 s/step\nMeep progress: 8.06/20.0 = 40.3% done in 44.6s, 66.1s to go\non time step 806 (time=8.06), 0.0528323 s/step\nMeep progress: 8.84/20.0 = 44.2% done in 48.6s, 61.4s to go\non time step 884 (time=8.84), 0.0514709 s/step\nMeep progress: 9.6/20.0 = 48.0% done in 52.9s, 57.3s to go\non time step 960 (time=9.6), 0.056192 s/step\nMeep progress: 10.47/20.0 = 52.4% done in 56.9s, 51.8s to go\non time step 1047 (time=10.47), 0.0464372 s/step\nMeep progress: 11.290000000000001/20.0 = 56.5% done in 60.9s, 47.0s to go\non time step 1129 (time=11.29), 0.0488396 s/step\nMeep progress: 12.0/20.0 = 60.0% done in 64.9s, 43.3s to go\non time step 1200 (time=12), 0.0564977 s/step\nMeep progress: 12.75/20.0 = 63.8% done in 69.0s, 39.2s to go\non time step 1275 (time=12.75), 0.0539795 s/step\nMeep progress: 13.52/20.0 = 67.6% done in 73.0s, 35.0s to go\non time step 1352 (time=13.52), 0.0524117 s/step\nMeep progress: 14.32/20.0 = 71.6% done in 77.1s, 30.6s to go\non time step 1432 (time=14.32), 0.0503345 s/step\nMeep progress: 15.07/20.0 = 75.3% done in 81.1s, 26.5s to go\non time step 1507 (time=15.07), 0.0539832 s/step\nMeep progress: 15.860000000000001/20.0 = 79.3% done in 85.1s, 22.2s to go\non time step 1586 (time=15.86), 0.0508577 s/step\nMeep progress: 16.66/20.0 = 83.3% done in 89.2s, 17.9s to go\non time step 1666 (time=16.66), 0.0503864 s/step\nMeep progress: 17.400000000000002/20.0 = 87.0% done in 93.3s, 13.9s to go\non time step 1740 (time=17.4), 0.0553304 s/step\nMeep progress: 18.2/20.0 = 91.0% done in 97.3s, 9.6s to go\non time step 1820 (time=18.2), 0.0504442 s/step\nMeep progress: 19.02/20.0 = 95.1% done in 101.3s, 5.2s to go\non time step 1902 (time=19.02), 0.0489439 s/step\nMeep progress: 19.8/20.0 = 99.0% done in 105.4s, 1.1s to go\non time step 1980 (time=19.8), 0.0521649 s/step\nrun 0 finished at t = 20.0 (2000 timesteps)\n"
    }
   ],
   "source": [
    "sim.run(mp.at_beginning(mp.output_epsilon), \n",
    "       mp.to_appended(\"ez_small\", mp.at_every(0.6, mp.output_efield_z)),\n",
    "       until=20)"
   ]
  },
  {
   "cell_type": "markdown",
   "metadata": {},
   "source": [
    "visulization of the output field"
   ]
  },
  {
   "cell_type": "code",
   "execution_count": 38,
   "metadata": {},
   "outputs": [
    {
     "name": "stdout",
     "output_type": "stream",
     "text": [
      "(100, 100, 100)\n",
      "ez                       Dataset {100, 100, 100, 333/Inf}\n",
      "h5topng error: invalid colormap file\n"
     ]
    }
   ],
   "source": [
    "# ez_data = sim.get_array(center=mp.Vector3(), size=size_cell, component=mp.Ez)\n",
    "# print(ez_data.shape)\n",
    "get_gif_out = False\n",
    "\n",
    "if get_gif_out:\n",
    "    !h5ls ez.h5\n",
    "    !mkdir temp\n",
    "    !mv eps-000000.00.h5 temp/eps-000000.00.h5\n",
    "    !mv ez.h5 temp/ez.h5\n",
    "    import os\n",
    "    os.chdir('temp')\n",
    "    !h5topng -z 20 -t 0:332 -R -Zc dkbluered -a yarg -A eps-000000.00.h5 ez.h5\n",
    "    !convert ez.t*.png ez.gif\n",
    "    os.chdir('..')"
   ]
  },
  {
   "cell_type": "code",
   "execution_count": null,
   "metadata": {},
   "outputs": [],
   "source": []
  }
 ],
 "metadata": {
  "kernelspec": {
   "display_name": "Python 3.7.3 64-bit ('mp': conda)",
   "language": "python",
   "name": "python37364bitmpcondabd11d9e164314ef4a46c0e76fc56242b"
  },
  "language_info": {
   "codemirror_mode": {
    "name": "ipython",
    "version": 3
   },
   "file_extension": ".py",
   "mimetype": "text/x-python",
   "name": "python",
   "nbconvert_exporter": "python",
   "pygments_lexer": "ipython3",
   "version": "3.7.3-final"
  }
 },
 "nbformat": 4,
 "nbformat_minor": 2
}