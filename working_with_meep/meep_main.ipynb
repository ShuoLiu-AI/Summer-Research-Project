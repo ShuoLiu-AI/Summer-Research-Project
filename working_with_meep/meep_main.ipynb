{
 "cells": [
  {
   "cell_type": "code",
   "execution_count": 49,
   "metadata": {},
   "outputs": [],
   "source": [
    "import meep as mp\n",
    "import numpy as np\n",
    "import math\n",
    "import matplotlib.pyplot as plt\n",
    "import pickle\n",
    "from numpy import cos, sin\n",
    "import json"
   ]
  },
  {
   "cell_type": "markdown",
   "metadata": {},
   "source": [
    "# create geometric and write it to a file"
   ]
  },
  {
   "cell_type": "markdown",
   "metadata": {},
   "source": [
    "generate random numbers"
   ]
  },
  {
   "cell_type": "code",
   "execution_count": 50,
   "metadata": {},
   "outputs": [],
   "source": [
    "np.random.seed(15)\n",
    "\n",
    "num_crystal = 190\n",
    "\n",
    "a = 5. # shape\n",
    "\n",
    "size_cell_l = [2, 2, 2]\n",
    "size_solid_l = [1, 1, 1]\n",
    "size_crystal_base = [0.1, 0.1, 0.1]\n",
    "size_crystal_l = np.random.weibull(a, (num_crystal, 3))\n",
    "for i in range(3):\n",
    "    size_crystal_l[:, i] *= size_crystal_base[i]\n",
    "\n",
    "size_cell = mp.Vector3(*size_cell_l)\n",
    "size_solid = mp.Vector3(*size_solid_l)\n",
    "\n",
    "size_crystal = []\n",
    "for i in range(num_crystal):\n",
    "    size_crystal.append(mp.Vector3(*size_crystal_l[i, :]))\n",
    "\n",
    "solid_region = mp.Block(size_solid, \n",
    "                    center = mp.Vector3(0, 0, 0),\n",
    "                    material=mp.Medium(epsilon=1))\n",
    "\n",
    "mean= (0, 0, 0)\n",
    "cov = [[0.1, 0, 0], [0, 0.1, 0], [0, 0, 0.1]]\n",
    "loc = np.random.multivariate_normal(mean, cov, (num_crystal))\n",
    "loc = np.random.uniform(-size_solid_l[0]/2, size_solid_l[0]/2, (num_crystal, 3))\n",
    "theta_x = np.random.uniform(0, 2*np.pi, num_crystal)\n",
    "theta_y = np.random.uniform(0, 2*np.pi, num_crystal)\n",
    "theta_z = np.random.uniform(0, 2*np.pi, num_crystal)"
   ]
  },
  {
   "cell_type": "markdown",
   "execution_count": null,
   "metadata": {},
   "outputs": [],
   "source": []
  },
  {
   "cell_type": "code",
   "execution_count": 51,
   "metadata": {},
   "outputs": [],
   "source": [
    "R = np.empty((num_crystal, 3, 3))\n",
    "\n",
    "Rx_matrix = np.empty((num_crystal, 3, 3))\n",
    "Ry_matrix = np.empty((num_crystal, 3, 3))\n",
    "Rz_matrix = np.empty((num_crystal, 3, 3))\n",
    "\n",
    "for i in range(num_crystal):\n",
    "    Rx_matrix[i, :, :] = np.array([[1, 0, 0],\n",
    "                   [0, cos(theta_x[i]), -sin(theta_x[i])], \n",
    "                  [0, sin(theta_x[i]), cos(theta_x[i])]])\n",
    "    \n",
    "    Ry_matrix[i, :, :] = np.array([[cos(theta_y[i]), 0, sin(theta_y[i])], \n",
    "                  [0, 1, 0],\n",
    "                  [-sin(theta_y[i]), 0, cos(theta_y[i])]])\n",
    "    \n",
    "    Rz_matrix[i, :, :] = np.array([[cos(theta_z[i]), -sin(theta_z[i]), 0],\n",
    "                 [sin(theta_z[i]), cos(theta_z[i]), 0],\n",
    "                 [0, 0, 1]])\n",
    "\n",
    "    R[i, :, :] = np.matmul(np.matmul(Ry_matrix[i, :, :], Rx_matrix[i, :, :]), Rz_matrix[i, :, :])\n",
    "\n",
    "\n",
    "og_x = np.array([[1, 0, 0] for i in range(num_crystal)])\n",
    "og_y = np.array([[0, 1, 0] for i in range(num_crystal)])\n",
    "og_z = np.array([[0, 0, 1] for i in range(num_crystal)])\n",
    "\n",
    "Rx_vector = np.empty((num_crystal, 3))\n",
    "Ry_vector = np.empty((num_crystal, 3))\n",
    "Rz_vector = np.empty((num_crystal, 3))\n",
    "\n",
    "for i in range(num_crystal):\n",
    "    Rx_vector[i, :] = np.matmul(R[i, :, :], og_x[i, :])\n",
    "    Ry_vector[i, :] = np.matmul(R[i, :, :], og_y[i, :])\n",
    "    Rz_vector[i, :] = np.matmul(R[i, :, :], og_z[i, :])\n",
    "\n",
    "geometry = [solid_region,]\n",
    "\n",
    "for i in range(num_crystal):\n",
    "    if (np.abs(loc[i, 0]) < size_solid[0] - size_crystal_base[0]/2 and \n",
    "    np.abs(loc[i, 1]) < size_solid[1] - size_crystal_base[1]/2 and \n",
    "    np.abs(loc[i, 2]) < size_solid[2] - size_crystal_base[2]/2):\n",
    "        geometry.append(mp.Block(\n",
    "            size_crystal[i],\n",
    "            center = mp.Vector3(loc[i, 0], loc[i, 1], loc[i, 2]),\n",
    "            e1 = Rx_vector[i, :],\n",
    "            e2 = Ry_vector[i, :],\n",
    "            e3 = Rz_vector[i, :],\n",
    "            material=mp.Medium(epsilon=10.5)))\n",
    "\n"
   ]
  },
  {
   "cell_type": "code",
   "execution_count": 52,
   "metadata": {},
   "outputs": [],
   "source": [
    "export_geo = True\n",
    "\n",
    "if export_geo:\n",
    "    file_name = 'geometry.peter'\n",
    "    to_write = [num_crystal, size_solid_l, size_crystal_l, loc, theta_x, theta_y, theta_z]\n",
    "    for i in range(len(to_write)):\n",
    "        if type(to_write[i]) is not int and type(to_write[i]) is not list:\n",
    "            to_write[i] = to_write[i].tolist()\n",
    "    with open(file_name, 'w') as f:\n",
    "        json.dump(to_write, f)\n",
    "\n",
    "#\\\\ad.monash.edu\\home\\User045\\dche145\\Documents\\Abaqus\\geometry_shapes\n",
    "#\\\\Client\\D$\\source\\working_with_meep"
   ]
  },
  {
   "cell_type": "markdown",
   "metadata": {},
   "source": [
    "Create the visualization for visual inspection"
   ]
  },
  {
   "cell_type": "code",
   "execution_count": 53,
   "metadata": {},
   "outputs": [],
   "source": [
    "pml_layers = [mp.PML(0.3)]\n",
    "\n",
    "source_pad = 0.25\n",
    "source = [mp.Source(mp.ContinuousSource(wavelength=2*(11**0.5), width=20),\n",
    "                   component=mp.Ez,\n",
    "                   center=mp.Vector3(0.75, 0, 0),\n",
    "                   size=mp.Vector3(0, 0.1, 0.1))]\n",
    "sim = mp.Simulation(resolution=50,\n",
    "                    cell_size=size_cell,\n",
    "                    boundary_layers=pml_layers,\n",
    "                    sources = source,\n",
    "                    geometry=geometry)\n"
   ]
  },
  {
   "cell_type": "markdown",
   "metadata": {},
   "source": [
    "Quick visulization of the generated geometry"
   ]
  },
  {
   "cell_type": "code",
   "execution_count": 54,
   "metadata": {},
   "outputs": [
    {
     "name": "stdout",
     "output_type": "stream",
     "text": "-----------\nInitializing structure...\ntime for choose_chunkdivision = 0.000366926 s\nWorking in 3D dimensions.\nComputational cell is 2 x 2 x 2 with resolution 50\nblock, center = (0,0,0)\n          size (1,1,1)\n          axes (1,0,0), (0,1,0), (0,0,1)\n          dielectric constant epsilon diagonal = (1,1,1)\nblock, center = (-0.169611,-0.184602,0.180159)\n          size (0.113569,0.0722669,0.0561665)\n          axes (-0.796295,0.542286,0.26803), (-0.380685,-0.104906,-0.918735), (-0.470099,-0.833619,0.289976)\n          dielectric constant epsilon diagonal = (10.5,10.5,10.5)\nblock, center = (0.233467,-0.187506,0.210887)\n          size (0.0851903,0.0797275,0.0945349)\n          axes (0.0897979,-0.94584,-0.311967), (0.988157,0.0454775,0.146554), (-0.124429,-0.321432,0.938722)\n          dielectric constant epsilon diagonal = (10.5,10.5,10.5)\nblock, center = (0.386859,-0.236125,-0.360176)\n          size (0.081752,0.0816587,0.0652737)\n          axes (0.00495325,-0.30336,0.952863), (0.598035,-0.762797,-0.245958), (0.801455,0.571064,0.177641)\n          dielectric constant epsilon diagonal = (10.5,10.5,10.5)\nblock, center = (0.484572,-0.424806,-0.0365908)\n          size (0.0779367,0.120079,0.0789496)\n          axes (0.826506,-0.53383,0.178644), (0.0498732,-0.24666,-0.967818), (0.560715,0.808816,-0.177242)\n          dielectric constant epsilon diagonal = (10.5,10.5,10.5)\nblock, center = (0.447934,0.162592,0.343705)\n          size (0.104814,0.114959,0.110474)\n          axes (-0.179172,0.818231,-0.546255), (-0.862785,0.136129,0.4869), (0.472758,0.558539,0.681567)\n          dielectric constant epsilon diagonal = (10.5,10.5,10.5)\nblock, center = (-0.0479781,0.160013,0.197114)\n          size (0.074944,0.0712027,0.0544433)\n          axes (0.815834,0.385635,-0.430931), (-0.445717,0.894107,-0.0437009), (0.368446,0.227726,0.901326)\n          dielectric constant epsilon diagonal = (10.5,10.5,10.5)\nblock, center = (-0.490207,0.301964,-0.327137)\n          size (0.0525883,0.0741019,0.145547)\n          axes (-0.777166,-0.257354,0.574267), (0.108275,-0.95363,-0.280832), (0.619911,-0.156074,0.768994)\n          dielectric constant epsilon diagonal = (10.5,10.5,10.5)\nblock, center = (0.260353,0.02504,-0.0252638)\n          size (0.0858548,0.107404,0.0915026)\n          axes (-0.653888,-0.726528,-0.21116), (-0.256244,-0.0499398,0.965321), (-0.711878,0.68532,-0.153513)\n          dielectric constant epsilon diagonal = (10.5,10.5,10.5)\nblock, center = (0.365165,0.0417133,0.161197)\n          size (0.0934523,0.123741,0.0649869)\n          axes (-0.980946,0.194275,0.00122009), (-0.191959,-0.968245,-0.160166), (-0.0299349,-0.157348,0.987089)\n          dielectric constant epsilon diagonal = (10.5,10.5,10.5)\n     ...(+ 181 objects not shown)...\nsubpixel-averaging is 41.7033% done, 5.60052 s remaining\nsubpixel-averaging is 67.5778% done, 1.92148 s remaining\nsubpixel-averaging is 42.6165% done, 5.41882 s remaining\nsubpixel-averaging is 69.0998% done, 1.83262 s remaining\nsubpixel-averaging is 42.6165% done, 5.50026 s remaining\nsubpixel-averaging is 68.7954% done, 1.82407 s remaining\ntime for set_epsilon = 36.6372 s\n-----------\n"
    },
    {
     "ename": "ValueError",
     "evalue": "'' is not in list",
     "output_type": "error",
     "traceback": [
      "\u001b[0;31m---------------------------------------------------------------------------\u001b[0m",
      "\u001b[0;31mValueError\u001b[0m                                Traceback (most recent call last)",
      "\u001b[0;32m~/anaconda3/envs/mp/lib/python3.7/site-packages/pyface/ui/qt4/action/action_item.py\u001b[0m in \u001b[0;36m_qt4_on_triggered\u001b[0;34m(self)\u001b[0m\n\u001b[1;32m    384\u001b[0m \u001b[0;34m\u001b[0m\u001b[0m\n\u001b[1;32m    385\u001b[0m             \u001b[0;32melse\u001b[0m\u001b[0;34m:\u001b[0m\u001b[0;34m\u001b[0m\u001b[0;34m\u001b[0m\u001b[0m\n\u001b[0;32m--> 386\u001b[0;31m                 \u001b[0maction\u001b[0m\u001b[0;34m.\u001b[0m\u001b[0mperform\u001b[0m\u001b[0;34m(\u001b[0m\u001b[0maction_event\u001b[0m\u001b[0;34m)\u001b[0m\u001b[0;34m\u001b[0m\u001b[0;34m\u001b[0m\u001b[0m\n\u001b[0m\u001b[1;32m    387\u001b[0m \u001b[0;34m\u001b[0m\u001b[0m\n\u001b[1;32m    388\u001b[0m     \u001b[0;31m#### Trait event handlers #################################################\u001b[0m\u001b[0;34m\u001b[0m\u001b[0;34m\u001b[0m\u001b[0;34m\u001b[0m\u001b[0m\n",
      "\u001b[0;32m~/anaconda3/envs/mp/lib/python3.7/site-packages/pyface/action/action.py\u001b[0m in \u001b[0;36mperform\u001b[0;34m(self, event)\u001b[0m\n\u001b[1;32m    133\u001b[0m         \"\"\"\n\u001b[1;32m    134\u001b[0m         \u001b[0;32mif\u001b[0m \u001b[0mself\u001b[0m\u001b[0;34m.\u001b[0m\u001b[0mon_perform\u001b[0m \u001b[0;32mis\u001b[0m \u001b[0;32mnot\u001b[0m \u001b[0;32mNone\u001b[0m\u001b[0;34m:\u001b[0m\u001b[0;34m\u001b[0m\u001b[0;34m\u001b[0m\u001b[0m\n\u001b[0;32m--> 135\u001b[0;31m             \u001b[0mself\u001b[0m\u001b[0;34m.\u001b[0m\u001b[0mon_perform\u001b[0m\u001b[0;34m(\u001b[0m\u001b[0;34m)\u001b[0m\u001b[0;34m\u001b[0m\u001b[0;34m\u001b[0m\u001b[0m\n\u001b[0m\u001b[1;32m    136\u001b[0m \u001b[0;34m\u001b[0m\u001b[0m\n\u001b[1;32m    137\u001b[0m     \u001b[0;34m@\u001b[0m\u001b[0mclassmethod\u001b[0m\u001b[0;34m\u001b[0m\u001b[0;34m\u001b[0m\u001b[0m\n",
      "\u001b[0;32m~/anaconda3/envs/mp/lib/python3.7/site-packages/tvtk/pyface/ui/qt4/decorated_scene.py\u001b[0m in \u001b[0;36m_save_snapshot\u001b[0;34m(self)\u001b[0m\n\u001b[1;32m    149\u001b[0m         \"\"\"\n\u001b[1;32m    150\u001b[0m         \u001b[0;32mif\u001b[0m \u001b[0mself\u001b[0m\u001b[0;34m.\u001b[0m\u001b[0m_panel\u001b[0m \u001b[0;32mis\u001b[0m \u001b[0;32mnot\u001b[0m \u001b[0;32mNone\u001b[0m\u001b[0;34m:\u001b[0m\u001b[0;34m\u001b[0m\u001b[0;34m\u001b[0m\u001b[0m\n\u001b[0;32m--> 151\u001b[0;31m             \u001b[0mpath\u001b[0m \u001b[0;34m=\u001b[0m \u001b[0mpopup_save\u001b[0m\u001b[0;34m(\u001b[0m\u001b[0mself\u001b[0m\u001b[0;34m.\u001b[0m\u001b[0m_panel\u001b[0m\u001b[0;34m)\u001b[0m\u001b[0;34m\u001b[0m\u001b[0;34m\u001b[0m\u001b[0m\n\u001b[0m\u001b[1;32m    152\u001b[0m             \u001b[0;32mif\u001b[0m \u001b[0mlen\u001b[0m\u001b[0;34m(\u001b[0m\u001b[0mpath\u001b[0m\u001b[0;34m)\u001b[0m \u001b[0;34m>\u001b[0m \u001b[0;36m0\u001b[0m\u001b[0;34m:\u001b[0m\u001b[0;34m\u001b[0m\u001b[0;34m\u001b[0m\u001b[0m\n\u001b[1;32m    153\u001b[0m                 \u001b[0;31m# The extension of the path will determine the actual\u001b[0m\u001b[0;34m\u001b[0m\u001b[0;34m\u001b[0m\u001b[0;34m\u001b[0m\u001b[0m\n",
      "\u001b[0;32m~/anaconda3/envs/mp/lib/python3.7/site-packages/tvtk/pyface/utils.py\u001b[0m in \u001b[0;36mpopup_save\u001b[0;34m(parent)\u001b[0m\n\u001b[1;32m     31\u001b[0m         \u001b[0mwildcard\u001b[0m\u001b[0;34m=\u001b[0m\u001b[0mwildcard\u001b[0m\u001b[0;34m\u001b[0m\u001b[0;34m\u001b[0m\u001b[0m\n\u001b[1;32m     32\u001b[0m     )\n\u001b[0;32m---> 33\u001b[0;31m     \u001b[0;32mif\u001b[0m \u001b[0mdialog\u001b[0m\u001b[0;34m.\u001b[0m\u001b[0mopen\u001b[0m\u001b[0;34m(\u001b[0m\u001b[0;34m)\u001b[0m \u001b[0;34m==\u001b[0m \u001b[0mOK\u001b[0m\u001b[0;34m:\u001b[0m\u001b[0;34m\u001b[0m\u001b[0;34m\u001b[0m\u001b[0m\n\u001b[0m\u001b[1;32m     34\u001b[0m         \u001b[0;32mreturn\u001b[0m \u001b[0mdialog\u001b[0m\u001b[0;34m.\u001b[0m\u001b[0mpath\u001b[0m\u001b[0;34m\u001b[0m\u001b[0;34m\u001b[0m\u001b[0m\n\u001b[1;32m     35\u001b[0m     \u001b[0;32melse\u001b[0m\u001b[0;34m:\u001b[0m\u001b[0;34m\u001b[0m\u001b[0;34m\u001b[0m\u001b[0m\n",
      "\u001b[0;32m~/anaconda3/envs/mp/lib/python3.7/site-packages/pyface/i_dialog.py\u001b[0m in \u001b[0;36mopen\u001b[0;34m(self)\u001b[0m\n\u001b[1;32m    170\u001b[0m         \u001b[0;32mif\u001b[0m \u001b[0mself\u001b[0m\u001b[0;34m.\u001b[0m\u001b[0mstyle\u001b[0m \u001b[0;34m==\u001b[0m \u001b[0;34m'modal'\u001b[0m\u001b[0;34m:\u001b[0m\u001b[0;34m\u001b[0m\u001b[0;34m\u001b[0m\u001b[0m\n\u001b[1;32m    171\u001b[0m             \u001b[0mself\u001b[0m\u001b[0;34m.\u001b[0m\u001b[0mreturn_code\u001b[0m \u001b[0;34m=\u001b[0m \u001b[0mself\u001b[0m\u001b[0;34m.\u001b[0m\u001b[0m_show_modal\u001b[0m\u001b[0;34m(\u001b[0m\u001b[0;34m)\u001b[0m\u001b[0;34m\u001b[0m\u001b[0;34m\u001b[0m\u001b[0m\n\u001b[0;32m--> 172\u001b[0;31m             \u001b[0mself\u001b[0m\u001b[0;34m.\u001b[0m\u001b[0mclose\u001b[0m\u001b[0;34m(\u001b[0m\u001b[0;34m)\u001b[0m\u001b[0;34m\u001b[0m\u001b[0;34m\u001b[0m\u001b[0m\n\u001b[0m\u001b[1;32m    173\u001b[0m \u001b[0;34m\u001b[0m\u001b[0m\n\u001b[1;32m    174\u001b[0m         \u001b[0;32melse\u001b[0m\u001b[0;34m:\u001b[0m\u001b[0;34m\u001b[0m\u001b[0;34m\u001b[0m\u001b[0m\n",
      "\u001b[0;32m~/anaconda3/envs/mp/lib/python3.7/site-packages/pyface/ui/qt4/file_dialog.py\u001b[0m in \u001b[0;36mclose\u001b[0;34m(self)\u001b[0m\n\u001b[1;32m    103\u001b[0m         \u001b[0;31m# Get the index of the selected filter.\u001b[0m\u001b[0;34m\u001b[0m\u001b[0;34m\u001b[0m\u001b[0;34m\u001b[0m\u001b[0m\n\u001b[1;32m    104\u001b[0m         self.wildcard_index = self.control.nameFilters().index(\n\u001b[0;32m--> 105\u001b[0;31m             self.control.selectedNameFilter())\n\u001b[0m\u001b[1;32m    106\u001b[0m \u001b[0;34m\u001b[0m\u001b[0m\n\u001b[1;32m    107\u001b[0m         \u001b[0;31m# Let the window close as normal.\u001b[0m\u001b[0;34m\u001b[0m\u001b[0;34m\u001b[0m\u001b[0;34m\u001b[0m\u001b[0m\n",
      "\u001b[0;31mValueError\u001b[0m: '' is not in list"
     ]
    }
   ],
   "source": [
    "sim.init_sim()\n",
    "eps_data = sim.get_epsilon()\n",
    "\n",
    "show_3d_geo = True\n",
    "if show_3d_geo:\n",
    "    from mayavi import mlab\n",
    "    s = mlab.contour3d(eps_data, colormap=\"YlGnBu\")\n",
    "    mlab.show()"
   ]
  },
  {
   "cell_type": "markdown",
   "metadata": {},
   "source": [
    "cheeky run of the geometry"
   ]
  },
  {
   "cell_type": "code",
   "execution_count": 64,
   "metadata": {},
   "outputs": [
    {
     "name": "stdout",
     "output_type": "stream",
     "text": "((0, 0), (0, 1), (0, 1), (0, 2), (0, 2), (0, 1), (0, 1), (0, 2), (0, 2), (1, 1), (1, 2), (1, 2), (1, 2), (1, 2), (2, 2))\n"
    }
   ],
   "source": [
    "# A Python program to print all  \n",
    "# combinations of given length \n",
    "from itertools import combinations \n",
    "  \n",
    "# Get all combinations of [1, 2, 3] \n",
    "# and length 2 \n",
    "comb = combinations([0,0, 1,1, 2, 2], 2) \n",
    "print((*comb,))"
   ]
  },
  {
   "cell_type": "code",
   "execution_count": 65,
   "metadata": {},
   "outputs": [
    {
     "ename": "NameError",
     "evalue": "name 'voronoi_plot_3d' is not defined",
     "output_type": "error",
     "traceback": [
      "\u001b[0;31m---------------------------------------------------------------------------\u001b[0m",
      "\u001b[0;31mNameError\u001b[0m                                 Traceback (most recent call last)",
      "\u001b[0;32m<ipython-input-65-85cf7dd02472>\u001b[0m in \u001b[0;36m<module>\u001b[0;34m\u001b[0m\n\u001b[1;32m      4\u001b[0m \u001b[0mvor\u001b[0m \u001b[0;34m=\u001b[0m \u001b[0mVoronoi\u001b[0m\u001b[0;34m(\u001b[0m\u001b[0mpoints\u001b[0m\u001b[0;34m)\u001b[0m\u001b[0;34m\u001b[0m\u001b[0;34m\u001b[0m\u001b[0m\n\u001b[1;32m      5\u001b[0m \u001b[0;32mimport\u001b[0m \u001b[0mmatplotlib\u001b[0m\u001b[0;34m.\u001b[0m\u001b[0mpyplot\u001b[0m \u001b[0;32mas\u001b[0m \u001b[0mplt\u001b[0m\u001b[0;34m\u001b[0m\u001b[0;34m\u001b[0m\u001b[0m\n\u001b[0;32m----> 6\u001b[0;31m \u001b[0mvoronoi_plot_3d\u001b[0m\u001b[0;34m(\u001b[0m\u001b[0mvor\u001b[0m\u001b[0;34m)\u001b[0m\u001b[0;34m\u001b[0m\u001b[0;34m\u001b[0m\u001b[0m\n\u001b[0m\u001b[1;32m      7\u001b[0m \u001b[0mplt\u001b[0m\u001b[0;34m.\u001b[0m\u001b[0mshow\u001b[0m\u001b[0;34m(\u001b[0m\u001b[0;34m)\u001b[0m\u001b[0;34m\u001b[0m\u001b[0;34m\u001b[0m\u001b[0m\n",
      "\u001b[0;31mNameError\u001b[0m: name 'voronoi_plot_3d' is not defined"
     ]
    }
   ],
   "source": [
    "points = np.array([[0, 0], [0, 1], [0, 2], [1, 0], [1, 1], [1, 2],\n",
    "                   [2, 0], [2, 1], [2, 2]])\n",
    "from scipy.spatial import Voronoi, voronoi_plot_2d\n",
    "vor = Voronoi(points)\n",
    "import matplotlib.pyplot as plt\n",
    "voronoi_plot_3d(vor)\n",
    "plt.show()"
   ]
  },
  {
   "cell_type": "code",
   "execution_count": 7,
   "metadata": {},
   "outputs": [
    {
     "name": "stdout",
     "output_type": "stream",
     "text": "creating output file \"./eps-000000.00.h5\"...\ncreating output file \"./ez_small.h5\"...\nMeep progress: 0.43/20.0 = 2.1% done in 4.0s, 182.1s to go\non time step 46 (time=0.46), 0.0869736 s/step\nMeep progress: 1.2/20.0 = 6.0% done in 8.1s, 127.1s to go\non time step 121 (time=1.21), 0.0536495 s/step\nMeep progress: 1.99/20.0 = 9.9% done in 12.1s, 109.9s to go\non time step 200 (time=2), 0.0509718 s/step\nMeep progress: 2.82/20.0 = 14.1% done in 16.1s, 98.4s to go\non time step 283 (time=2.83), 0.0483065 s/step\nMeep progress: 3.6/20.0 = 18.0% done in 20.4s, 93.1s to go\non time step 360 (time=3.6), 0.0549899 s/step\nMeep progress: 4.3500000000000005/20.0 = 21.8% done in 24.5s, 88.1s to go\non time step 435 (time=4.35), 0.0539277 s/step\nMeep progress: 5.1000000000000005/20.0 = 25.5% done in 28.5s, 83.3s to go\non time step 510 (time=5.1), 0.0537785 s/step\nMeep progress: 5.86/20.0 = 29.3% done in 32.5s, 78.5s to go\non time step 586 (time=5.86), 0.0526459 s/step\nMeep progress: 6.59/20.0 = 32.9% done in 36.5s, 74.4s to go\non time step 659 (time=6.59), 0.0551609 s/step\nMeep progress: 7.3/20.0 = 36.5% done in 40.6s, 70.6s to go\non time step 730 (time=7.3), 0.0569693 s/step\nMeep progress: 8.06/20.0 = 40.3% done in 44.6s, 66.1s to go\non time step 806 (time=8.06), 0.0528323 s/step\nMeep progress: 8.84/20.0 = 44.2% done in 48.6s, 61.4s to go\non time step 884 (time=8.84), 0.0514709 s/step\nMeep progress: 9.6/20.0 = 48.0% done in 52.9s, 57.3s to go\non time step 960 (time=9.6), 0.056192 s/step\nMeep progress: 10.47/20.0 = 52.4% done in 56.9s, 51.8s to go\non time step 1047 (time=10.47), 0.0464372 s/step\nMeep progress: 11.290000000000001/20.0 = 56.5% done in 60.9s, 47.0s to go\non time step 1129 (time=11.29), 0.0488396 s/step\nMeep progress: 12.0/20.0 = 60.0% done in 64.9s, 43.3s to go\non time step 1200 (time=12), 0.0564977 s/step\nMeep progress: 12.75/20.0 = 63.8% done in 69.0s, 39.2s to go\non time step 1275 (time=12.75), 0.0539795 s/step\nMeep progress: 13.52/20.0 = 67.6% done in 73.0s, 35.0s to go\non time step 1352 (time=13.52), 0.0524117 s/step\nMeep progress: 14.32/20.0 = 71.6% done in 77.1s, 30.6s to go\non time step 1432 (time=14.32), 0.0503345 s/step\nMeep progress: 15.07/20.0 = 75.3% done in 81.1s, 26.5s to go\non time step 1507 (time=15.07), 0.0539832 s/step\nMeep progress: 15.860000000000001/20.0 = 79.3% done in 85.1s, 22.2s to go\non time step 1586 (time=15.86), 0.0508577 s/step\nMeep progress: 16.66/20.0 = 83.3% done in 89.2s, 17.9s to go\non time step 1666 (time=16.66), 0.0503864 s/step\nMeep progress: 17.400000000000002/20.0 = 87.0% done in 93.3s, 13.9s to go\non time step 1740 (time=17.4), 0.0553304 s/step\nMeep progress: 18.2/20.0 = 91.0% done in 97.3s, 9.6s to go\non time step 1820 (time=18.2), 0.0504442 s/step\nMeep progress: 19.02/20.0 = 95.1% done in 101.3s, 5.2s to go\non time step 1902 (time=19.02), 0.0489439 s/step\nMeep progress: 19.8/20.0 = 99.0% done in 105.4s, 1.1s to go\non time step 1980 (time=19.8), 0.0521649 s/step\nrun 0 finished at t = 20.0 (2000 timesteps)\n"
    }
   ],
   "source": [
    "sim.run(mp.at_beginning(mp.output_epsilon), \n",
    "       mp.to_appended(\"ez_small\", mp.at_every(0.6, mp.output_efield_z)),\n",
    "       until=20)"
   ]
  },
  {
   "cell_type": "markdown",
   "metadata": {},
   "source": [
    "visulization of the output field"
   ]
  },
  {
   "cell_type": "code",
   "execution_count": 38,
   "metadata": {},
   "outputs": [
    {
     "name": "stdout",
     "output_type": "stream",
     "text": [
      "(100, 100, 100)\n",
      "ez                       Dataset {100, 100, 100, 333/Inf}\n",
      "h5topng error: invalid colormap file\n"
     ]
    }
   ],
   "source": [
    "# ez_data = sim.get_array(center=mp.Vector3(), size=size_cell, component=mp.Ez)\n",
    "# print(ez_data.shape)\n",
    "get_gif_out = False\n",
    "\n",
    "if get_gif_out:\n",
    "    !h5ls ez.h5\n",
    "    !mkdir temp\n",
    "    !mv eps-000000.00.h5 temp/eps-000000.00.h5\n",
    "    !mv ez.h5 temp/ez.h5\n",
    "    import os\n",
    "    os.chdir('temp')\n",
    "    !h5topng -z 20 -t 0:332 -R -Zc dkbluered -a yarg -A eps-000000.00.h5 ez.h5\n",
    "    !convert ez.t*.png ez.gif\n",
    "    os.chdir('..')"
   ]
  },
  {
   "cell_type": "code",
   "execution_count": null,
   "metadata": {},
   "outputs": [],
   "source": []
  }
 ],
 "metadata": {
  "kernelspec": {
   "display_name": "Python 3.7.3 64-bit ('mp': conda)",
   "language": "python",
   "name": "python37364bitmpcondabd11d9e164314ef4a46c0e76fc56242b"
  },
  "language_info": {
   "codemirror_mode": {
    "name": "ipython",
    "version": 3
   },
   "file_extension": ".py",
   "mimetype": "text/x-python",
   "name": "python",
   "nbconvert_exporter": "python",
   "pygments_lexer": "ipython3",
   "version": "3.7.3-final"
  }
 },
 "nbformat": 4,
 "nbformat_minor": 2
}