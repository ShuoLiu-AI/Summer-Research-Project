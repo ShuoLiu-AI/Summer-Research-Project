{
 "cells": [
  {
   "cell_type": "code",
   "execution_count": 9,
   "metadata": {},
   "outputs": [],
   "source": [
    "# import meep as mp\n",
    "import numpy as np\n",
    "import math\n",
    "import matplotlib.pyplot as plt\n",
    "import pickle\n",
    "from numpy import cos, sin\n",
    "import json"
   ]
  },
  {
   "cell_type": "markdown",
   "metadata": {},
   "source": [
    "# create geometric and write it to a file"
   ]
  },
  {
   "cell_type": "markdown",
   "metadata": {},
   "source": [
    "generate random numbers"
   ]
  },
  {
   "cell_type": "code",
   "execution_count": 2,
   "metadata": {},
   "outputs": [],
   "source": [
    "np.random.seed(15)\n",
    "\n",
    "mean= (0, 0, 0)\n",
    "cov = [[0.1, 0, 0], [0, 0.1, 0], [0, 0, 0.1]]\n",
    "num_crystal = 10\n",
    "loc = np.random.multivariate_normal(mean, cov, (num_crystal))\n",
    "theta_x = np.random.uniform(0, 2*np.pi, num_crystal)\n",
    "theta_y = np.random.uniform(0, 2*np.pi, num_crystal)\n",
    "theta_z = np.random.uniform(0, 2*np.pi, num_crystal)"
   ]
  },
  {
   "cell_type": "code",
   "execution_count": 3,
   "metadata": {},
   "outputs": [],
   "source": [
    "R = np.empty((10, 3, 3))\n",
    "\n",
    "Rx_matrix = np.empty((num_crystal, 3, 3))\n",
    "Ry_matrix = np.empty((num_crystal, 3, 3))\n",
    "Rz_matrix = np.empty((num_crystal, 3, 3))\n",
    "\n",
    "for i in range(num_crystal):\n",
    "    Rx_matrix[i, :, :] = np.array([[1, 0, 0],\n",
    "                   [0, cos(theta_x[i]), -sin(theta_x[i])], \n",
    "                  [0, sin(theta_x[i]), cos(theta_x[i])]])\n",
    "    \n",
    "    Ry_matrix[i, :, :] = np.array([[cos(theta_y[i]), 0, sin(theta_y[i])], \n",
    "                  [0, 1, 0],\n",
    "                  [-sin(theta_y[i]), 0, cos(theta_y[i])]])\n",
    "    \n",
    "    Rz_matrix[i, :, :] = np.array([[cos(theta_z[i]), -sin(theta_z[i]), 0],\n",
    "                 [sin(theta_z[i]), cos(theta_z[i]), 0],\n",
    "                 [0, 0, 1]])\n",
    "\n",
    "    R[i, :, :] = np.matmul(np.matmul(Ry_matrix[i, :, :], Rx_matrix[i, :, :]), Rz_matrix[i, :, :])\n",
    "\n",
    "# size_cell = mp.Vector3(2,2,2)\n",
    "# size_solid = mp.Vector3(1, 1, 1)\n",
    "# solid_region = mp.Block(size_solid, \n",
    "#                     center = mp.Vector3(0, 0, 0),\n",
    "#                     material=mp.Medium(epsilon=8.5))\n",
    "# size_crystal = mp.Vector3(0.2, 0.2, 0.2)\n",
    "\n",
    "og_x = np.array([[1, 0, 0] for i in range(num_crystal)])\n",
    "og_y = np.array([[0, 1, 0] for i in range(num_crystal)])\n",
    "og_z = np.array([[0, 0, 1] for i in range(num_crystal)])\n",
    "\n",
    "Rx_vector = np.empty((num_crystal, 3))\n",
    "Ry_vector = np.empty((num_crystal, 3))\n",
    "Rz_vector = np.empty((num_crystal, 3))\n",
    "\n",
    "for i in range(num_crystal):\n",
    "    Rx_vector[i, :] = np.matmul(R[i, :, :], og_x[i, :])\n",
    "    Ry_vector[i, :] = np.matmul(R[i, :, :], og_y[i, :])\n",
    "    Rz_vector[i, :] = np.matmul(R[i, :, :], og_z[i, :])\n",
    "\n",
    "# geometry = [solid_region,]\n",
    "\n",
    "# for i in range(num_crystal):\n",
    "#     if (np.abs(loc[i, 0]) < size_solid[0] - size_crystal[0]/2 and \n",
    "#     np.abs(loc[i, 1]) < size_solid[1] - size_crystal[1]/2 and \n",
    "#     np.abs(loc[i, 2]) < size_solid[2] - size_crystal[2]/2):\n",
    "#         geometry.append(mp.Block(\n",
    "#             size_crystal,\n",
    "#             center = mp.Vector3(loc[i, 0], loc[i, 1], loc[i, 2]),\n",
    "#             e1 = Rx[i, :],\n",
    "#             e2 = Ry[i, :],\n",
    "#             e3 = Rz[i, :],\n",
    "#             material=mp.Medium(epsilon=10.5)))\n",
    "\n"
   ]
  },
  {
   "cell_type": "code",
   "execution_count": 18,
   "metadata": {},
   "outputs": [],
   "source": [
    "export_geo = True\n",
    "\n",
    "if export_geo:\n",
    "    file_name = 'geometry.peter'\n",
    "    to_write = [loc, Rx_matrix, Ry_matrix, Rz_matrix, theta_x, theta_y, theta_z]\n",
    "    for i in range(len(to_write)):\n",
    "        to_write[i] = to_write[i].tolist()\n",
    "    with open(file_name, 'w') as f:\n",
    "        json.dump(to_write, f)\n",
    "    \n",
    "#\\\\ad.monash.edu\\home\\User045\\dche145\\Documents\\Abaqus\\geometry_shapes\n",
    "#\\\\Client\\D$\\source\\working_with_meep"
   ]
  },
  {
   "cell_type": "markdown",
   "metadata": {},
   "source": [
    "Create the visualization for visual inspection"
   ]
  },
  {
   "cell_type": "code",
   "execution_count": 5,
   "metadata": {},
   "outputs": [],
   "source": [
    "pml_layers = [mp.PML(0.3)]\n",
    "\n",
    "source_pad = 0.25\n",
    "source = [mp.Source(mp.ContinuousSource(wavelength=2*(11**0.5), width=20),\n",
    "                   component=mp.Ez,\n",
    "                   center=mp.Vector3(0.75, 0, 0),\n",
    "                   size=mp.Vector3(0, 0.1, 0.1))]\n",
    "sim = mp.Simulation(resolution=50,\n",
    "                    cell_size=size_cell,\n",
    "                    boundary_layers=pml_layers,\n",
    "                    sources = source,\n",
    "                    geometry=geometry)\n"
   ]
  },
  {
   "cell_type": "markdown",
   "metadata": {},
   "source": [
    "Quick visulization of the generated geometry"
   ]
  },
  {
   "cell_type": "code",
   "execution_count": 7,
   "metadata": {},
   "outputs": [],
   "source": [
    "sim.init_sim()\n",
    "eps_data = sim.get_epsilon()\n",
    "\n",
    "show_3d_geo = True\n",
    "if show_3d_geo:\n",
    "    from mayavi import mlab\n",
    "    s = mlab.contour3d(eps_data, colormap=\"YlGnBu\")\n",
    "    mlab.show()"
   ]
  },
  {
   "cell_type": "markdown",
   "metadata": {},
   "source": [
    "cheeky run of the geometry"
   ]
  },
  {
   "cell_type": "code",
   "execution_count": 7,
   "metadata": {},
   "outputs": [
    {
     "name": "stdout",
     "output_type": "stream",
     "text": "creating output file \"./eps-000000.00.h5\"...\ncreating output file \"./ez_small.h5\"...\nMeep progress: 0.43/20.0 = 2.1% done in 4.0s, 182.1s to go\non time step 46 (time=0.46), 0.0869736 s/step\nMeep progress: 1.2/20.0 = 6.0% done in 8.1s, 127.1s to go\non time step 121 (time=1.21), 0.0536495 s/step\nMeep progress: 1.99/20.0 = 9.9% done in 12.1s, 109.9s to go\non time step 200 (time=2), 0.0509718 s/step\nMeep progress: 2.82/20.0 = 14.1% done in 16.1s, 98.4s to go\non time step 283 (time=2.83), 0.0483065 s/step\nMeep progress: 3.6/20.0 = 18.0% done in 20.4s, 93.1s to go\non time step 360 (time=3.6), 0.0549899 s/step\nMeep progress: 4.3500000000000005/20.0 = 21.8% done in 24.5s, 88.1s to go\non time step 435 (time=4.35), 0.0539277 s/step\nMeep progress: 5.1000000000000005/20.0 = 25.5% done in 28.5s, 83.3s to go\non time step 510 (time=5.1), 0.0537785 s/step\nMeep progress: 5.86/20.0 = 29.3% done in 32.5s, 78.5s to go\non time step 586 (time=5.86), 0.0526459 s/step\nMeep progress: 6.59/20.0 = 32.9% done in 36.5s, 74.4s to go\non time step 659 (time=6.59), 0.0551609 s/step\nMeep progress: 7.3/20.0 = 36.5% done in 40.6s, 70.6s to go\non time step 730 (time=7.3), 0.0569693 s/step\nMeep progress: 8.06/20.0 = 40.3% done in 44.6s, 66.1s to go\non time step 806 (time=8.06), 0.0528323 s/step\nMeep progress: 8.84/20.0 = 44.2% done in 48.6s, 61.4s to go\non time step 884 (time=8.84), 0.0514709 s/step\nMeep progress: 9.6/20.0 = 48.0% done in 52.9s, 57.3s to go\non time step 960 (time=9.6), 0.056192 s/step\nMeep progress: 10.47/20.0 = 52.4% done in 56.9s, 51.8s to go\non time step 1047 (time=10.47), 0.0464372 s/step\nMeep progress: 11.290000000000001/20.0 = 56.5% done in 60.9s, 47.0s to go\non time step 1129 (time=11.29), 0.0488396 s/step\nMeep progress: 12.0/20.0 = 60.0% done in 64.9s, 43.3s to go\non time step 1200 (time=12), 0.0564977 s/step\nMeep progress: 12.75/20.0 = 63.8% done in 69.0s, 39.2s to go\non time step 1275 (time=12.75), 0.0539795 s/step\nMeep progress: 13.52/20.0 = 67.6% done in 73.0s, 35.0s to go\non time step 1352 (time=13.52), 0.0524117 s/step\nMeep progress: 14.32/20.0 = 71.6% done in 77.1s, 30.6s to go\non time step 1432 (time=14.32), 0.0503345 s/step\nMeep progress: 15.07/20.0 = 75.3% done in 81.1s, 26.5s to go\non time step 1507 (time=15.07), 0.0539832 s/step\nMeep progress: 15.860000000000001/20.0 = 79.3% done in 85.1s, 22.2s to go\non time step 1586 (time=15.86), 0.0508577 s/step\nMeep progress: 16.66/20.0 = 83.3% done in 89.2s, 17.9s to go\non time step 1666 (time=16.66), 0.0503864 s/step\nMeep progress: 17.400000000000002/20.0 = 87.0% done in 93.3s, 13.9s to go\non time step 1740 (time=17.4), 0.0553304 s/step\nMeep progress: 18.2/20.0 = 91.0% done in 97.3s, 9.6s to go\non time step 1820 (time=18.2), 0.0504442 s/step\nMeep progress: 19.02/20.0 = 95.1% done in 101.3s, 5.2s to go\non time step 1902 (time=19.02), 0.0489439 s/step\nMeep progress: 19.8/20.0 = 99.0% done in 105.4s, 1.1s to go\non time step 1980 (time=19.8), 0.0521649 s/step\nrun 0 finished at t = 20.0 (2000 timesteps)\n"
    }
   ],
   "source": [
    "sim.run(mp.at_beginning(mp.output_epsilon), \n",
    "       mp.to_appended(\"ez_small\", mp.at_every(0.6, mp.output_efield_z)),\n",
    "       until=20)"
   ]
  },
  {
   "cell_type": "markdown",
   "metadata": {},
   "source": [
    "visulization of the output field"
   ]
  },
  {
   "cell_type": "code",
   "execution_count": 38,
   "metadata": {},
   "outputs": [
    {
     "name": "stdout",
     "output_type": "stream",
     "text": [
      "(100, 100, 100)\n",
      "ez                       Dataset {100, 100, 100, 333/Inf}\n",
      "h5topng error: invalid colormap file\n"
     ]
    }
   ],
   "source": [
    "# ez_data = sim.get_array(center=mp.Vector3(), size=size_cell, component=mp.Ez)\n",
    "# print(ez_data.shape)\n",
    "get_gif_out = False\n",
    "\n",
    "if get_gif_out:\n",
    "    !h5ls ez.h5\n",
    "    !mkdir temp\n",
    "    !mv eps-000000.00.h5 temp/eps-000000.00.h5\n",
    "    !mv ez.h5 temp/ez.h5\n",
    "    import os\n",
    "    os.chdir('temp')\n",
    "    !h5topng -z 20 -t 0:332 -R -Zc dkbluered -a yarg -A eps-000000.00.h5 ez.h5\n",
    "    !convert ez.t*.png ez.gif\n",
    "    os.chdir('..')"
   ]
  },
  {
   "cell_type": "code",
   "execution_count": null,
   "metadata": {},
   "outputs": [],
   "source": []
  }
 ],
 "metadata": {
  "kernelspec": {
   "display_name": "Python 3",
   "language": "python",
   "name": "python3"
  },
  "language_info": {
   "codemirror_mode": {
    "name": "ipython",
    "version": 3
   },
   "file_extension": ".py",
   "mimetype": "text/x-python",
   "name": "python",
   "nbconvert_exporter": "python",
   "pygments_lexer": "ipython3",
   "version": "3.7.4"
  }
 },
 "nbformat": 4,
 "nbformat_minor": 2
}